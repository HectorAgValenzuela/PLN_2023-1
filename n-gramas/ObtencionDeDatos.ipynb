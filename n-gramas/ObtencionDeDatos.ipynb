{
 "cells": [
  {
   "attachments": {},
   "cell_type": "markdown",
   "metadata": {},
   "source": [
    "# Importaciones\n",
    "* Importamos la librería pandas para manipular facilmente los archivos .cvs\n",
    "* Importamos la librería glob para leer los archivos .cvs facilmente"
   ]
  },
  {
   "cell_type": "code",
   "execution_count": 10,
   "metadata": {},
   "outputs": [],
   "source": [
    "import pandas as pd\n",
    "import glob"
   ]
  },
  {
   "attachments": {},
   "cell_type": "markdown",
   "metadata": {},
   "source": [
    "# Limpieza de los datos\n",
    "En la siguiente linea de código se usa la función <code>glob</code> para generalizar las carpetas de el dataset para extraer todos los <code>.cvs</code> de el mes de enero\n"
   ]
  },
  {
   "cell_type": "code",
   "execution_count": 11,
   "metadata": {},
   "outputs": [],
   "source": [
    "csv_files = glob.glob('2022/1-2022/enero *, 2022/mananera_*_01_2022.csv')"
   ]
  },
  {
   "attachments": {},
   "cell_type": "markdown",
   "metadata": {},
   "source": [
    "Ahora que tenemos las rutas, iteramos sobre llas y guardamos todos los datos en una lista llamada <code>filelist</code>\n"
   ]
  },
  {
   "cell_type": "code",
   "execution_count": 12,
   "metadata": {},
   "outputs": [],
   "source": [
    "filelist = []\n",
    "for file in csv_files:\n",
    "    df = pd.read_csv(file)\n",
    "    filelist.append(df)"
   ]
  },
  {
   "cell_type": "code",
   "execution_count": 13,
   "metadata": {},
   "outputs": [
    {
     "data": {
      "text/plain": [
       "17"
      ]
     },
     "execution_count": 13,
     "metadata": {},
     "output_type": "execute_result"
    }
   ],
   "source": [
    "# TODO: Por alguna razón sólo toma 17 días del mes, habrá que revisar eso\n",
    "len(filelist)"
   ]
  },
  {
   "attachments": {},
   "cell_type": "markdown",
   "metadata": {},
   "source": [
    "Observamos uno de los dataframes de la lista"
   ]
  },
  {
   "cell_type": "code",
   "execution_count": 14,
   "metadata": {},
   "outputs": [
    {
     "data": {
      "text/html": [
       "<div>\n",
       "<style scoped>\n",
       "    .dataframe tbody tr th:only-of-type {\n",
       "        vertical-align: middle;\n",
       "    }\n",
       "\n",
       "    .dataframe tbody tr th {\n",
       "        vertical-align: top;\n",
       "    }\n",
       "\n",
       "    .dataframe thead th {\n",
       "        text-align: right;\n",
       "    }\n",
       "</style>\n",
       "<table border=\"1\" class=\"dataframe\">\n",
       "  <thead>\n",
       "    <tr style=\"text-align: right;\">\n",
       "      <th></th>\n",
       "      <th>Participante</th>\n",
       "      <th>Texto</th>\n",
       "      <th>Sentimiento</th>\n",
       "      <th>Palabras</th>\n",
       "      <th>Dia</th>\n",
       "      <th>Mes</th>\n",
       "      <th>Anio</th>\n",
       "    </tr>\n",
       "  </thead>\n",
       "  <tbody>\n",
       "    <tr>\n",
       "      <th>0</th>\n",
       "      <td>PRESIDENTE ANDRES MANUEL LOPEZ OBRADOR</td>\n",
       "      <td>Buenos días.</td>\n",
       "      <td>0.0</td>\n",
       "      <td>2</td>\n",
       "      <td>18</td>\n",
       "      <td>1</td>\n",
       "      <td>2022</td>\n",
       "    </tr>\n",
       "    <tr>\n",
       "      <th>1</th>\n",
       "      <td>PRESIDENTE ANDRES MANUEL LOPEZ OBRADOR</td>\n",
       "      <td>Pues vamos a informar, como todos los martes, ...</td>\n",
       "      <td>0.0</td>\n",
       "      <td>52</td>\n",
       "      <td>18</td>\n",
       "      <td>1</td>\n",
       "      <td>2022</td>\n",
       "    </tr>\n",
       "    <tr>\n",
       "      <th>2</th>\n",
       "      <td>JORGE ALCOCER VARELA</td>\n",
       "      <td>Con su permiso, señor presidente.</td>\n",
       "      <td>0.0</td>\n",
       "      <td>5</td>\n",
       "      <td>18</td>\n",
       "      <td>1</td>\n",
       "      <td>2022</td>\n",
       "    </tr>\n",
       "    <tr>\n",
       "      <th>3</th>\n",
       "      <td>JORGE ALCOCER VARELA</td>\n",
       "      <td>Muy buenos días a todas y a todos ustedes.</td>\n",
       "      <td>0.0</td>\n",
       "      <td>9</td>\n",
       "      <td>18</td>\n",
       "      <td>1</td>\n",
       "      <td>2022</td>\n",
       "    </tr>\n",
       "    <tr>\n",
       "      <th>4</th>\n",
       "      <td>JORGE ALCOCER VARELA</td>\n",
       "      <td>Como señala el señor presidente, en este momen...</td>\n",
       "      <td>0.0</td>\n",
       "      <td>55</td>\n",
       "      <td>18</td>\n",
       "      <td>1</td>\n",
       "      <td>2022</td>\n",
       "    </tr>\n",
       "    <tr>\n",
       "      <th>...</th>\n",
       "      <td>...</td>\n",
       "      <td>...</td>\n",
       "      <td>...</td>\n",
       "      <td>...</td>\n",
       "      <td>...</td>\n",
       "      <td>...</td>\n",
       "      <td>...</td>\n",
       "    </tr>\n",
       "    <tr>\n",
       "      <th>353</th>\n",
       "      <td>PRESIDENTE ANDRES MANUEL LOPEZ OBRADOR</td>\n",
       "      <td>Todo esto lo comento porque sí hay toda una ca...</td>\n",
       "      <td>0.0</td>\n",
       "      <td>46</td>\n",
       "      <td>18</td>\n",
       "      <td>1</td>\n",
       "      <td>2022</td>\n",
       "    </tr>\n",
       "    <tr>\n",
       "      <th>354</th>\n",
       "      <td>PRESIDENTE ANDRES MANUEL LOPEZ OBRADOR</td>\n",
       "      <td>Nada más porque por respeto no hablo de que en...</td>\n",
       "      <td>0.0</td>\n",
       "      <td>41</td>\n",
       "      <td>18</td>\n",
       "      <td>1</td>\n",
       "      <td>2022</td>\n",
       "    </tr>\n",
       "    <tr>\n",
       "      <th>355</th>\n",
       "      <td>PREGUNTA</td>\n",
       "      <td>¿Contra Del Mazo?</td>\n",
       "      <td>0.0</td>\n",
       "      <td>3</td>\n",
       "      <td>18</td>\n",
       "      <td>1</td>\n",
       "      <td>2022</td>\n",
       "    </tr>\n",
       "    <tr>\n",
       "      <th>356</th>\n",
       "      <td>PRESIDENTE ANDRES MANUEL LOPEZ OBRADOR</td>\n",
       "      <td>Y contra otras candidatas, que me enteré que ...</td>\n",
       "      <td>0.0</td>\n",
       "      <td>49</td>\n",
       "      <td>18</td>\n",
       "      <td>1</td>\n",
       "      <td>2022</td>\n",
       "    </tr>\n",
       "    <tr>\n",
       "      <th>357</th>\n",
       "      <td>PRESIDENTE ANDRES MANUEL LOPEZ OBRADOR</td>\n",
       "      <td>Bueno, nos vemos mañana.</td>\n",
       "      <td>0.0</td>\n",
       "      <td>4</td>\n",
       "      <td>18</td>\n",
       "      <td>1</td>\n",
       "      <td>2022</td>\n",
       "    </tr>\n",
       "  </tbody>\n",
       "</table>\n",
       "<p>358 rows × 7 columns</p>\n",
       "</div>"
      ],
      "text/plain": [
       "                               Participante  \\\n",
       "0    PRESIDENTE ANDRES MANUEL LOPEZ OBRADOR   \n",
       "1    PRESIDENTE ANDRES MANUEL LOPEZ OBRADOR   \n",
       "2                      JORGE ALCOCER VARELA   \n",
       "3                      JORGE ALCOCER VARELA   \n",
       "4                      JORGE ALCOCER VARELA   \n",
       "..                                      ...   \n",
       "353  PRESIDENTE ANDRES MANUEL LOPEZ OBRADOR   \n",
       "354  PRESIDENTE ANDRES MANUEL LOPEZ OBRADOR   \n",
       "355                                PREGUNTA   \n",
       "356  PRESIDENTE ANDRES MANUEL LOPEZ OBRADOR   \n",
       "357  PRESIDENTE ANDRES MANUEL LOPEZ OBRADOR   \n",
       "\n",
       "                                                 Texto  Sentimiento  Palabras  \\\n",
       "0                                         Buenos días.          0.0         2   \n",
       "1    Pues vamos a informar, como todos los martes, ...          0.0        52   \n",
       "2                    Con su permiso, señor presidente.          0.0         5   \n",
       "3           Muy buenos días a todas y a todos ustedes.          0.0         9   \n",
       "4    Como señala el señor presidente, en este momen...          0.0        55   \n",
       "..                                                 ...          ...       ...   \n",
       "353  Todo esto lo comento porque sí hay toda una ca...          0.0        46   \n",
       "354  Nada más porque por respeto no hablo de que en...          0.0        41   \n",
       "355                                  ¿Contra Del Mazo?          0.0         3   \n",
       "356   Y contra otras candidatas, que me enteré que ...          0.0        49   \n",
       "357                           Bueno, nos vemos mañana.          0.0         4   \n",
       "\n",
       "     Dia  Mes  Anio  \n",
       "0     18    1  2022  \n",
       "1     18    1  2022  \n",
       "2     18    1  2022  \n",
       "3     18    1  2022  \n",
       "4     18    1  2022  \n",
       "..   ...  ...   ...  \n",
       "353   18    1  2022  \n",
       "354   18    1  2022  \n",
       "355   18    1  2022  \n",
       "356   18    1  2022  \n",
       "357   18    1  2022  \n",
       "\n",
       "[358 rows x 7 columns]"
      ]
     },
     "execution_count": 14,
     "metadata": {},
     "output_type": "execute_result"
    }
   ],
   "source": [
    "filelist[2]"
   ]
  },
  {
   "attachments": {},
   "cell_type": "markdown",
   "metadata": {},
   "source": [
    "Ahora limpiamos columas que no nos sirven mediante ala función <code>drop()</code> de pandas\n",
    "\n",
    "Después filtramos los particintes para que sólo sean el presidente"
   ]
  },
  {
   "cell_type": "code",
   "execution_count": 39,
   "metadata": {},
   "outputs": [],
   "source": [
    "filteredDf = []\n",
    "for df in filelist:\n",
    "    df = df.drop(['Sentimiento', 'Palabras', 'Dia', 'Mes', 'Anio'], axis=1)\n",
    "    df = df[df['Participante'] == 'PRESIDENTE ANDRES MANUEL LOPEZ OBRADOR']\n",
    "    filteredDf.append(df)\n"
   ]
  },
  {
   "attachments": {},
   "cell_type": "markdown",
   "metadata": {},
   "source": [
    "Observamos una de los dataframes para confirmar que las columnas se eliminaron y sólo hay participaciones del presidente\n"
   ]
  },
  {
   "cell_type": "code",
   "execution_count": 42,
   "metadata": {},
   "outputs": [
    {
     "data": {
      "text/html": [
       "<div>\n",
       "<style scoped>\n",
       "    .dataframe tbody tr th:only-of-type {\n",
       "        vertical-align: middle;\n",
       "    }\n",
       "\n",
       "    .dataframe tbody tr th {\n",
       "        vertical-align: top;\n",
       "    }\n",
       "\n",
       "    .dataframe thead th {\n",
       "        text-align: right;\n",
       "    }\n",
       "</style>\n",
       "<table border=\"1\" class=\"dataframe\">\n",
       "  <thead>\n",
       "    <tr style=\"text-align: right;\">\n",
       "      <th></th>\n",
       "      <th>Participante</th>\n",
       "      <th>Texto</th>\n",
       "    </tr>\n",
       "  </thead>\n",
       "  <tbody>\n",
       "    <tr>\n",
       "      <th>0</th>\n",
       "      <td>PRESIDENTE ANDRES MANUEL LOPEZ OBRADOR</td>\n",
       "      <td>Buenos días.</td>\n",
       "    </tr>\n",
       "    <tr>\n",
       "      <th>1</th>\n",
       "      <td>PRESIDENTE ANDRES MANUEL LOPEZ OBRADOR</td>\n",
       "      <td>Pues vamos a informar, como todos los martes, ...</td>\n",
       "    </tr>\n",
       "    <tr>\n",
       "      <th>80</th>\n",
       "      <td>PRESIDENTE ANDRES MANUEL LOPEZ OBRADOR</td>\n",
       "      <td>Vamos a tener unos enlaces de vacunación a pe...</td>\n",
       "    </tr>\n",
       "    <tr>\n",
       "      <th>83</th>\n",
       "      <td>PRESIDENTE ANDRES MANUEL LOPEZ OBRADOR</td>\n",
       "      <td>¿No hay forma de mejorar? A ver, vamos a ver ...</td>\n",
       "    </tr>\n",
       "    <tr>\n",
       "      <th>84</th>\n",
       "      <td>PRESIDENTE ANDRES MANUEL LOPEZ OBRADOR</td>\n",
       "      <td>Adelante, Aguascalientes, ciudadano gobernador.</td>\n",
       "    </tr>\n",
       "    <tr>\n",
       "      <th>...</th>\n",
       "      <td>...</td>\n",
       "      <td>...</td>\n",
       "    </tr>\n",
       "    <tr>\n",
       "      <th>352</th>\n",
       "      <td>PRESIDENTE ANDRES MANUEL LOPEZ OBRADOR</td>\n",
       "      <td>Pero ella sigue viviendo en Texcoco, en su mis...</td>\n",
       "    </tr>\n",
       "    <tr>\n",
       "      <th>353</th>\n",
       "      <td>PRESIDENTE ANDRES MANUEL LOPEZ OBRADOR</td>\n",
       "      <td>Todo esto lo comento porque sí hay toda una ca...</td>\n",
       "    </tr>\n",
       "    <tr>\n",
       "      <th>354</th>\n",
       "      <td>PRESIDENTE ANDRES MANUEL LOPEZ OBRADOR</td>\n",
       "      <td>Nada más porque por respeto no hablo de que en...</td>\n",
       "    </tr>\n",
       "    <tr>\n",
       "      <th>356</th>\n",
       "      <td>PRESIDENTE ANDRES MANUEL LOPEZ OBRADOR</td>\n",
       "      <td>Y contra otras candidatas, que me enteré que ...</td>\n",
       "    </tr>\n",
       "    <tr>\n",
       "      <th>357</th>\n",
       "      <td>PRESIDENTE ANDRES MANUEL LOPEZ OBRADOR</td>\n",
       "      <td>Bueno, nos vemos mañana.</td>\n",
       "    </tr>\n",
       "  </tbody>\n",
       "</table>\n",
       "<p>121 rows × 2 columns</p>\n",
       "</div>"
      ],
      "text/plain": [
       "                               Participante  \\\n",
       "0    PRESIDENTE ANDRES MANUEL LOPEZ OBRADOR   \n",
       "1    PRESIDENTE ANDRES MANUEL LOPEZ OBRADOR   \n",
       "80   PRESIDENTE ANDRES MANUEL LOPEZ OBRADOR   \n",
       "83   PRESIDENTE ANDRES MANUEL LOPEZ OBRADOR   \n",
       "84   PRESIDENTE ANDRES MANUEL LOPEZ OBRADOR   \n",
       "..                                      ...   \n",
       "352  PRESIDENTE ANDRES MANUEL LOPEZ OBRADOR   \n",
       "353  PRESIDENTE ANDRES MANUEL LOPEZ OBRADOR   \n",
       "354  PRESIDENTE ANDRES MANUEL LOPEZ OBRADOR   \n",
       "356  PRESIDENTE ANDRES MANUEL LOPEZ OBRADOR   \n",
       "357  PRESIDENTE ANDRES MANUEL LOPEZ OBRADOR   \n",
       "\n",
       "                                                 Texto  \n",
       "0                                         Buenos días.  \n",
       "1    Pues vamos a informar, como todos los martes, ...  \n",
       "80    Vamos a tener unos enlaces de vacunación a pe...  \n",
       "83    ¿No hay forma de mejorar? A ver, vamos a ver ...  \n",
       "84     Adelante, Aguascalientes, ciudadano gobernador.  \n",
       "..                                                 ...  \n",
       "352  Pero ella sigue viviendo en Texcoco, en su mis...  \n",
       "353  Todo esto lo comento porque sí hay toda una ca...  \n",
       "354  Nada más porque por respeto no hablo de que en...  \n",
       "356   Y contra otras candidatas, que me enteré que ...  \n",
       "357                           Bueno, nos vemos mañana.  \n",
       "\n",
       "[121 rows x 2 columns]"
      ]
     },
     "execution_count": 42,
     "metadata": {},
     "output_type": "execute_result"
    }
   ],
   "source": [
    "filteredDf[2]"
   ]
  }
 ],
 "metadata": {
  "kernelspec": {
   "display_name": "Python 3",
   "language": "python",
   "name": "python3"
  },
  "language_info": {
   "codemirror_mode": {
    "name": "ipython",
    "version": 3
   },
   "file_extension": ".py",
   "mimetype": "text/x-python",
   "name": "python",
   "nbconvert_exporter": "python",
   "pygments_lexer": "ipython3",
   "version": "3.11.2"
  },
  "orig_nbformat": 4,
  "vscode": {
   "interpreter": {
    "hash": "42fe2521991ce668210cff6e1c62959905284a5dc1077ee025bbb92f9d2c0e2e"
   }
  }
 },
 "nbformat": 4,
 "nbformat_minor": 2
}
