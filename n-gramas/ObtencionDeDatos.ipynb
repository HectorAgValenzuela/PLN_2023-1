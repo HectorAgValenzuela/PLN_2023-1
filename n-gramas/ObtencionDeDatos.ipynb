{
 "cells": [
  {
   "attachments": {},
   "cell_type": "markdown",
   "metadata": {},
   "source": [
    "# Creditos\n",
    "\n",
    "Los datos de la manianera los obtuvimos del grupo @nostrodata\n",
    "* GitHub : https://github.com/NOSTRODATA/conferencias_matutinas_amlo"
   ]
  },
  {
   "attachments": {},
   "cell_type": "markdown",
   "metadata": {},
   "source": [
    "# Importaciones\n",
    "* Importamos la librería pandas para manipular fácilmente los archivos <code>.csv</code>.\n",
    "* Importamos la librería glob para leer fácilmente los archivos <code>.csv</code>."
   ]
  },
  {
   "cell_type": "code",
   "execution_count": 20,
   "metadata": {},
   "outputs": [],
   "source": [
    "import pandas as pd\n",
    "import glob\n",
    "import re\n",
    "import random as rd"
   ]
  },
  {
   "attachments": {},
   "cell_type": "markdown",
   "metadata": {},
   "source": [
    "# Limpieza de los datos\n",
    "En la siguiente linea de código se usa la función <code>glob</code> para generalizar las carpetas del dataset para extraer todos los <code>.csv</code> de el mes de enero.\n"
   ]
  },
  {
   "cell_type": "code",
   "execution_count": 6,
   "metadata": {},
   "outputs": [],
   "source": [
    "csv_files = glob.glob('conferenciasMatutinasAmlo/2022/1-2022/enero */mananera_*_01_2022.csv')\n",
    "# print(csv_files)"
   ]
  },
  {
   "attachments": {},
   "cell_type": "markdown",
   "metadata": {},
   "source": [
    "Ahora que tenemos las rutas, iteramos sobre ellas y guardamos todos los datos en una lista llamada <code>filelist</code>.\n"
   ]
  },
  {
   "cell_type": "code",
   "execution_count": 7,
   "metadata": {},
   "outputs": [],
   "source": [
    "filelist = []\n",
    "for file in csv_files:\n",
    "    df = pd.read_csv(file)\n",
    "    filelist.append(df)"
   ]
  },
  {
   "cell_type": "code",
   "execution_count": 8,
   "metadata": {},
   "outputs": [
    {
     "data": {
      "text/plain": [
       "17"
      ]
     },
     "execution_count": 8,
     "metadata": {},
     "output_type": "execute_result"
    }
   ],
   "source": [
    "# Numero de manianeras de enero 2022\n",
    "len(filelist)"
   ]
  },
  {
   "attachments": {},
   "cell_type": "markdown",
   "metadata": {},
   "source": [
    "Observamos uno de los dataframes de la lista."
   ]
  },
  {
   "cell_type": "code",
   "execution_count": 9,
   "metadata": {},
   "outputs": [
    {
     "data": {
      "text/html": [
       "<div>\n",
       "<style scoped>\n",
       "    .dataframe tbody tr th:only-of-type {\n",
       "        vertical-align: middle;\n",
       "    }\n",
       "\n",
       "    .dataframe tbody tr th {\n",
       "        vertical-align: top;\n",
       "    }\n",
       "\n",
       "    .dataframe thead th {\n",
       "        text-align: right;\n",
       "    }\n",
       "</style>\n",
       "<table border=\"1\" class=\"dataframe\">\n",
       "  <thead>\n",
       "    <tr style=\"text-align: right;\">\n",
       "      <th></th>\n",
       "      <th>Participante</th>\n",
       "      <th>Texto</th>\n",
       "      <th>Sentimiento</th>\n",
       "      <th>Palabras</th>\n",
       "      <th>Dia</th>\n",
       "      <th>Mes</th>\n",
       "      <th>Anio</th>\n",
       "    </tr>\n",
       "  </thead>\n",
       "  <tbody>\n",
       "    <tr>\n",
       "      <th>0</th>\n",
       "      <td>PRESIDENTE ANDRES MANUEL LOPEZ OBRADOR</td>\n",
       "      <td>Buenos días.</td>\n",
       "      <td>0.0</td>\n",
       "      <td>2</td>\n",
       "      <td>18</td>\n",
       "      <td>1</td>\n",
       "      <td>2022</td>\n",
       "    </tr>\n",
       "    <tr>\n",
       "      <th>1</th>\n",
       "      <td>PRESIDENTE ANDRES MANUEL LOPEZ OBRADOR</td>\n",
       "      <td>Pues vamos a informar, como todos los martes, ...</td>\n",
       "      <td>0.0</td>\n",
       "      <td>52</td>\n",
       "      <td>18</td>\n",
       "      <td>1</td>\n",
       "      <td>2022</td>\n",
       "    </tr>\n",
       "    <tr>\n",
       "      <th>2</th>\n",
       "      <td>JORGE ALCOCER VARELA</td>\n",
       "      <td>Con su permiso, señor presidente.</td>\n",
       "      <td>0.0</td>\n",
       "      <td>5</td>\n",
       "      <td>18</td>\n",
       "      <td>1</td>\n",
       "      <td>2022</td>\n",
       "    </tr>\n",
       "    <tr>\n",
       "      <th>3</th>\n",
       "      <td>JORGE ALCOCER VARELA</td>\n",
       "      <td>Muy buenos días a todas y a todos ustedes.</td>\n",
       "      <td>0.0</td>\n",
       "      <td>9</td>\n",
       "      <td>18</td>\n",
       "      <td>1</td>\n",
       "      <td>2022</td>\n",
       "    </tr>\n",
       "    <tr>\n",
       "      <th>4</th>\n",
       "      <td>JORGE ALCOCER VARELA</td>\n",
       "      <td>Como señala el señor presidente, en este momen...</td>\n",
       "      <td>0.0</td>\n",
       "      <td>55</td>\n",
       "      <td>18</td>\n",
       "      <td>1</td>\n",
       "      <td>2022</td>\n",
       "    </tr>\n",
       "    <tr>\n",
       "      <th>...</th>\n",
       "      <td>...</td>\n",
       "      <td>...</td>\n",
       "      <td>...</td>\n",
       "      <td>...</td>\n",
       "      <td>...</td>\n",
       "      <td>...</td>\n",
       "      <td>...</td>\n",
       "    </tr>\n",
       "    <tr>\n",
       "      <th>353</th>\n",
       "      <td>PRESIDENTE ANDRES MANUEL LOPEZ OBRADOR</td>\n",
       "      <td>Todo esto lo comento porque sí hay toda una ca...</td>\n",
       "      <td>0.0</td>\n",
       "      <td>46</td>\n",
       "      <td>18</td>\n",
       "      <td>1</td>\n",
       "      <td>2022</td>\n",
       "    </tr>\n",
       "    <tr>\n",
       "      <th>354</th>\n",
       "      <td>PRESIDENTE ANDRES MANUEL LOPEZ OBRADOR</td>\n",
       "      <td>Nada más porque por respeto no hablo de que en...</td>\n",
       "      <td>0.0</td>\n",
       "      <td>41</td>\n",
       "      <td>18</td>\n",
       "      <td>1</td>\n",
       "      <td>2022</td>\n",
       "    </tr>\n",
       "    <tr>\n",
       "      <th>355</th>\n",
       "      <td>PREGUNTA</td>\n",
       "      <td>¿Contra Del Mazo?</td>\n",
       "      <td>0.0</td>\n",
       "      <td>3</td>\n",
       "      <td>18</td>\n",
       "      <td>1</td>\n",
       "      <td>2022</td>\n",
       "    </tr>\n",
       "    <tr>\n",
       "      <th>356</th>\n",
       "      <td>PRESIDENTE ANDRES MANUEL LOPEZ OBRADOR</td>\n",
       "      <td>Y contra otras candidatas, que me enteré que ...</td>\n",
       "      <td>0.0</td>\n",
       "      <td>49</td>\n",
       "      <td>18</td>\n",
       "      <td>1</td>\n",
       "      <td>2022</td>\n",
       "    </tr>\n",
       "    <tr>\n",
       "      <th>357</th>\n",
       "      <td>PRESIDENTE ANDRES MANUEL LOPEZ OBRADOR</td>\n",
       "      <td>Bueno, nos vemos mañana.</td>\n",
       "      <td>0.0</td>\n",
       "      <td>4</td>\n",
       "      <td>18</td>\n",
       "      <td>1</td>\n",
       "      <td>2022</td>\n",
       "    </tr>\n",
       "  </tbody>\n",
       "</table>\n",
       "<p>358 rows × 7 columns</p>\n",
       "</div>"
      ],
      "text/plain": [
       "                               Participante  \\\n",
       "0    PRESIDENTE ANDRES MANUEL LOPEZ OBRADOR   \n",
       "1    PRESIDENTE ANDRES MANUEL LOPEZ OBRADOR   \n",
       "2                      JORGE ALCOCER VARELA   \n",
       "3                      JORGE ALCOCER VARELA   \n",
       "4                      JORGE ALCOCER VARELA   \n",
       "..                                      ...   \n",
       "353  PRESIDENTE ANDRES MANUEL LOPEZ OBRADOR   \n",
       "354  PRESIDENTE ANDRES MANUEL LOPEZ OBRADOR   \n",
       "355                                PREGUNTA   \n",
       "356  PRESIDENTE ANDRES MANUEL LOPEZ OBRADOR   \n",
       "357  PRESIDENTE ANDRES MANUEL LOPEZ OBRADOR   \n",
       "\n",
       "                                                 Texto  Sentimiento  Palabras  \\\n",
       "0                                         Buenos días.          0.0         2   \n",
       "1    Pues vamos a informar, como todos los martes, ...          0.0        52   \n",
       "2                    Con su permiso, señor presidente.          0.0         5   \n",
       "3           Muy buenos días a todas y a todos ustedes.          0.0         9   \n",
       "4    Como señala el señor presidente, en este momen...          0.0        55   \n",
       "..                                                 ...          ...       ...   \n",
       "353  Todo esto lo comento porque sí hay toda una ca...          0.0        46   \n",
       "354  Nada más porque por respeto no hablo de que en...          0.0        41   \n",
       "355                                  ¿Contra Del Mazo?          0.0         3   \n",
       "356   Y contra otras candidatas, que me enteré que ...          0.0        49   \n",
       "357                           Bueno, nos vemos mañana.          0.0         4   \n",
       "\n",
       "     Dia  Mes  Anio  \n",
       "0     18    1  2022  \n",
       "1     18    1  2022  \n",
       "2     18    1  2022  \n",
       "3     18    1  2022  \n",
       "4     18    1  2022  \n",
       "..   ...  ...   ...  \n",
       "353   18    1  2022  \n",
       "354   18    1  2022  \n",
       "355   18    1  2022  \n",
       "356   18    1  2022  \n",
       "357   18    1  2022  \n",
       "\n",
       "[358 rows x 7 columns]"
      ]
     },
     "execution_count": 9,
     "metadata": {},
     "output_type": "execute_result"
    }
   ],
   "source": [
    "filelist[2]"
   ]
  },
  {
   "attachments": {},
   "cell_type": "markdown",
   "metadata": {},
   "source": [
    "Ahora limpiamos columas que no nos sirven mediante la función <code>drop()</code> de pandas\n",
    "\n",
    "Después filtramos los participantes para sólo tener diálogos del presidente."
   ]
  },
  {
   "cell_type": "code",
   "execution_count": 10,
   "metadata": {},
   "outputs": [],
   "source": [
    "filteredDf = []\n",
    "for df in filelist:\n",
    "    # Eliminamos columnas\n",
    "    df = df.drop(['Sentimiento', 'Palabras', 'Dia', 'Mes', 'Anio'], axis=1)\n",
    "\n",
    "    # Filtramos para sólo tener participaciones del presidente\n",
    "    df = df[df['Participante'] == 'PRESIDENTE ANDRES MANUEL LOPEZ OBRADOR']\n",
    "\n",
    "    df = df.drop(['Participante'], axis=1)\n",
    "\n",
    "    # left_aligned_df = df.style.set_properties(**{'text-align': 'left'})\n",
    "    \n",
    "    # filteredDf.append(left_aligned_df)\n",
    "    filteredDf.append(df)\n"
   ]
  },
  {
   "attachments": {},
   "cell_type": "markdown",
   "metadata": {},
   "source": [
    "Observamos uno de los dataframes para confirmar que las columnas se eliminaron y sólo hay participaciones del presidente.\n"
   ]
  },
  {
   "cell_type": "code",
   "execution_count": 11,
   "metadata": {},
   "outputs": [
    {
     "data": {
      "text/html": [
       "<div>\n",
       "<style scoped>\n",
       "    .dataframe tbody tr th:only-of-type {\n",
       "        vertical-align: middle;\n",
       "    }\n",
       "\n",
       "    .dataframe tbody tr th {\n",
       "        vertical-align: top;\n",
       "    }\n",
       "\n",
       "    .dataframe thead th {\n",
       "        text-align: right;\n",
       "    }\n",
       "</style>\n",
       "<table border=\"1\" class=\"dataframe\">\n",
       "  <thead>\n",
       "    <tr style=\"text-align: right;\">\n",
       "      <th></th>\n",
       "      <th>Texto</th>\n",
       "    </tr>\n",
       "  </thead>\n",
       "  <tbody>\n",
       "    <tr>\n",
       "      <th>0</th>\n",
       "      <td>Buenos días.</td>\n",
       "    </tr>\n",
       "    <tr>\n",
       "      <th>1</th>\n",
       "      <td>Vamos a iniciar la semana con el quién es quié...</td>\n",
       "    </tr>\n",
       "    <tr>\n",
       "      <th>44</th>\n",
       "      <td>Vamos a los videos.</td>\n",
       "    </tr>\n",
       "    <tr>\n",
       "      <th>98</th>\n",
       "      <td>Muy bien. Pues vamos adelante. Quedó pendient...</td>\n",
       "    </tr>\n",
       "    <tr>\n",
       "      <th>103</th>\n",
       "      <td>Pues muy bien, hay que esperar a que resuelva...</td>\n",
       "    </tr>\n",
       "    <tr>\n",
       "      <th>...</th>\n",
       "      <td>...</td>\n",
       "    </tr>\n",
       "    <tr>\n",
       "      <th>309</th>\n",
       "      <td>Bueno, vamos a desayunar.</td>\n",
       "    </tr>\n",
       "    <tr>\n",
       "      <th>311</th>\n",
       "      <td>Con Beatriz.</td>\n",
       "    </tr>\n",
       "    <tr>\n",
       "      <th>313</th>\n",
       "      <td>Al rato, al rato.</td>\n",
       "    </tr>\n",
       "    <tr>\n",
       "      <th>315</th>\n",
       "      <td>Ah, pero ya tenemos el informe, te lo van a e...</td>\n",
       "    </tr>\n",
       "    <tr>\n",
       "      <th>316</th>\n",
       "      <td>Bueno, nos vemos.</td>\n",
       "    </tr>\n",
       "  </tbody>\n",
       "</table>\n",
       "<p>140 rows × 1 columns</p>\n",
       "</div>"
      ],
      "text/plain": [
       "                                                 Texto\n",
       "0                                         Buenos días.\n",
       "1    Vamos a iniciar la semana con el quién es quié...\n",
       "44                                 Vamos a los videos.\n",
       "98    Muy bien. Pues vamos adelante. Quedó pendient...\n",
       "103   Pues muy bien, hay que esperar a que resuelva...\n",
       "..                                                 ...\n",
       "309                          Bueno, vamos a desayunar.\n",
       "311                                       Con Beatriz.\n",
       "313                                  Al rato, al rato.\n",
       "315   Ah, pero ya tenemos el informe, te lo van a e...\n",
       "316                                  Bueno, nos vemos.\n",
       "\n",
       "[140 rows x 1 columns]"
      ]
     },
     "execution_count": 11,
     "metadata": {},
     "output_type": "execute_result"
    }
   ],
   "source": [
    "filteredDf[0]"
   ]
  },
  {
   "attachments": {},
   "cell_type": "markdown",
   "metadata": {},
   "source": [
    "# Archivo de texto"
   ]
  },
  {
   "attachments": {},
   "cell_type": "markdown",
   "metadata": {},
   "source": [
    "La siguiente línea de código nos permite ver un ancho de las columnas determinado. Así podemos evadir que el dataframe nos dé los textos incompletos."
   ]
  },
  {
   "cell_type": "code",
   "execution_count": 28,
   "metadata": {},
   "outputs": [],
   "source": [
    "# Evitamos que se trunque\n",
    "# pd.set_option('display.max_colwidth', None)\n",
    "# pd.set_option('display.max_columns', None)\n",
    "# pd.set_option('display.width', None)"
   ]
  },
  {
   "attachments": {},
   "cell_type": "markdown",
   "metadata": {},
   "source": [
    "Ahora que tenemos todos los datos filtrados, sólo falta guardar todo este contenido en un archivo de texto.\n"
   ]
  },
  {
   "cell_type": "code",
   "execution_count": 217,
   "metadata": {},
   "outputs": [],
   "source": [
    "# with open(\"conferencias_matutinas_amlo.txt\", \"w\", encoding='utf-8') as f:\n",
    "#     for i, df in enumerate(filteredDf):\n",
    "#         # print(type(df['Texto'][i]))\n",
    "#         texto_str = df['Texto'].to_string(index=False) # Convert Series to string\n",
    "#         f.write(texto_str + '\\n')"
   ]
  },
  {
   "attachments": {},
   "cell_type": "markdown",
   "metadata": {},
   "source": [
    "Ahora que tenemos todos los datos filtrados, los guardaremos en un archivo, alineandolos a la izquierda y que cada oración dicha por AMLO esté en una línea."
   ]
  },
  {
   "cell_type": "code",
   "execution_count": 12,
   "metadata": {},
   "outputs": [],
   "source": [
    "with open(\"conferencias_matutinas_amlo.txt\", \"w\", encoding='utf-8') as f:\n",
    "    \n",
    "    for i, df in enumerate(filteredDf):\n",
    "        # print(type(df['Texto'][i]))\n",
    "\n",
    "        # Cambiamos la indexacion para que este corrida\n",
    "        inx = range(0,df.shape[0])\n",
    "        dfIndex = df.reindex(index=inx) \n",
    "\n",
    "        for j in range(df.shape[0]) :\n",
    "\n",
    "            texto_str = str(dfIndex['Texto'][j]).strip()\n",
    "\n",
    "            if texto_str == 'nan' :\n",
    "                continue\n",
    "\n",
    "            # f.write(noPuntuacion(texto_str) + '\\n')\n",
    "            f.write(texto_str + '\\n')\n"
   ]
  },
  {
   "attachments": {},
   "cell_type": "markdown",
   "metadata": {},
   "source": [
    "# Libreta 2"
   ]
  },
  {
   "attachments": {},
   "cell_type": "markdown",
   "metadata": {},
   "source": [
    "Tokenizaremos el texto. La tokezinación será por oración que dijo el presidente, y cada oración estará tokenizada por palabra. Quitaremos los signos de puntuación, pero dejaremos los acentos."
   ]
  },
  {
   "attachments": {},
   "cell_type": "markdown",
   "metadata": {},
   "source": [
    "Función para quitar los signos de puntación y poner todo en minúsculas, además de poner el texto en una tuple."
   ]
  },
  {
   "cell_type": "code",
   "execution_count": 13,
   "metadata": {},
   "outputs": [],
   "source": [
    "def noPuntuacion(text): return re.findall(r'[a-zA-ZñÑáéíóúÁÉÍÓÚüÜ]+', text.lower())"
   ]
  },
  {
   "cell_type": "code",
   "execution_count": 14,
   "metadata": {},
   "outputs": [],
   "source": [
    "texto = []\n",
    "with open(\"conferencias_matutinas_amlo.txt\", \"r\", encoding='utf-8') as f:\n",
    "\n",
    "    for i,line in enumerate(f) :\n",
    "\n",
    "        texto.append(noPuntuacion(line))\n"
   ]
  },
  {
   "attachments": {},
   "cell_type": "markdown",
   "metadata": {},
   "source": [
    "Partimos el corpus en dos de forma aleatoria, una parte para entrenamiento y la otra para prueba."
   ]
  },
  {
   "cell_type": "code",
   "execution_count": 91,
   "metadata": {},
   "outputs": [],
   "source": [
    "def separacionCorpus(text, porcentage, seed) :\n",
    "\n",
    "    rd.seed(seed)\n",
    "\n",
    "\n",
    "    textTrain = text.copy()\n",
    "    textTest = []\n",
    "    testPart = int(len(textTrain)*porcentage/100)\n",
    "\n",
    "    for i in range(testPart) :\n",
    "\n",
    "        index = rd.randint(0,len(textTrain)-1) \n",
    "        textTest.append(textTrain[index])\n",
    "        del textTrain[index]\n",
    "\n",
    "    return textTrain, textTest"
   ]
  },
  {
   "attachments": {},
   "cell_type": "markdown",
   "metadata": {},
   "source": [
    "# Pruebas"
   ]
  },
  {
   "cell_type": "code",
   "execution_count": 74,
   "metadata": {},
   "outputs": [],
   "source": [
    "\n",
    "texto1 = [['buenos', 'dias','a','todos'],\n",
    "                ['no','importa','que','digan'],\n",
    "                ['niegalo','todo','oiste','niegalo'],\n",
    "                ['todo'],\n",
    "                ['niegalo1','todo1','oiste1','niegalo1'],\n",
    "                ['niegalo2','todo2','oiste2','niegalo2'],\n",
    "                ['niegalo3','todo3','oiste3','niegalo3'],\n",
    "                ['niegalo4','todo4','oiste4','niegalo4'],\n",
    "                ['niegalo5','todo5','oiste5','niegalo5'],\n",
    "                ['niegalo6','todo6','oiste6','niegalo6']]"
   ]
  },
  {
   "cell_type": "code",
   "execution_count": 94,
   "metadata": {},
   "outputs": [
    {
     "name": "stdout",
     "output_type": "stream",
     "text": [
      "----------Texto original-----------------\n",
      "[['buenos', 'dias', 'a', 'todos'], ['no', 'importa', 'que', 'digan'], ['niegalo', 'todo', 'oiste', 'niegalo'], ['todo'], ['niegalo1', 'todo1', 'oiste1', 'niegalo1'], ['niegalo2', 'todo2', 'oiste2', 'niegalo2'], ['niegalo3', 'todo3', 'oiste3', 'niegalo3'], ['niegalo4', 'todo4', 'oiste4', 'niegalo4'], ['niegalo5', 'todo5', 'oiste5', 'niegalo5'], ['niegalo6', 'todo6', 'oiste6', 'niegalo6']]\n",
      "10\n",
      "----------Entrenamiento-----------------\n",
      "[['buenos', 'dias', 'a', 'todos'], ['no', 'importa', 'que', 'digan'], ['niegalo', 'todo', 'oiste', 'niegalo'], ['todo'], ['niegalo1', 'todo1', 'oiste1', 'niegalo1'], ['niegalo3', 'todo3', 'oiste3', 'niegalo3'], ['niegalo4', 'todo4', 'oiste4', 'niegalo4'], ['niegalo6', 'todo6', 'oiste6', 'niegalo6']]\n",
      "8\n",
      "-----------Prueba----------------\n",
      "[['niegalo2', 'todo2', 'oiste2', 'niegalo2'], ['niegalo5', 'todo5', 'oiste5', 'niegalo5']]\n",
      "2\n"
     ]
    }
   ],
   "source": [
    "textoEnt, textoTes = separacionCorpus(texto1, 20, 16)\n",
    "\n",
    "print('----------Texto original-----------------')\n",
    "print(texto1)\n",
    "print(len(texto1))\n",
    "print('----------Entrenamiento-----------------')\n",
    "print(textoEnt)\n",
    "print(len(textoEnt))\n",
    "print('-----------Prueba----------------')\n",
    "print(textoTes)\n",
    "print(len(textoTes))"
   ]
  },
  {
   "attachments": {},
   "cell_type": "markdown",
   "metadata": {},
   "source": [
    "# ------------------------------------------------------"
   ]
  },
  {
   "cell_type": "code",
   "execution_count": null,
   "metadata": {},
   "outputs": [],
   "source": []
  }
 ],
 "metadata": {
  "kernelspec": {
   "display_name": "Python 3",
   "language": "python",
   "name": "python3"
  },
  "language_info": {
   "codemirror_mode": {
    "name": "ipython",
    "version": 3
   },
   "file_extension": ".py",
   "mimetype": "text/x-python",
   "name": "python",
   "nbconvert_exporter": "python",
   "pygments_lexer": "ipython3",
   "version": "3.10.6"
  },
  "vscode": {
   "interpreter": {
    "hash": "ca4ae65869d2cb0a1ce9a252154e55d284ddfed7dca74e9ec9cf70dfaaed74d1"
   }
  }
 },
 "nbformat": 4,
 "nbformat_minor": 2
}
