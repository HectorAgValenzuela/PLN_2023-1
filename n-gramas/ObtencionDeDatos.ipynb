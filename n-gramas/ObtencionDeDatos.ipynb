{
 "cells": [
  {
   "attachments": {},
   "cell_type": "markdown",
   "metadata": {},
   "source": [
    "# Creditos\n",
    "\n",
    "Los datos de la manianera los obtuvimos del grupo @nostrodata\n",
    "* GitHub : https://github.com/NOSTRODATA/conferencias_matutinas_amlo"
   ]
  },
  {
   "attachments": {},
   "cell_type": "markdown",
   "metadata": {},
   "source": [
    "# Libreta 1: Obención de datos"
   ]
  },
  {
   "attachments": {},
   "cell_type": "markdown",
   "metadata": {},
   "source": [
    "## Importaciones\n",
    "* Importamos la librería pandas para manipular fácimodel1ente los archivos <code>.csv</code>.\n",
    "* Importamos la librería glob para leer fácimodel1ente los archivos <code>.csv</code>."
   ]
  },
  {
   "cell_type": "code",
   "execution_count": 48,
   "metadata": {},
   "outputs": [],
   "source": [
    "# Para libretas 1 y 2\n",
    "import pandas as pd\n",
    "import glob\n",
    "import re\n",
    "import random as rd\n",
    "import numpy as np\n",
    "from nltk.corpus import stopwords\n",
    "from collections import Counter\n",
    "import seaborn as sns\n",
    "from collections import defaultdict\n",
    "\n",
    "# Para libretas 3\n",
    "from nltk.lm.preprocessing import padded_everygram_pipeline\n",
    "from nltk.lm import MLE\n",
    "from nltk.lm import Laplace\n",
    "from nltk.lm import  KneserNeyInterpolated"
   ]
  },
  {
   "attachments": {},
   "cell_type": "markdown",
   "metadata": {},
   "source": [
    "## Limpieza de los datos\n",
    "En la siguiente linea de código se usa la función <code>glob</code> para generalizar las carpetas del dataset para extraer todos los <code>.csv</code> de el mes de enero.\n"
   ]
  },
  {
   "cell_type": "code",
   "execution_count": 49,
   "metadata": {},
   "outputs": [],
   "source": [
    "csv_files = glob.glob('conferenciasMatutinasAmlo/2022/1-2022/enero */mananera_*_01_2022.csv')\n",
    "# print(csv_files)"
   ]
  },
  {
   "attachments": {},
   "cell_type": "markdown",
   "metadata": {},
   "source": [
    "Ahora que tenemos las rutas, iteramos sobre ellas y guardamos todos los datos en una lista llamada <code>filelist</code>.\n"
   ]
  },
  {
   "cell_type": "code",
   "execution_count": 50,
   "metadata": {},
   "outputs": [],
   "source": [
    "filelist = []\n",
    "for file in csv_files:\n",
    "    df = pd.read_csv(file)\n",
    "    filelist.append(df)"
   ]
  },
  {
   "cell_type": "code",
   "execution_count": 51,
   "metadata": {},
   "outputs": [
    {
     "data": {
      "text/plain": [
       "17"
      ]
     },
     "execution_count": 51,
     "metadata": {},
     "output_type": "execute_result"
    }
   ],
   "source": [
    "# Numero de manianeras de enero 2022\n",
    "len(filelist)"
   ]
  },
  {
   "attachments": {},
   "cell_type": "markdown",
   "metadata": {},
   "source": [
    "Observamos uno de los dataframes de la lista."
   ]
  },
  {
   "cell_type": "code",
   "execution_count": 52,
   "metadata": {},
   "outputs": [
    {
     "data": {
      "text/html": [
       "<div>\n",
       "<style scoped>\n",
       "    .dataframe tbody tr th:only-of-type {\n",
       "        vertical-align: middle;\n",
       "    }\n",
       "\n",
       "    .dataframe tbody tr th {\n",
       "        vertical-align: top;\n",
       "    }\n",
       "\n",
       "    .dataframe thead th {\n",
       "        text-align: right;\n",
       "    }\n",
       "</style>\n",
       "<table border=\"1\" class=\"dataframe\">\n",
       "  <thead>\n",
       "    <tr style=\"text-align: right;\">\n",
       "      <th></th>\n",
       "      <th>Participante</th>\n",
       "      <th>Texto</th>\n",
       "      <th>Sentimiento</th>\n",
       "      <th>Palabras</th>\n",
       "      <th>Dia</th>\n",
       "      <th>Mes</th>\n",
       "      <th>Anio</th>\n",
       "    </tr>\n",
       "  </thead>\n",
       "  <tbody>\n",
       "    <tr>\n",
       "      <th>0</th>\n",
       "      <td>PRESIDENTE ANDRES MANUEL LOPEZ OBRADOR</td>\n",
       "      <td>Buenos días.</td>\n",
       "      <td>0.0</td>\n",
       "      <td>2</td>\n",
       "      <td>18</td>\n",
       "      <td>1</td>\n",
       "      <td>2022</td>\n",
       "    </tr>\n",
       "    <tr>\n",
       "      <th>1</th>\n",
       "      <td>PRESIDENTE ANDRES MANUEL LOPEZ OBRADOR</td>\n",
       "      <td>Pues vamos a informar, como todos los martes, ...</td>\n",
       "      <td>0.0</td>\n",
       "      <td>52</td>\n",
       "      <td>18</td>\n",
       "      <td>1</td>\n",
       "      <td>2022</td>\n",
       "    </tr>\n",
       "    <tr>\n",
       "      <th>2</th>\n",
       "      <td>JORGE ALCOCER VARELA</td>\n",
       "      <td>Con su permiso, señor presidente.</td>\n",
       "      <td>0.0</td>\n",
       "      <td>5</td>\n",
       "      <td>18</td>\n",
       "      <td>1</td>\n",
       "      <td>2022</td>\n",
       "    </tr>\n",
       "    <tr>\n",
       "      <th>3</th>\n",
       "      <td>JORGE ALCOCER VARELA</td>\n",
       "      <td>Muy buenos días a todas y a todos ustedes.</td>\n",
       "      <td>0.0</td>\n",
       "      <td>9</td>\n",
       "      <td>18</td>\n",
       "      <td>1</td>\n",
       "      <td>2022</td>\n",
       "    </tr>\n",
       "    <tr>\n",
       "      <th>4</th>\n",
       "      <td>JORGE ALCOCER VARELA</td>\n",
       "      <td>Como señala el señor presidente, en este momen...</td>\n",
       "      <td>0.0</td>\n",
       "      <td>55</td>\n",
       "      <td>18</td>\n",
       "      <td>1</td>\n",
       "      <td>2022</td>\n",
       "    </tr>\n",
       "    <tr>\n",
       "      <th>...</th>\n",
       "      <td>...</td>\n",
       "      <td>...</td>\n",
       "      <td>...</td>\n",
       "      <td>...</td>\n",
       "      <td>...</td>\n",
       "      <td>...</td>\n",
       "      <td>...</td>\n",
       "    </tr>\n",
       "    <tr>\n",
       "      <th>353</th>\n",
       "      <td>PRESIDENTE ANDRES MANUEL LOPEZ OBRADOR</td>\n",
       "      <td>Todo esto lo comento porque sí hay toda una ca...</td>\n",
       "      <td>0.0</td>\n",
       "      <td>46</td>\n",
       "      <td>18</td>\n",
       "      <td>1</td>\n",
       "      <td>2022</td>\n",
       "    </tr>\n",
       "    <tr>\n",
       "      <th>354</th>\n",
       "      <td>PRESIDENTE ANDRES MANUEL LOPEZ OBRADOR</td>\n",
       "      <td>Nada más porque por respeto no hablo de que en...</td>\n",
       "      <td>0.0</td>\n",
       "      <td>41</td>\n",
       "      <td>18</td>\n",
       "      <td>1</td>\n",
       "      <td>2022</td>\n",
       "    </tr>\n",
       "    <tr>\n",
       "      <th>355</th>\n",
       "      <td>PREGUNTA</td>\n",
       "      <td>¿Contra Del Mazo?</td>\n",
       "      <td>0.0</td>\n",
       "      <td>3</td>\n",
       "      <td>18</td>\n",
       "      <td>1</td>\n",
       "      <td>2022</td>\n",
       "    </tr>\n",
       "    <tr>\n",
       "      <th>356</th>\n",
       "      <td>PRESIDENTE ANDRES MANUEL LOPEZ OBRADOR</td>\n",
       "      <td>Y contra otras candidatas, que me enteré que ...</td>\n",
       "      <td>0.0</td>\n",
       "      <td>49</td>\n",
       "      <td>18</td>\n",
       "      <td>1</td>\n",
       "      <td>2022</td>\n",
       "    </tr>\n",
       "    <tr>\n",
       "      <th>357</th>\n",
       "      <td>PRESIDENTE ANDRES MANUEL LOPEZ OBRADOR</td>\n",
       "      <td>Bueno, nos vemos mañana.</td>\n",
       "      <td>0.0</td>\n",
       "      <td>4</td>\n",
       "      <td>18</td>\n",
       "      <td>1</td>\n",
       "      <td>2022</td>\n",
       "    </tr>\n",
       "  </tbody>\n",
       "</table>\n",
       "<p>358 rows × 7 columns</p>\n",
       "</div>"
      ],
      "text/plain": [
       "                               Participante  \\\n",
       "0    PRESIDENTE ANDRES MANUEL LOPEZ OBRADOR   \n",
       "1    PRESIDENTE ANDRES MANUEL LOPEZ OBRADOR   \n",
       "2                      JORGE ALCOCER VARELA   \n",
       "3                      JORGE ALCOCER VARELA   \n",
       "4                      JORGE ALCOCER VARELA   \n",
       "..                                      ...   \n",
       "353  PRESIDENTE ANDRES MANUEL LOPEZ OBRADOR   \n",
       "354  PRESIDENTE ANDRES MANUEL LOPEZ OBRADOR   \n",
       "355                                PREGUNTA   \n",
       "356  PRESIDENTE ANDRES MANUEL LOPEZ OBRADOR   \n",
       "357  PRESIDENTE ANDRES MANUEL LOPEZ OBRADOR   \n",
       "\n",
       "                                                 Texto  Sentimiento  Palabras  \\\n",
       "0                                         Buenos días.          0.0         2   \n",
       "1    Pues vamos a informar, como todos los martes, ...          0.0        52   \n",
       "2                    Con su permiso, señor presidente.          0.0         5   \n",
       "3           Muy buenos días a todas y a todos ustedes.          0.0         9   \n",
       "4    Como señala el señor presidente, en este momen...          0.0        55   \n",
       "..                                                 ...          ...       ...   \n",
       "353  Todo esto lo comento porque sí hay toda una ca...          0.0        46   \n",
       "354  Nada más porque por respeto no hablo de que en...          0.0        41   \n",
       "355                                  ¿Contra Del Mazo?          0.0         3   \n",
       "356   Y contra otras candidatas, que me enteré que ...          0.0        49   \n",
       "357                           Bueno, nos vemos mañana.          0.0         4   \n",
       "\n",
       "     Dia  Mes  Anio  \n",
       "0     18    1  2022  \n",
       "1     18    1  2022  \n",
       "2     18    1  2022  \n",
       "3     18    1  2022  \n",
       "4     18    1  2022  \n",
       "..   ...  ...   ...  \n",
       "353   18    1  2022  \n",
       "354   18    1  2022  \n",
       "355   18    1  2022  \n",
       "356   18    1  2022  \n",
       "357   18    1  2022  \n",
       "\n",
       "[358 rows x 7 columns]"
      ]
     },
     "execution_count": 52,
     "metadata": {},
     "output_type": "execute_result"
    }
   ],
   "source": [
    "filelist[2]"
   ]
  },
  {
   "attachments": {},
   "cell_type": "markdown",
   "metadata": {},
   "source": [
    "Ahora limpiamos columas que no nos sirven mediante la función <code>drop()</code> de pandas\n",
    "\n",
    "Después filtramos los participantes para sólo tener diálogos del presidente."
   ]
  },
  {
   "cell_type": "code",
   "execution_count": 53,
   "metadata": {},
   "outputs": [],
   "source": [
    "filteredDf = []\n",
    "for df in filelist:\n",
    "    # Eliminamos columnas\n",
    "    df = df.drop(['Sentimiento', 'Palabras', 'Dia', 'Mes', 'Anio'], axis=1)\n",
    "\n",
    "    # Filtramos para sólo tener participaciones del presidente\n",
    "    df = df[df['Participante'] == 'PRESIDENTE ANDRES MANUEL LOPEZ OBRADOR']\n",
    "\n",
    "    df = df.drop(['Participante'], axis=1)\n",
    "\n",
    "    # left_aligned_df = df.style.set_properties(**{'text-align': 'left'})\n",
    "    \n",
    "    # filteredDf.append(left_aligned_df)\n",
    "    filteredDf.append(df)\n"
   ]
  },
  {
   "attachments": {},
   "cell_type": "markdown",
   "metadata": {},
   "source": [
    "Observamos uno de los dataframes para confirmar que las columnas se eliminaron y sólo hay participaciones del presidente.\n"
   ]
  },
  {
   "cell_type": "code",
   "execution_count": 54,
   "metadata": {},
   "outputs": [
    {
     "data": {
      "text/html": [
       "<div>\n",
       "<style scoped>\n",
       "    .dataframe tbody tr th:only-of-type {\n",
       "        vertical-align: middle;\n",
       "    }\n",
       "\n",
       "    .dataframe tbody tr th {\n",
       "        vertical-align: top;\n",
       "    }\n",
       "\n",
       "    .dataframe thead th {\n",
       "        text-align: right;\n",
       "    }\n",
       "</style>\n",
       "<table border=\"1\" class=\"dataframe\">\n",
       "  <thead>\n",
       "    <tr style=\"text-align: right;\">\n",
       "      <th></th>\n",
       "      <th>Texto</th>\n",
       "    </tr>\n",
       "  </thead>\n",
       "  <tbody>\n",
       "    <tr>\n",
       "      <th>0</th>\n",
       "      <td>Buenos días.</td>\n",
       "    </tr>\n",
       "    <tr>\n",
       "      <th>1</th>\n",
       "      <td>Vamos a iniciar la semana con el quién es quié...</td>\n",
       "    </tr>\n",
       "    <tr>\n",
       "      <th>44</th>\n",
       "      <td>Vamos a los videos.</td>\n",
       "    </tr>\n",
       "    <tr>\n",
       "      <th>98</th>\n",
       "      <td>Muy bien. Pues vamos adelante. Quedó pendient...</td>\n",
       "    </tr>\n",
       "    <tr>\n",
       "      <th>103</th>\n",
       "      <td>Pues muy bien, hay que esperar a que resuelva...</td>\n",
       "    </tr>\n",
       "    <tr>\n",
       "      <th>...</th>\n",
       "      <td>...</td>\n",
       "    </tr>\n",
       "    <tr>\n",
       "      <th>309</th>\n",
       "      <td>Bueno, vamos a desayunar.</td>\n",
       "    </tr>\n",
       "    <tr>\n",
       "      <th>311</th>\n",
       "      <td>Con Beatriz.</td>\n",
       "    </tr>\n",
       "    <tr>\n",
       "      <th>313</th>\n",
       "      <td>Al rato, al rato.</td>\n",
       "    </tr>\n",
       "    <tr>\n",
       "      <th>315</th>\n",
       "      <td>Ah, pero ya tenemos el informe, te lo van a e...</td>\n",
       "    </tr>\n",
       "    <tr>\n",
       "      <th>316</th>\n",
       "      <td>Bueno, nos vemos.</td>\n",
       "    </tr>\n",
       "  </tbody>\n",
       "</table>\n",
       "<p>140 rows × 1 columns</p>\n",
       "</div>"
      ],
      "text/plain": [
       "                                                 Texto\n",
       "0                                         Buenos días.\n",
       "1    Vamos a iniciar la semana con el quién es quié...\n",
       "44                                 Vamos a los videos.\n",
       "98    Muy bien. Pues vamos adelante. Quedó pendient...\n",
       "103   Pues muy bien, hay que esperar a que resuelva...\n",
       "..                                                 ...\n",
       "309                          Bueno, vamos a desayunar.\n",
       "311                                       Con Beatriz.\n",
       "313                                  Al rato, al rato.\n",
       "315   Ah, pero ya tenemos el informe, te lo van a e...\n",
       "316                                  Bueno, nos vemos.\n",
       "\n",
       "[140 rows x 1 columns]"
      ]
     },
     "execution_count": 54,
     "metadata": {},
     "output_type": "execute_result"
    }
   ],
   "source": [
    "filteredDf[0]"
   ]
  },
  {
   "attachments": {},
   "cell_type": "markdown",
   "metadata": {},
   "source": [
    "## Archivo de texto"
   ]
  },
  {
   "attachments": {},
   "cell_type": "markdown",
   "metadata": {},
   "source": [
    "Ahora que tenemos todos los datos filtrados, los guardaremos en un archivo, alineandolos a la izquierda y que cada oración dicha por AMLO esté en una línea."
   ]
  },
  {
   "cell_type": "code",
   "execution_count": null,
   "metadata": {},
   "outputs": [],
   "source": [
    "# with open(\"conferencias_matutinas_amlo.txt\", \"w\", encoding='utf-8') as f:\n",
    "\n",
    "    \n",
    "#     for i, df in enumerate(filteredDf):\n",
    "\n",
    "#         # Cambiamos la indexacion para que este corrida\n",
    "#         inx = range(0,df.shape[0])\n",
    "#         dfIndex = df.reindex(index=inx) \n",
    "\n",
    "#         for j in range(df.shape[0]) :\n",
    "\n",
    "#             texto_str = str(dfIndex['Texto'][j]).strip()\n",
    "\n",
    "#             if texto_str == 'nan' :\n",
    "#                 continue\n",
    "\n",
    "#             f.write(texto_str + '\\n')\n"
   ]
  },
  {
   "attachments": {},
   "cell_type": "markdown",
   "metadata": {},
   "source": [
    "Corpus donde cada linea es una oracion"
   ]
  },
  {
   "cell_type": "code",
   "execution_count": 55,
   "metadata": {},
   "outputs": [],
   "source": [
    "with open(\"conferencias_matutinas_amlo.txt\", \"w\", encoding='utf-8') as f:\n",
    "\n",
    "    sentence = str()\n",
    "\n",
    "    for df in filteredDf:\n",
    "\n",
    "        for i in range(len(df)) :\n",
    "\n",
    "            text_str = df['Texto'].iloc[i]\n",
    "\n",
    "            for word in text_str :\n",
    "                \n",
    "                if word == '.' :\n",
    "\n",
    "                    sentence += word\n",
    "                    f.write(sentence.strip() + '\\n')\n",
    "                    sentence = str()\n",
    "\n",
    "                else :\n",
    "\n",
    "                    sentence += word    \n"
   ]
  },
  {
   "cell_type": "markdown",
   "metadata": {},
   "source": [
    "# Libreta 2"
   ]
  },
  {
   "attachments": {},
   "cell_type": "markdown",
   "metadata": {},
   "source": [
    "## Partimos el corpus en entrenamiento y prueba de forma aleatoria"
   ]
  },
  {
   "attachments": {},
   "cell_type": "markdown",
   "metadata": {},
   "source": [
    "Primero contaremos el numero de oraciones (lineas) que tiene nuestro corpus."
   ]
  },
  {
   "cell_type": "code",
   "execution_count": 56,
   "metadata": {},
   "outputs": [],
   "source": [
    "with open('conferencias_matutinas_amlo.txt', 'r', encoding='utf-8') as f :\n",
    "\n",
    "    lineCount = 0\n",
    "\n",
    "    for line in f :\n",
    "\n",
    "        lineCount += 1"
   ]
  },
  {
   "attachments": {},
   "cell_type": "markdown",
   "metadata": {},
   "source": [
    "Obtenemos el numero de lineas que tendra el archivo de pruebas y un arreglo con las lineas que iran en dicho archivo."
   ]
  },
  {
   "cell_type": "code",
   "execution_count": 57,
   "metadata": {},
   "outputs": [],
   "source": [
    "rd.seed(16) # Semilla \n",
    "porcentage = 20\n",
    "testPart = int(lineCount*porcentage/100)\n",
    "\n",
    "\n",
    "testLines = []\n",
    "while len(testLines) != testPart :\n",
    "\n",
    "    random = rd.randint(0,lineCount-1)\n",
    "    \n",
    "    if random not in testLines : # Si el numero random no esta ya en la lista testLines entonces agregalo\n",
    "\n",
    "        testLines.append(random)"
   ]
  },
  {
   "attachments": {},
   "cell_type": "markdown",
   "metadata": {},
   "source": [
    "Ahora crearemos dos nuevos archivos, el de entrenamiento y el de prueba."
   ]
  },
  {
   "cell_type": "code",
   "execution_count": 58,
   "metadata": {},
   "outputs": [],
   "source": [
    "with open(\"conferencias_matutinas_amlo.txt\", \"r\", encoding='utf-8') as f :\n",
    "\n",
    "    with open(\"train.txt\", \"w\", encoding='utf-8') as train :\n",
    "\n",
    "        with open(\"test.txt\", \"w\", encoding='utf-8') as test :\n",
    "\n",
    "            for i, line in enumerate(f) :\n",
    "\n",
    "                if i in testLines : # Si la linea i esta en testLines escribelo en el arhivo test\n",
    "\n",
    "                    test.write(line)\n",
    "\n",
    "                else : # De lo contrario va en train\n",
    "                    train.write(line)\n"
   ]
  },
  {
   "attachments": {},
   "cell_type": "markdown",
   "metadata": {},
   "source": [
    "Vemos si se hizo bien la separacion."
   ]
  },
  {
   "cell_type": "code",
   "execution_count": 59,
   "metadata": {},
   "outputs": [
    {
     "name": "stdout",
     "output_type": "stream",
     "text": [
      "3909\n",
      "3128\n",
      "781\n",
      "3909\n"
     ]
    }
   ],
   "source": [
    "with open('train.txt', 'r', encoding='utf-8') as f :\n",
    "\n",
    "    lineCountTrain = 0\n",
    "\n",
    "    for line in f :\n",
    "\n",
    "        lineCountTrain += 1\n",
    "\n",
    "with open('test.txt', 'r', encoding='utf-8') as f :\n",
    "\n",
    "    lineCountTest = 0\n",
    "\n",
    "    for line in f :\n",
    "\n",
    "        lineCountTest += 1\n",
    "\n",
    "print(lineCount)\n",
    "print(lineCountTrain)\n",
    "print(lineCountTest)\n",
    "print(lineCountTrain + lineCountTest)"
   ]
  },
  {
   "attachments": {},
   "cell_type": "markdown",
   "metadata": {},
   "source": [
    "Tokenizaremos el texto. La tokezinación será por oración que dijo el presidente, y cada oración estará tokenizada por palabra. Quitaremos los signos de puntuación, pero dejaremos los acentos."
   ]
  },
  {
   "attachments": {},
   "cell_type": "markdown",
   "metadata": {},
   "source": [
    "# ANÁLISIS EXPLORATORIO"
   ]
  },
  {
   "cell_type": "code",
   "execution_count": 60,
   "metadata": {},
   "outputs": [
    {
     "name": "stdout",
     "output_type": "stream",
     "text": [
      "                                              sentences\n",
      "0         Entonces, vamos a darle la palabra a Ricardo.\n",
      "1                                   Vamos a los videos.\n",
      "2                                  Pues vamos adelante.\n",
      "3                     Quedó pendiente Eduardo Esquivel.\n",
      "4     Pues muy bien, hay que esperar a que resuelva ...\n",
      "...                                                 ...\n",
      "3123  Y, en efecto, hoy es un aniversario más de los...\n",
      "3124                          Hay crónicas muy fuertes.\n",
      "3125  Después de la represión subían los cuerpos de ...\n",
      "3126  Ahí estuvo reprimiendo a los mayas Victoriano ...\n",
      "3127  Y, fíjense, Quintana Roo, que era una cárcel y...\n",
      "\n",
      "[3128 rows x 1 columns]\n"
     ]
    }
   ],
   "source": [
    "#CREAR DATAFRAME A PARTIR DEL TRAIN.TXT\n",
    "columns=[\"sentences\"]\n",
    "data = pd.read_csv(\"train.txt\", delimiter=\"\\t\", header=None, names=columns)\n",
    "print(data)"
   ]
  },
  {
   "cell_type": "code",
   "execution_count": 61,
   "metadata": {},
   "outputs": [
    {
     "data": {
      "text/plain": [
       "<AxesSubplot:>"
      ]
     },
     "execution_count": 61,
     "metadata": {},
     "output_type": "execute_result"
    },
    {
     "data": {
      "image/png": "[encoded data removed]",
      "text/plain": [
       "<Figure size 640x480 with 1 Axes>"
      ]
     },
     "metadata": {},
     "output_type": "display_data"
    }
   ],
   "source": [
    "# HISTOGRAMA DE CANTIDAD DE CARACTERES POR ORACIÓN\n",
    "data['sentences'].str.len().hist()"
   ]
  },
  {
   "attachments": {},
   "cell_type": "markdown",
   "metadata": {},
   "source": [
    "Explicación: Las oraciones están entre 0 y 600 caracteres, siendo la mayoría entre 0 y 100."
   ]
  },
  {
   "cell_type": "code",
   "execution_count": 18,
   "metadata": {},
   "outputs": [
    {
     "data": {
      "text/plain": [
       "<AxesSubplot:>"
      ]
     },
     "execution_count": 18,
     "metadata": {},
     "output_type": "execute_result"
    },
    {
     "data": {
      "image/png": "[encoded data removed]",
      "text/plain": [
       "<Figure size 640x480 with 1 Axes>"
      ]
     },
     "metadata": {},
     "output_type": "display_data"
    }
   ],
   "source": [
    "# HISTOGRAMA DE CANTIDAD DE PALABRAS POR ORACIÓN\n",
    "data['sentences'].str.split().map(lambda x: len(x)).hist()"
   ]
  },
  {
   "cell_type": "code",
   "execution_count": 62,
   "metadata": {},
   "outputs": [
    {
     "data": {
      "text/plain": [
       "<AxesSubplot:>"
      ]
     },
     "execution_count": 62,
     "metadata": {},
     "output_type": "execute_result"
    },
    {
     "data": {
      "image/png": "[encoded data removed]",
      "text/plain": [
       "<Figure size 640x480 with 1 Axes>"
      ]
     },
     "metadata": {},
     "output_type": "display_data"
    }
   ],
   "source": [
    "# HISTOGRAMA DE LA LONGITUD PROMEDIO DE PALABRAS\n",
    "data['sentences'].str.split().apply(lambda x : [len(i) for i in x]).map(lambda x: np.mean(x)).hist()"
   ]
  },
  {
   "cell_type": "code",
   "execution_count": 63,
   "metadata": {},
   "outputs": [
    {
     "name": "stdout",
     "output_type": "stream",
     "text": [
      "defaultdict(<class 'int'>, {'a': 2216, 'la': 2053, 'los': 1348, 'muy': 273, 'hay': 361, 'que': 3127, 'el': 1816, 'de': 3503, 'ellos': 69, 'su': 140, 'también': 204, 'tiene': 183, 'es': 1215, 'no': 1333, 'hemos': 60, 'tenido': 11, 'durante': 42, 'en': 1531, 'cuando': 141, 'se': 1350, 'como': 314, 'del': 540, 'estos': 67, 'era': 167, 'más': 325, 'sí': 102, 'y': 1749, 'lo': 920, 'esto': 147, 'había': 71, 'para': 602, 'las': 548, 'nos': 267, 'sería': 15, 'un': 689, 'esté': 19, 'este': 146, 'están': 179, 'todo': 225, 'otra': 39, 'son': 217, 'una': 499, 'ya': 529, 'porque': 563, 'o': 308, 'tenían': 23, 'sobre': 146, 'al': 289, 'les': 170, 'ha': 99, 'sin': 74, 'haya': 52, 'sea': 30, 'esa': 110, 'todos': 183, 'otras': 48, 'algo': 43, 'me': 133, 'está': 275, 'muchos': 33, 'entre': 38, 'te': 40, 'tenía': 26, 'sus': 79, 'por': 499, 'estamos': 182, 'pero': 417, 'mucho': 108, 'con': 615, 'nuestros': 33, 'tengo': 64, 'algunos': 16, 'he': 31, 'eso': 329, 'esta': 101, 'yo': 157, 'tienen': 97, 'hasta': 89, 'le': 162, 'somos': 40, 'estar': 81, 'otros': 57, 'nuestra': 31, 'desde': 88, 'fue': 123, 'fueron': 24, 'donde': 58, 'tuve': 10, 'tu': 17, 'tanto': 11, 'ni': 63, 'tenemos': 166, 'estoy': 49, 'unos': 33, 'antes': 42, 'esas': 19, 'nada': 122, 'eran': 46, 'poco': 36, 'otro': 51, 'mí': 8, 'estás': 18, 'nosotros': 87, 'fuera': 3, 'qué': 133, 'contra': 40, 'nuestro': 51, 'sentido': 5, 'han': 77, 'mi': 48, 'estaba': 58, 'estuviese': 1, 'fuese': 9, 'ese': 132, 'fuimos': 4, 'él': 50, 'habían': 10, 'tú': 23, 'estado': 19, 'estuve': 3, 'uno': 29, 'estuvo': 12, 'quien': 16, 'estados': 23, 'estaban': 31, 'teníamos': 5, 'hubo': 25, 'algunas': 9, 'habíamos': 4, 'tengan': 19, 'estas': 34, 'tuvieron': 1, 'quienes': 29, 'hubiese': 12, 'sean': 11, 'estemos': 10, 'tienes': 7, 'esos': 37, 'tengamos': 10, 'nuestras': 2, 'tuvimos': 5, 'estén': 17, 'ella': 13, 'e': 6, 'habido': 17, 'fuesen': 2, 'tenga': 15, 'mis': 8, 'hayan': 3, 'hubiesen': 5, 'soy': 15, 'teniendo': 3, 'ante': 2, 'habría': 4, 'has': 3, 'tuvo': 11, 'estuviésemos': 1, 'estuviesen': 1, 'estuvimos': 2, 'tengas': 1, 'estábamos': 7, 'tendría': 2, 'fui': 8, 'cual': 2, 'tuviésemos': 1, 'estará': 1, 'estaríamos': 3, 'hubiésemos': 4, 'hubiera': 1, 'será': 1, 'sintiendo': 2, 'habrá': 2, 'estuvieron': 1, 'estando': 2, 'siente': 3, 'estés': 1, 'ti': 1, 'suyo': 1, 'tendrían': 1})\n"
     ]
    }
   ],
   "source": [
    "# IDENTIFICAR STOPWORDS EN EL TEXTO:\n",
    "\n",
    "stopwords_es = stopwords.words('spanish')\n",
    "\n",
    "corpus=[]\n",
    "new = data['sentences'].str.split()\n",
    "new = new.values.tolist()\n",
    "corpus=[word for i in new for word in i]\n",
    "\n",
    "dic=defaultdict(int)\n",
    "for word in corpus:\n",
    "    if word in stopwords_es:\n",
    "        dic[word]+=1\n",
    "\n",
    "print(dic)"
   ]
  },
  {
   "cell_type": "code",
   "execution_count": 64,
   "metadata": {},
   "outputs": [
    {
     "name": "stdout",
     "output_type": "stream",
     "text": [
      "12166\n"
     ]
    },
    {
     "data": {
      "text/plain": [
       "<AxesSubplot:>"
      ]
     },
     "execution_count": 64,
     "metadata": {},
     "output_type": "execute_result"
    },
    {
     "data": {
      "image/png": "[encoded data removed]",
      "text/plain": [
       "<Figure size 640x480 with 1 Axes>"
      ]
     },
     "metadata": {},
     "output_type": "display_data"
    }
   ],
   "source": [
    "#IDENTIFICAR NO STOPWORDS EN EL TEXTO\n",
    "\n",
    "\n",
    "counter=Counter(corpus)\n",
    "most=counter.most_common()\n",
    "print(len(counter))\n",
    "x, y= [], []\n",
    "for word,count in most[:40]:\n",
    "    if (word not in stopwords_es):\n",
    "        x.append(word)\n",
    "        y.append(count)\n",
    "\n",
    "sns.barplot(x=y,y=x)"
   ]
  },
  {
   "attachments": {},
   "cell_type": "markdown",
   "metadata": {},
   "source": [
    "Frecuencia de todas las palabras"
   ]
  },
  {
   "cell_type": "code",
   "execution_count": 94,
   "metadata": {},
   "outputs": [
    {
     "name": "stdout",
     "output_type": "stream",
     "text": [
      "defaultdict(<class 'int'>, {'entonces': 390, 'vamos': 381, 'a': 2292, 'darle': 11, 'la': 2118, 'palabra': 9, 'ricardo': 20, 'los': 1373, 'videos': 6, 'pues': 235, 'adelante': 47, 'quedó': 13, 'pendiente': 7, 'eduardo': 1, 'esquivel': 1, 'muy': 301, 'bien': 130, 'hay': 417, 'que': 3178, 'esperar': 14, 'resuelva': 2, 'el': 1890, 'banco': 34, 'de': 3551, 'méxico': 227, 'ellos': 80, 'hacen': 20, 'su': 144, 'balance': 2, 'hacienda': 32, 'también': 259, 'tiene': 195, 'información': 57, 'lo': 972, 'cierto': 9, 'es': 1349, 'no': 1641, 'hemos': 64, 'tenido': 11, 'remanentes': 6, 'durante': 43, 'tiempo': 127, 'llevamos': 8, 'en': 1593, 'gobierno': 156, 'porque': 609, 'aun': 13, 'cuando': 167, 'periódicamente': 3, 'se': 1402, 'deprecie': 1, 'peso': 7, 'termina': 7, 'recuperándose': 1, 'como': 325, 'depreciación': 5, 'del': 540, 'entregan': 4, 'estos': 73, 'vez': 34, 'pasada': 6, 'era': 175, 'más': 371, 'claro': 50, 'sí': 288, 'podían': 3, 'entregarnos': 2, 'y': 2170, 'hicieron': 30, 'esto': 214, 'distinto': 16, 'pasaba': 4, 'gobiernos': 24, 'anteriores': 6, 'siempre': 74, 'había': 76, 'para': 626, 'ahora': 166, 'así': 126, 'pero': 564, 'bueno': 138, 'terminen': 4, 'hacer': 105, 'las': 554, 'cuentas': 7, 'si': 331, 'nos': 285, 'corresponde': 15, 'sería': 18, 'un': 700, 'ingreso': 2, 'adicional': 4, 'importante': 73, 'invitar': 6, 'raquel': 3, 'buenrostro': 1, 'esté': 19, 'jueves': 8, 'día': 35, 'primero': 29, 'febrero': 9, 'aclare': 2, 'ferrocarriles': 3, 'privatización': 7, 'devolvió': 1, 'este': 159, 'impuesto': 7, 'diga': 6, 'da': 23, 'gusto': 11, 'todas': 53, 'empresas': 74, 'grandes': 35, 'operaciones': 4, 'compraventa': 3, 'corporaciones': 3, 'pagaban': 12, 'impuestos': 44, 'están': 193, 'pagando': 10, 'todo': 276, 'beneficio': 22, 'pública': 50, 'pueblo': 178, 'ya': 603, 'completamente': 12, 'otra': 48, 'cosa': 28, 'son': 245, 'hábitos': 1, 'creando': 6, 'va': 297, 'ser': 114, 'difícil': 17, 'puedan': 9, 'quitar': 7, 'futuro': 8, 'condonación': 4, 'una': 515, 'barbaridad': 3, 'podría': 13, 'volverse': 1, 'implantar': 1, 'cómo': 119, 'pague': 2, 'campesino': 1, 'obrero': 3, 'gente': 156, 'pobre': 7, 'compra': 16, 'mercancía': 1, 'ahí': 149, 'incluido': 2, 'iva': 3, 'o': 336, 'profesional': 8, 'integrante': 1, 'clase': 6, 'media': 11, 'pequeño': 1, 'comerciante': 1, 'mediano': 1, 'empresario': 3, 'tenían': 24, 'mecanismos': 2, 'sobre': 151, 'agarraderas': 3, 'muchas': 40, 'influencias': 7, 'al': 291, 'final': 13, 'les': 178, 'condonaran': 1, 'miles': 8, 'millones': 126, 'pesos': 58, 'ha': 100, 'permitido': 3, 'sortear': 1, 'crisis': 15, 'enfrentar': 18, 'mejorado': 2, 'recaudación': 3, 'sin': 85, 'aumentar': 8, 'precios': 15, 'gasolinas': 13, 'gasolinazos': 8, 'haya': 52, 'privilegios': 20, 'corrupción': 80, 'derroche': 5, 'sea': 131, 'austero': 1, 'esa': 120, 'fórmula': 2, 'saliendo': 9, 'amanecí': 1, 'ronco': 1, 'maneras': 20, 'mañana': 51, 'informar': 43, 'todos': 247, 'martes': 8, 'ver': 176, 'puedes': 5, 'poner': 20, 'reporte': 3, 'hoy': 26, 'favor': 22, 'jesús': 15, 'misma': 20, 'peligrosidad': 1, 'letalidad': 1, 'otras': 49, 'variantes': 2, 'variante': 23, 'delta': 4, 'algo': 44, 'me': 156, 'gustó': 4, 'quiero': 35, 'aprovechar': 5, 'transmitir': 2, 'decálogo': 2, 'sé': 23, 'hizo': 30, 'pedro': 12, 'miguel': 7, 'está': 295, 'difundiendo': 1, 'secretaría': 33, 'salud': 53, 'ciudad': 36, 'forma': 29, 'escrito': 4, 'periodista': 8, 'ustedes': 51, 'saben': 31, 'comunicarse': 1, 'veces': 32, 'servidores': 18, 'públicos': 27, 'técnicos': 11, 'comunican': 1, 'términos': 10, 'entiende': 3, 'creen': 9, 'muchos': 42, 'profesionistas': 1, 'profesionales': 5, 'entre': 42, 'hablen': 2, 'físico': 2, 'decía': 37, 'antes': 80, 'importantes': 9, 'por': 587, 'eso': 474, 'escribía': 2, 'bájale': 3, 'súbele': 2, 'escribe': 2, 'te': 50, 'entienda': 3, 'uno': 41, 'vacunaron': 2, 'enferman': 1, 'parece': 25, 'covid': 18, 'asuman': 1, 'tres': 72, 'tomen': 2, 'paracetamol': 2, 'permanezcan': 1, 'casa': 21, 'aíslense': 1, 'eviten': 2, 'contagiar': 2, 'personas': 21, 'gran': 35, 'mayoría': 27, 'vacunadas': 3, 'ómicron': 1, 'covidcito': 1, 'potencia': 2, 'tenía': 28, 'dejamos': 8, 'después': 36, 'rato': 4, 'sube': 1, 'página': 3, 'cinco': 26, 'ruega': 1, 'empleadores': 1, 'pidan': 1, 'resultados': 8, 'pruebas': 14, 'sus': 79, 'empleados': 1, 'escasez': 2, 'mundial': 11, 'reactivos': 1, 'seis': 17, 'sigan': 2, 'usando': 1, 'cubrebocas': 1, 'observen': 1, 'sana': 1, 'distancia': 1, 'tosan': 1, 'estornuden': 1, 'ángulo': 1, 'interior': 7, 'codo': 1, 'lávense': 1, 'manos': 6, 'medida': 1, 'posible': 14, 'aglomeraciones': 1, 'siete': 6, '': 548, 'ciento': 37, 'quizás': 1, 'hospitalizados': 4, 'fallecimientos': 12, 'vacunados': 11, 'preferible': 1, 'pinchen': 1, 'brazo': 2, 'metan': 2, 'tubo': 2, 'gaznate': 1, 'estamos': 202, 'haciendo': 63, 'aplicándonos': 1, 'fondo': 34, 'avanzar': 10, 'varias': 8, 'mismo': 86, 'ritmo': 1, 'trabajando': 27, 'yo': 243, 'espero': 10, 'finales': 10, 'año': 89, 'tardar': 3, 'principios': 23, 'próximo': 13, 'inauguremos': 4, 'llevado': 5, 'mucho': 150, 'necesitamos': 11, 'concluirlo': 1, 'ah': 23, 'buena': 42, 'relación': 18, 'con': 623, 'países': 32, 'mundo': 54, 'manera': 50, 'especial': 31, 'continente': 6, 'americano': 1, 'américa': 16, 'norte': 13, 'canadá': 6, 'estados': 86, 'unidos': 52, 'nuestros': 35, 'hermanos': 6, 'centroamérica': 3, 'sur': 7, 'todavía': 45, 'tengo': 72, 'definido': 2, 'interés': 8, 'ir': 59, 'algunos': 24, 'vecinos': 3, 'he': 31, 'salido': 2, 'nueva': 31, 'york': 4, 'dos': 110, 'washington': 2, 'falta': 21, 'adelantemos': 1, 'dio': 14, 'triunfo': 4, 'boric': 2, 'chile': 8, 'fue': 136, 'esperanzador': 1, 'latina': 7, 'mantener': 17, 'buenas': 11, 'relaciones': 13, 'bajo': 6, 'constitucionales': 1, 'estableció': 2, 'artículo': 3, 'intervención': 6, 'autodeterminación': 4, 'pueblos': 30, 'cooperación': 8, 'desarrollo': 33, 'derechos': 12, 'humanos': 11, 'recuperando': 4, 'aunque': 29, 'guste': 3, 'esta': 117, 'expresión': 2, 'debiera': 1, 'decirlo': 12, 'prestigio': 6, 'política': 66, 'exterior': 11, 'sólo': 81, 'caribe': 2, 'sino': 52, 'abandonaron': 2, 'queremos': 44, 'pleito': 2, 'nadie': 40, 'buscado': 2, 'conciliación': 1, 'tienen': 98, 'confianza': 27, 'hasta': 96, 'le': 173, 'pide': 1, 'actúe': 3, 'intermediario': 1, 'conflictos': 2, 'internacionales': 3, 'somos': 42, 'tampoco': 10, 'protagónicos': 1, 'estar': 86, 'queriéndonos': 2, 'meter': 3, 'asuntos': 14, 'internos': 1, 'otros': 68, 'sostenido': 2, 'mejor': 67, 'hacemos': 16, 'cosas': 63, 'aquí': 165, 'van': 129, 'reconocer': 5, 'afuera': 2, 'podemos': 34, 'candil': 1, 'calle': 6, 'oscuridad': 1, 'prudente': 1, 'protagonismos': 1, 'nuestra': 35, 'fama': 2, 'ejemplo': 46, 'hecho': 23, 'proteger': 11, 'perseguidos': 2, 'políticos': 22, 'derecho': 31, 'asilo': 6, 'viene': 28, 'atrás': 15, 'desde': 108, 'general': 45, 'cárdenas': 4, 'época': 9, 'presidente': 80, 'madero': 8, 'presidentes': 7, 'triunfa': 4, 'imagínense': 38, 'contento': 5, 'sector': 15, 'golpe': 5, 'estado': 52, 'país': 91, 'protegió': 1, 'vivieron': 3, 'exilio': 2, 'chilenos': 3, 'fueron': 24, 'maestros': 19, 'facultad': 5, 'donde': 59, 'estudié': 1, 'ciencias': 4, 'políticas': 15, 'tuve': 10, 'dictaduras': 1, 'sudamérica': 1, 'afortunadamente': 25, 'democracia': 32, 'ido': 12, 'avanzando': 35, 'movimiento': 18, 'progresista': 3, 'tu': 17, 'propuesta': 11, 'analizar': 5, 'tanto': 14, 'asuste': 1, 'inteligente': 3, 'informado': 3, 'podríamos': 4, 'hicimos': 10, 'recomendaciones': 2, 'cuestión': 7, 'ni': 64, 'tan': 27, 'partes': 7, 'tenemos': 184, 'prensa': 13, 'totalidad': 1, 'conservadora': 4, 'sensacionalista': 2, 'exageran': 1, 'echan': 1, 'culpa': 7, 'tardes': 1, 'ayuda': 27, 'confundan': 1, 'estaba': 62, 'viendo': 30, 'colas': 1, 'aeropuerto': 65, 'medios': 32, 'insinuando': 1, 'cuál': 18, 'verdadpues': 1, 'enfermaron': 1, 'pilotos': 2, 'sobrecargos': 3, 'caso': 90, 'aeroméxico': 4, 'entraron': 2, 'cambiaron': 1, 'condiciones': 12, 'laborales': 1, 'consta': 11, 'recibo': 2, 'quejas': 1, 'estoy': 54, 'hablando': 44, 'constantemente': 4, 'trabajadores': 67, 'joven': 4, 'ahorita': 6, 'años': 70, 'sabe': 11, 'luego': 107, 'campaña': 23, 'calderón': 17, 'ayudan': 9, 'empresarios': 23, 'participan': 3, 'fraude': 8, 'electoral': 5, 'recompensa': 1, 'entrega': 12, 'línea': 7, 'aérea': 4, 'empezó': 10, 'manejando': 3, 'empresa': 51, 'privatizada': 1, 'coparmex': 2, 'presidencial': 1, 'señor': 17, 'chihuahua': 3, 'barraza': 3, 'dueños': 14, 'actuales': 2, 'josé': 7, 'luis': 24, 'unos': 34, 'meses': 8, 'consejo': 7, 'coordinador': 5, 'empresarial': 7, 'quedamos': 6, 'ninguna': 16, 'explican': 1, 'conservadores': 26, 'tendenciosos': 3, 'insinúan': 1, 'ojalá': 20, 'siga': 6, 'diciendo': 13, 'llevaron': 3, 'cabo': 55, 'esas': 20, 'privatizaciones': 2, 'dijo': 14, 'nada': 177, 'estudios': 4, 'centros': 7, 'investigación': 21, 'unam': 5, 'universidades': 5, 'públicas': 5, 'círculos': 1, 'intelectualidad': 2, 'oficiosa': 2, 'eran': 51, 'temas': 10, 'trataban': 1, 'decir': 64, 'marzo': 6, 'inauguramos': 1, 'nuevo': 39, 'demostrar': 5, 'hechos': 11, 'decisión': 29, 'correcta': 1, 'sabio': 1, 'cuándo': 12, 'iba': 28, 'supuestamente': 16, 'terminado': 1, 'texcocoen': 1, 'saturado': 1, 'actual': 8, 'poco': 45, 'otro': 67, 'efecto': 16, 'área': 8, 'natural': 5, 'protegida': 3, 'bastante': 22, 'dialogando': 1, 'conciliando': 1, 'sido': 16, 'fácil': 5, 'avanzado': 11, 'consulta': 13, 'mí': 10, 'gustaría': 6, 'toda': 51, 'atenco': 2, 'den': 10, 'recupera': 1, 'tierra': 5, 'naturaleza': 5, 'lagos': 1, 'aves': 2, 'segundo': 20, 'superficie': 3, 'manejada': 1, 'campesinos': 8, 'región': 5, 'permitir': 12, 'llevar': 23, 'construcciones': 1, 'negocios': 13, 'inmobiliarios': 2, 'extraño': 1, 'sorprende': 2, 'dice': 31, 'maestro': 26, 'santamaría': 4, 'quedado': 4, 'anonadado': 1, 'despliegue': 2, 'hace': 60, 'reforma': 62, 'entrevistar': 1, 'monreal': 3, 'propósito': 25, 'contrapuntearnos': 1, 'boletín': 5, 'conservadurismo': 11, 'expresarse': 3, 'manifestarse': 2, 'contestar': 8, 'además': 71, 'acabo': 3, 'discurso': 10, 'voy': 77, 'leer': 3, 'reproducen': 1, 'gano': 3, 'párrafo': 2, 'llamado': 8, 'radicalismo': 1, 'asunto': 39, 'tuyo': 1, 'jefes': 7, 'acceden': 1, 'publican': 1, 'respuesta': 12, 'estás': 20, 'preguntando': 2, 'profunda': 3, 'botepronto': 1, 'tema': 21, 'aplica': 8, 'radicales': 3, 'nosotros': 138, 'radical': 1, 'raíz': 2, 'arrancar': 1, 'régimen': 15, 'corrupto': 11, 'injusticias': 5, 'espérate': 1, 'interesante': 20, 'movimientos': 2, 'realmente': 4, 'sinceramente': 2, 'auténticamente': 2, 'buscan': 4, 'transformación': 35, 'creo': 71, 'encontré': 2, 'contexto': 1, 'peronada': 1, 'logra': 4, 'medias': 4, 'tintas': 3, 'centrismo': 1, 'moderación': 1, 'error': 2, 'noble': 3, 'oficio': 3, 'exige': 2, 'autenticidad': 1, 'definiciones': 3, 'auténticos': 2, 'hablamos': 3, 'verdad': 24, 'pronunciamos': 1, 'pobres': 22, 'justicia': 20, 'mantendremos': 1, 'identidad': 1, 'ello': 1, 'puede': 70, 'significar': 4, 'simpatía': 2, 'abajo': 21, 'lúcida': 2, 'humana': 2, 'alta': 3, 'basta': 1, 'fuerzas': 1, 'conservadoras': 1, 'reaccionarios': 1, 'ocampo': 3, 'moderados': 1, 'despiertos': 3, 'proceso': 45, 'definirse': 1, 'pasando': 8, 'cuánto': 32, 'engañaron': 5, 'proyectando': 1, 'imagen': 5, 'periódico': 9, 'independiente': 5, 'krauze': 3, 'aguilar': 1, 'camín': 1, 'intelectuales': 13, 'orgánicos': 6, 'periodistas': 16, 'conductores': 3, 'radio': 9, 'tomaban': 3, 'partido': 27, 'aparentemente': 1, 'tomar': 11, 'quedaron': 4, 'callados': 4, 'saqueaban': 1, 'fuera': 5, 'máscaras': 2, 'dónde': 30, 'hacerse': 10, 'juan': 5, 'álvarez': 3, 'ancheta': 1, 'angosta': 1, 'suscribir': 1, 'cuarta': 2, 'historia': 30, 'pacífica': 4, 'violencia': 11, 'igual': 15, 'independencia': 8, 'revolución': 12, 'llegamos': 13, 'simular': 3, 'engañamos': 1, 'revisan': 2, 'dicho': 30, 'libres': 12, 'luchamos': 1, 'ideales': 12, 'cargos': 4, 'ambiciosos': 2, 'vulgares': 1, 'arrebaten': 1, 'adelantarla': 1, 'porfiriato': 6, 'tapados': 1, 'decisiones': 3, 'élite': 9, 'dirigentes': 27, 'sacado': 1, 'momentos': 2, 'difíciles': 3, 'mucha': 32, 'pieza': 2, 'respeto': 20, 'pensamos': 4, 'reuniones': 6, 'cúpula': 2, 'resuelven': 1, 'mal': 21, 'entendido': 3, 'decidir': 10, 'molestos': 3, 'sabía': 9, 'qué': 178, 'hora': 4, 'toma': 10, 'posesión': 1, 'sabes': 2, 'llegue': 4, 'imprudentes': 1, 'lado': 14, 'pasado': 29, 'quedar': 16, 'expulsó': 2, 'embajador': 12, 'corea': 1, 'único': 13, 'votó': 2, 'contra': 42, 'expulsión': 1, 'cuba': 2, 'oea': 1, 'ejemplar': 3, 'representantes': 8, 'verlo': 5, 'nicaragüenses': 1, 'valoramos': 1, 'vemos': 28, 'pláticas': 1, 'trazo': 5, 'definiendo': 5, 'días': 60, 'resuelto': 4, 'tramo': 10, 'cancún': 16, 'tulum': 28, 'apoyos': 8, 'hoteleros': 2, 'ayudando': 11, 'julio': 9, 'nuestro': 55, 'reconocimiento': 5, 'rocío': 9, 'nahle': 7, 'ingeniero': 1, 'vallejo': 3, 'fíjense': 13, 'enojar': 1, 'deberían': 3, 'cambiando': 5, 'menos': 35, 'tener': 71, 'sentido': 9, 'humor': 1, 'amargarse': 1, 'bellísimo': 2, 'visiten': 1, 'baños': 3, 'han': 78, 'cuestionados': 1, 'haberlos': 2, 'visto': 9, 've': 6, 'parte': 42, 'ningún': 22, 'mencionando': 1, 'losla': 1, 'calidad': 9, 'obra': 39, 'conjuntos': 1, 'habitacionales': 2, 'construidos': 1, 'plazas': 1, 'comerciales': 2, 'hotel': 1, 'hospitales': 10, 'escuelas': 27, 'museo': 8, 'base': 4, 'tren': 45, 'llegar': 15, 'muchísimas': 6, 'obras': 35, 'récord': 4, 'mi': 49, 'ánimo': 2, 'querer': 6, 'compararnos': 1, 'circunstancias': 4, 'distintas': 7, 'experiencia': 3, 'realizar': 2, 'ven': 13, 'sacan': 7, 'hospital': 4, 'semana': 31, 'considerado': 2, 'terminó': 5, 'costo': 7, 'real': 5, 'pagamos': 4, 'mil': 142, 'cancelar': 1, 'deber': 2, 'ahorrar': 8, 'mitad': 8, 'cuesta': 5, 'maya': 30, 'refinería': 38, 'licitación': 4, 'original': 1, 'famosas': 2, 'queriendo': 6, 'cobrarnos': 1, 'doble': 11, 'estimaron': 2, 'ocho': 17, 'dólares': 41, 'casi': 25, 'querían': 12, 'comprometían': 1, 'terminarla': 2, 'sexenio': 5, 'tomamos': 5, 'secretaria': 26, 'energía': 28, 'miren': 37, 'algún': 5, 'comentábamos': 1, 'cuenta': 22, 'terminal': 6, 'bocas': 8, 'llega': 15, 'petróleo': 17, 'extrae': 1, 'campeche': 7, 'sureste': 6, 'millón': 12, 'barriles': 10, 'jóvenes': 23, 'instalaciones': 2, 'crudo': 12, 'puerto': 19, 'trasladar': 3, 'equipos': 2, 'estuviese': 1, 'terminar': 40, 'inaugurar': 10, 'olmeca': 4, 'portado': 7, 'actuado': 3, 'inmoralidad': 2, 'utilizar': 15, 'sufrimiento': 1, 'dolor': 4, 'propósitos': 3, 'periodísticos': 1, 'labor': 9, 'zopilotes': 3, 'apostaron': 2, 'desbordar': 1, 'problema': 35, 'íbamos': 13, 'poder': 56, 'coro': 2, 'deseándonos': 1, 'fuese': 9, 'olvidar': 7, 'posturas': 7, 'obnubilan': 1, 'perturban': 1, 'capaces': 3, 'necesitaba': 2, 'cambio': 23, 'podía': 10, 'seguir': 77, 'saqueando': 2, 'enojan': 4, 'pagar': 18, 'pueden': 30, 'robar': 8, 'quieren': 27, 'aparentando': 1, 'gentes': 2, 'decentes': 1, 'siquiera': 13, 'perdían': 3, 'respetabilidad': 3, 'ese': 146, 'doloroso': 5, 'tuvimos': 6, 'pandemia': 32, 'objetividad': 2, 'dado': 9, 'conocer': 37, 'datos': 11, 'aceptan': 8, 'reconocen': 6, 'fuimos': 6, 'vacunas': 17, 'dosis': 10, 'aplicarlas': 1, 'aplicado': 2, 'vacuna': 20, 'repitiendo': 4, 'habitantes': 6, 'dile': 1, 'carlos': 13, 'pone': 5, 'manda': 4, 'comentaristas': 2, 'mintiendo': 1, 'distorsionando': 1, 'esfuerzo': 3, 'dejaron': 12, 'sistema': 26, 'suelo': 5, 'dedicaban': 4, 'desgraciadamente': 8, 'peruanos': 2, 'ocupan': 1, 'primer': 21, 'lugar': 24, 'defunciones': 2, 'perú': 4, 'brasil': 3, 'argentina': 12, 'colombia': 4, 'pon': 6, 'tienes': 9, 'décimo': 2, 'contratadas': 1, 'pagadas': 2, 'ramiro': 1, 'ayala': 1, 'jefe': 13, 'cancillería': 2, 'embajada': 1, 'nicaragua': 6, 'él': 58, 'encargado': 4, 'pedir': 14, 'beneplácito': 4, 'leopoldo': 2, 'gyves': 2, 'perdón': 4, 'dar': 45, 'nombre': 15, 'guillermo': 1, 'zamora': 1, 'dejo': 4, 'hablé': 5, 'venezuela': 2, 'vienen': 9, 'cambios': 19, 'llevó': 8, 'fiscalía': 20, 'república': 15, 'habían': 11, 'presentado': 4, 'denuncias': 17, 'nuevos': 9, 'trata': 12, 'tú': 38, 'mencionas': 4, 'operativo': 3, 'rápido': 6, 'furioso': 2, 'informa': 5, 'imagino': 1, 'fiscalías': 1, 'debemos': 9, 'independientes': 6, 'informe': 34, 'entregar': 14, 'velo': 1, 'buenos': 26, 'lunes': 18, 'iniciamos': 2, 'conferencia': 4, 'espantemos': 1, 'formas': 10, 'cuidarnos': 2, 'evitar': 7, 'contagios': 12, 'contagiosa': 4, 'creciendo': 11, 'hospitalizaciones': 7, 'incremento': 13, 'vacunarnos': 5, 'dejar': 26, 'aplicarnos': 2, 'refuerzo': 9, 'seguro': 21, 'síntomas': 12, 'agravamos': 1, 'amor': 13, 'paga': 8, 'recíproco': 1, 'agradecerles': 9, 'muestras': 3, 'afecto': 3, 'solidaridad': 8, 'mandatarios': 1, 'extranjeros': 11, 'expresaron': 1, 'hacia': 18, 'completo': 12, 'estuve': 3, 'contagio': 6, 'volver': 3, 'actividades': 3, 'presenciales': 7, 'padece': 2, 'iniciar': 11, 'sheffield': 4, 'contagioso': 1, 'libró': 1, 'estuvo': 12, 'conmigo': 5, 'parecer': 4, 'contagia': 1, 'mía': 1, 'gracias': 19, 'cuatro': 25, 'leves': 1, 'calentura': 3, 'oxigenación': 1, 'arriba': 55, 'malestar': 2, 'cuerpo': 4, 'ronquera': 1, 'ardor': 1, 'garganta': 3, 'básicamente': 8, 'tratamiento': 2, 'consistió': 1, 'cuidarme': 1, 'aislarme': 1, 'agua': 18, 'recomiendan': 2, 'médicos': 16, 'quise': 1, 'tomarlo': 2, 'suficiente': 7, 'miel': 1, 'caro': 1, 'limón': 1, 'procuraba': 1, 'ponerle': 1, 'remedios': 1, 'sabemos': 8, 'burlan': 1, 'vaporub': 1, 'gusta': 8, 'acaricien': 1, 'talladita': 1, 'pecho': 1, 'espalda': 5, 'plantas': 5, 'pies': 2, 'niños': 32, 'adultos': 15, 'quien': 19, 'caricia': 1, 'libre': 8, 'repito': 8, 'alentador': 3, 'gravedad': 2, 'atendernos': 1, 'pendientes': 12, 'requiere': 11, 'prueba': 2, 'espantarnos': 1, 'quienes': 31, 'pensado': 3, 'recomendaría': 2, 'vacunen': 2, 'afecta': 6, 'daño': 9, 'secundario': 2, 'protege': 3, 'continuar': 7, 'plan': 26, 'vacunación': 16, 'llegando': 7, 'comunidades': 9, 'apartadas': 4, 'vacunar': 7, 'piensa': 4, 'problemas': 17, 'protegidos': 2, 'cuidan': 1, 'lleguen': 1, 'extraños': 1, 'quedan': 14, 'chiapas': 6, 'pequeñas': 3, 'visitando': 3, 'aprovecho': 12, 'vacunemos': 2, 'vaya': 16, 'disminuyendo': 2, 'ayudar': 22, 'ayer': 64, 'celebramos': 2, 'aniversario': 4, 'natalicio': 1, 'pellicer': 6, 'poeta': 4, 'dedicado': 5, 'arqueología': 1, 'creó': 4, 'museos': 3, 'tabasco': 11, 'tocó': 4, 'montar': 1, 'amiga': 1, 'frida': 2, 'kahlo': 1, 'azul': 1, 'universidad': 2, 'sonora': 29, 'personaje': 3, 'gabriela': 1, 'mistral': 1, 'distinguió': 1, 'llamándolo': 1, 'vida': 37, 'intelectual': 4, 'creatividad': 2, 'artística': 1, 'causas': 8, 'justas': 2, 'nacional': 19, 'internacional': 10, 'participante': 2, 'brigadas': 1, 'internacionalistas': 1, 'españa': 7, 'guerra': 2, 'civil': 12, 'franquismo': 1, 'defender': 10, 'simpatizante': 1, 'vasconcelos': 2, 'candidato': 12, 'maximato': 1, 'callista': 1, 'comité': 4, 'dominaba': 1, 'somoza': 3, 'fortuna': 1, 'dicha': 3, 'conocerlo': 2, 'amigo': 5, 'profundo': 3, 'indígenas': 9, 'contaba': 3, 'suceso': 1, 'senador': 6, 'decide': 9, 'vender': 8, 'paisajes': 2, 'maría': 14, 'velasco': 2, 'dinero': 73, 'crear': 9, 'fundación': 5, 'apoyo': 34, 'chontales': 1, 'pinturas': 3, 'estaban': 33, 'valuadas': 1, 'colección': 3, 'aquellos': 3, 'tiempos': 27, 'amordazaron': 1, 'ama': 1, 'llaves': 1, 'chabelita': 1, 'robaron': 1, 'cuadros': 2, 'bastidores': 1, 'cortaron': 1, 'orilla': 4, 'lienzos': 1, 'partir': 20, 'deprimió': 1, 'entristeció': 1, 'vi': 2, 'cuento': 1, 'seguía': 2, 'convicción': 6, 'teníamos': 6, 'apoyar': 13, 'hombre': 18, 'extraordinario': 7, 'dimensión': 2, 'social': 28, 'amante': 1, 'trópico': 1, 'belleza': 2, 'valle': 5, 'excepcional': 6, 'conocido': 4, 'conoce': 12, 'poética': 2, 'admirables': 1, 'siguiendo': 1, 'camino': 12, 'hacerle': 3, 'buscar': 20, 'humilde': 3, 'dije': 16, 'sentiría': 1, 'orgulloso': 2, 'viviera': 1, 'puedo': 19, 'comentarte': 2, 'preguntas': 17, 'atendiendo': 7, 'planteaste': 1, 'embargo': 21, 'expuso': 2, 'pienso': 7, 'haber': 45, 'bajas': 1, 'despidos': 3, 'aún': 6, 'ola': 6, 'detenido': 2, 'crecimiento': 13, 'economía': 17, 'afectaciones': 2, 'restaurantes': 4, 'ciertos': 5, 'sectores': 7, 'transitorio': 2, 'durar': 2, 'veo': 5, 'presente': 11, 'situación': 24, 'hubo': 26, 'suceder': 4, 'sucediendo': 4, 'padecimos': 2, 'diciembre': 17, 'algunas': 10, 'despedir': 1, 'paguen': 5, 'aguinaldos': 1, 'u': 3, 'prestaciones': 5, 'totalmente': 5, 'recuperación': 10, 'pérdida': 11, 'empleos': 9, 'anda': 2, 'orden': 11, 'terminemos': 4, 'mes': 16, 'pérdidas': 2, 'empleo': 4, 'ponemos': 2, 'comportamiento': 5, 'enero': 10, 'inscritos': 2, 'inercia': 2, 'empieza': 8, 'empezar': 14, 'notar': 1, 'portan': 1, 'desalmados': 2, 'empiezan': 4, 'sentir': 1, 'corren': 1, 'inmediato': 3, 'pocos': 6, 'actúan': 4, 'suceda': 3, 'apreciación': 1, 'disminución': 9, 'perdidos': 1, 'poquito': 2, 'tendencia': 2, 'pronóstico': 3, 'inscriben': 1, 'presentar': 11, 'deseen': 1, 'hacerlo': 7, 'voluntario': 4, 'habíamos': 4, 'invitarlos': 1, 'inscriban': 1, 'próxima': 5, 'quiénes': 14, 'venir': 7, 'definimos': 1, 'unas': 4, 'reglas': 5, 'libertad': 9, 'tengan': 19, 'hablarles': 1, 'petroleros': 10, 'compañeras': 8, 'probable': 3, 'fin': 16, 'reanuden': 1, 'giras': 1, 'opciones': 4, 'sistemas': 6, 'riego': 20, 'sinaloa': 9, 'nayarit': 13, 'inaugurando': 3, 'bancos': 17, 'bienestar': 42, 'hidalgo': 10, 'posibilidades': 2, 'informarles': 2, 'lleve': 7, 'pago': 4, 'disponibles': 2, 'pemex': 29, 'use': 1, 'recurso': 6, 'informaron': 2, 'puso': 10, 'disposición': 5, 'banobras': 1, 'trasladó': 1, 'transfirió': 1, 'recursos': 24, 'cerrar': 9, 'operación': 14, 'director': 9, 'llevando': 13, 'negociación': 4, 'necesita': 6, 'alguien': 9, 'recibirla': 2, 'tratar': 5, 'reunirse': 2, 'secretario': 37, 'exteriores': 2, 'recibir': 5, 'palacio': 6, 'salir': 16, 'extranjero': 10, 'extranjera': 3, 'quiere': 13, 'comprar': 9, 'autoriza': 1, 'integrado': 1, 'departamento': 3, 'tesoro': 1, 'organismos': 4, 'estas': 36, 'instituciones': 8, 'apoyaron': 1, 'histórico': 5, 'recuperar': 2, 'banamex': 19, 'mexicanice': 3, 'surgió': 2, 'allá': 43, 'confirmamos': 1, 'parecido': 4, 'mexicana': 11, 'aviación': 1, 'emblemas': 1, 'queda': 8, 'banorte': 1, 'pequeñitos': 1, 'privatizaron': 2, 'citigroup': 8, 'cambiar': 7, 'dedicarse': 2, 'banca': 4, 'consumo': 6, 'mayoreo': 1, 'financieras': 2, 'comprado': 3, 'china': 3, 'india': 2, 'deciden': 2, 'entrevisté': 1, 'presidenta': 7, 'citi': 1, 'vino': 3, 'vernos': 1, 'supimos': 1, 'tuvieron': 1, 'amabilidad': 1, 'informarnos': 4, 'hablaron': 2, 'notificarle': 1, 'iban': 20, 'noticia': 11, 'sabíamos': 3, 'ventajas': 5, 'diferencia': 15, 'sepa': 9, 'vendieron': 8, 'pagaron': 4, 'nacido': 1, 'ciudadano': 11, 'reciente': 3, 'varios': 5, 'entró': 2, 'fox': 14, 'recibido': 1, 'salinas': 9, 'entregó': 2, 'roberto': 5, 'hernández': 7, 'banqueros': 1, 'casas': 6, 'bolsa': 10, 'zedillo': 8, 'rescatar': 3, 'fobaproa': 6, 'convirtieron': 1, 'deudas': 4, 'privadas': 4, 'deuda': 8, 'emitieron': 1, 'bonos': 3, 'tesorería': 2, 'llegó': 15, 'billón': 4, 'pagan': 11, 'intereses': 12, 'pagado': 3, 'sigue': 22, 'potentados': 10, 'homenajes': 1, 'hablan': 9, 'consideran': 5, 'rescata': 4, 'venden': 5, 'alrededor': 11, 'ley': 29, 'hacían': 13, 'agarraron': 1, 'hubiese': 12, 'anclarnos': 1, 'aprendemos': 1, 'quién': 59, 'lleva': 9, 'operaciónfrancisco': 1, 'gil': 1, 'díaz': 12, 'trabajado': 2, 'dueño': 5, 'principal': 11, 'subsecretario': 4, 'trabajó': 1, 'recomienda': 4, 'nombra': 1, 'alegan': 1, 'legal': 15, 'solamente': 2, 'daba': 2, 'leyes': 8, 'hechas': 1, 'beneficiar': 1, 'minoría': 8, 'periodo': 25, 'neoliberal': 29, 'reformaron': 2, 'constitución': 15, 'élites': 3, 'legalizar': 2, 'robo': 7, 'saqueo': 8, 'vergüenza': 6, 'muchísimos': 5, 'legisladores': 4, 'dedicaron': 4, 'servicio': 23, 'mandaban': 5, 'ajustaron': 1, 'marco': 4, 'importarle': 1, 'popular': 5, 'significa': 18, 'quitarle': 1, 'beneficios': 4, 'educación': 32, 'vende': 3, 'cobrar': 11, 'depende': 3, 'cantidad': 6, 'venda': 3, 'ingresar': 1, 'chovinistas': 1, 'obtienen': 1, 'mexicanos': 27, 'utilidades': 12, 'llevan': 12, 'reinvierten': 1, 'siendo': 19, 'hombres': 21, 'negocio': 15, 'garantía': 3, 'reinviertan': 2, 'pocas': 5, 'muchísimo': 15, 'intermediación': 4, 'costos': 5, 'dan': 8, 'respetado': 2, 'cambiado': 4, 'bastantes': 2, 'logramos': 8, 'sean': 11, 'avance': 19, 'edificios': 3, 'colecciones': 1, 'arte': 5, 'mejores': 9, 'artistas': 1, 'pintores': 2, 'extraordinaria': 2, 'cultura': 9, 'aspectos': 1, 'legales': 4, 'dificultar': 1, 'venta': 10, 'obstáculos': 6, 'debe': 41, 'llevarse': 4, 'demostrarse': 1, 'auténtico': 1, 'inversionistas': 4, 'tomarse': 2, 'depósitos': 1, 'deben': 8, 'queden': 3, 'solvencia': 4, 'económica': 15, 'respaldar': 2, 'clientes': 6, 'tomando': 3, 'momento': 13, 'auténtica': 4, 'canso': 1, 'repetir': 10, 'demos': 2, 'kratos': 1, 'expertos': 3, 'acaudalado': 1, 'cuestan': 3, 'elecciones': 10, 'contempla': 2, 'despidan': 1, 'mismos': 12, 'médico': 7, 'privado': 6, 'gastaban': 2, 'presupuesto': 37, 'servicios': 6, 'privados': 3, 'issste': 6, 'clínicas': 1, 'injusto': 6, 'háganle': 1, 'planteando': 15, 'estemos': 12, 'recomendando': 4, 'reduzcan': 2, 'sueldo': 8, 'ganando': 3, 'argumentos': 7, 'leguleyos': 2, 'moral': 11, 'llegaban': 1, 'sueldos': 8, 'mensuales': 8, 'decían': 10, 'corrompan': 1, 'atreve': 1, 'público': 34, 'tanta': 3, 'pobreza': 3, 'servidor': 9, 'ambicioso': 1, 'vulgar': 1, 'iniciativa': 9, 'privada': 8, 'cobran': 3, 'usaron': 1, 'trabajan': 8, 'mero': 1, 'ecuador': 1, 'panamá': 3, 'costa': 3, 'rica': 1, 'honduras': 1, 'bolivia': 3, 'guatemala': 1, 'uruguay': 1, 'paraguay': 2, 'nueve': 4, 'acuerdo': 50, 'población': 12, 'urge': 1, 'austeridad': 18, 'ine': 15, 'resolver': 13, 'degradando': 1, 'institución': 4, 'aparecen': 1, 'importa': 19, 'justificación': 2, 'tipo': 10, 'político': 20, 'sucede': 7, 'pertenecen': 3, 'bloque': 3, 'conservador': 8, 'ponen': 9, 'pelear': 1, 'ideológico': 2, 'correcto': 2, 'cuidar': 7, 'razón': 6, 'cumplir': 9, 'elección': 16, 'establece': 4, 'casillas': 5, 'equilibrio': 1, 'concentración': 3, 'lograr': 4, 'abusado': 1, 'dices': 7, 'fresco': 1, 'condonaron': 1, 'listaah': 1, 'rayaron': 2, 'felipe': 16, 'peña': 8, 'sucedía': 5, 'altos': 5, 'vuelos': 4, 'aspiracionistas': 2, 'peor': 6, 'apoye': 1, 'modelo': 6, 'autoridad': 19, 'complicidad': 5, 'componendas': 1, 'existía': 2, 'sat': 3, 'condonar': 1, 'cobrando': 3, 'ambulantes': 1, 'cobrarles': 2, 'esos': 38, 'planteamientos': 2, 'hipocresía': 9, 'hablaban': 5, 'fiscal': 9, 'informal': 3, 'incorporaba': 1, 'registros': 2, 'padrones': 1, 'contribuyentes': 1, 'resolvía': 1, 'recaudar': 2, 'busca': 6, 'alturas': 1, 'molesta': 8, 'entendiendo': 5, 'coraje': 5, 'clases': 19, 'comunicadores': 1, 'servían': 2, 'alcahuetes': 3, 'envolver': 1, 'ofrecerlo': 1, 'panacea': 1, 'advierto': 1, 'mentalidad': 8, 'acompañado': 2, 'argumenta': 1, 'crítico': 2, 'participa': 3, 'redes': 8, 'sociales': 10, 'debate': 9, 'argumentación': 1, 'anteriormente': 3, 'sola': 3, 'opinión': 16, 'boletines': 4, 'funciona': 4, 'aceptar': 3, 'ángeles': 9, 'lejos': 5, 'vean': 6, 'periódicos': 7, 'parecen': 1, 'espérense': 1, 'conectado': 1, 'tengamos': 10, 'concluyamos': 1, 'centro': 12, 'minutos': 5, 'hablaba': 13, 'tizayuca': 1, 'lejosy': 1, 'aeropuertos': 3, 'mundoen': 1, 'lados': 7, 'conectividad': 1, 'directivos': 2, 'responsables': 12, 'informándonos': 1, 'pasó': 10, 'precisamente': 4, 'motivo': 6, 'hable': 1, 'garantías': 1, 'claras': 1, 'existen': 5, 'modificaciones': 1, 'casos': 25, 'insostenible': 1, 'legislación': 2, 'industria': 4, 'eléctrica': 14, 'destruir': 8, 'comisión': 26, 'federal': 38, 'electricidad': 22, 'afectar': 6, 'iberdrola': 12, 'luz': 10, 'garantiza': 1, 'aumentos': 4, 'capacidad': 9, 'regulación': 1, 'acaba': 6, 'sucedería': 1, 'conviene': 7, 'consideramos': 7, 'legítimo': 1, 'particular': 6, 'excesos': 3, 'abusos': 4, 'ganancia': 3, 'razonable': 1, 'atraco': 1, 'encima': 10, 'porfirio': 6, 'salones': 1, 'oficinas': 8, 'concesiones': 10, 'contratos': 20, 'lenguaje': 1, 'cambie': 1, 'plática': 2, 'viven': 6, 'paisanos': 6, 'migrantes': 6, 'cocinas': 1, 'hablábamos': 9, 'camas': 5, 'calientes': 2, 'aplicó': 3, 'expropiación': 2, 'petrolera': 2, 'recurrió': 1, 'llamó': 3, 'fracasar': 2, 'rogarles': 1, 'vinieran': 1, 'echar': 4, 'andar': 9, 'sacó': 2, 'campos': 5, 'campamentos': 2, 'hablar': 23, 'terminaba': 1, 'turno': 3, 'acostar': 1, 'levantaba': 1, 'trabajo': 39, 'cama': 2, 'caliente': 1, 'rentar': 1, 'caras': 2, 'departamentos': 7, 'consiguen': 1, 'grande': 9, 'literas': 1, 'organizan': 1, 'regresan': 2, 'deja': 1, 'levanta': 1, 'irse': 4, 'mexicano': 6, 'mujer': 9, 'mujeres': 32, 'saca': 3, 'avanzaba': 2, 'flojo': 2, 'indolente': 1, 'manipularon': 1, 'salíamos': 1, 'creyeron': 1, 'cabeza': 1, 'trabajas': 1, 'dios': 4, 'sufra': 1, 'sencillo': 3, 'elemental': 1, 'imperaba': 4, 'sacaban': 2, 'provecho': 5, 'cuantos': 5, 'darles': 2, 'carros': 6, 'utilizan': 4, 'abrían': 1, 'boca': 1, 'ferrari': 1, 'funcionarios': 11, 'compraban': 2, 'miami': 2, 'venía': 5, 'inmensamente': 1, 'ricos': 4, 'terminando': 8, 'tarden': 1, 'procesos': 13, 'integren': 1, 'expedientes': 1, 'impunidad': 22, 'convencido': 3, 'esperarnos': 6, 'tarda': 4, 'pensaba': 1, 'olvidado': 2, 'consignación': 1, 'esperarse': 1, 'pensar': 6, 'satisfacción': 2, 'fabricar': 1, 'delitos': 5, 'adversario': 1, 'opositor': 4, 'inmoral': 3, 'nunca': 26, 'actúa': 5, 'fabrican': 1, 'opino': 2, 'enojarnos': 1, 'ocultar': 3, 'protegemos': 1, 'avergonzarnos': 1, 'investigaciones': 1, 'solicitó': 2, 'seguramente': 16, 'seguridad': 30, 'propusieron': 1, 'aplicara': 1, 'pastillas': 1, 'cada': 31, 'horas': 6, 'quita': 2, 'aplique': 2, 'molestias': 3, 'graves': 3, 'mayor': 16, 'enfermedades': 3, 'tratando': 3, 'expliqué': 4, 'opté': 1, 'salí': 3, 'ordenó': 1, 'medicamentos': 14, 'mantenga': 2, 'entregue': 3, 'gratuita': 3, 'vayan': 9, 'impiden': 1, 'autorice': 1, 'mercado': 16, 'vendiendo': 4, 'privilegio': 1, 'convertir': 3, 'realidad': 7, 'decirles': 8, 'adquiriendo': 1, 'di': 4, 'instrucción': 3, 'comprara': 1, 'adquisición': 1, 'digan': 5, 'distribuir': 2, 'usarse': 1, 'garanticemos': 1, 'acceso': 3, 'posibilidad': 11, 'medicamento': 4, 'logrado': 11, 'informamos': 3, 'doctor': 21, 'jorge': 5, 'alcocer': 8, 'hugo': 13, 'lópezgatell': 7, 'posteriormente': 3, 'maestra': 12, 'delfina': 4, 'gómez': 4, 'marcelo': 4, 'ebrard': 4, 'cresencio': 1, 'sandoval': 1, 'comenzamos': 1, 'enlaces': 1, 'personal': 8, 'educativo': 9, 'veracruz': 17, 'aguascalientes': 4, 'querétaro': 6, 'quintana': 19, 'roo': 19, 'mejorar': 6, 'regresamos': 3, 'mejora': 1, 'cuitláhuac': 8, 'gobernador': 13, 'iniciando': 3, 'etapa': 5, 'saludo': 6, 'guerrero': 10, 'gobernadora': 4, 'joaquín': 2, 'garcía': 15, 'teléfono': 5, 'perseverante': 2, 'mientras': 6, 'adriana': 2, 'martha': 2, 'obeso': 1, 'dieron': 13, 'nombres': 3, 'representar': 3, 'embajadas': 1, 'aceptada': 1, 'cuestionamientos': 1, 'exgobernadores': 4, 'pri': 5, 'declarando': 1, 'podrían': 1, 'expulsados': 1, 'cargo': 24, 'protestas': 4, 'salmerón': 5, 'denuncia': 18, 'presentó': 4, 'existe': 14, 'según': 7, 'entiendo': 2, 'formal': 1, 'presenten': 3, 'decidan': 3, 'propuestas': 7, 'avaladas': 1, 'senado': 6, 'inicia': 2, 'propuestos': 1, 'planteamiento': 7, 'merecen': 1, 'representarnos': 1, 'presentaran': 3, 'electorales': 3, 'actuaron': 1, 'imparcialidad': 1, 'vivimos': 3, 'aspiramos': 1, 'constante': 2, 'permanente': 2, 'podamos': 15, 'vivir': 8, 'pluralidad': 1, 'garantice': 5, 'disentir': 3, 'opiniones': 2, 'respetamos': 1, 'resulta': 8, 'punto': 5, 'vista': 3, 'historiador': 4, 'katz': 2, 'estudio': 1, 'francisco': 6, 'villa': 2, 'libro': 6, 'división': 2, 'texto': 5, 'preparada': 2, 'adelantarnos': 3, 'faccioso': 2, 'participando': 3, 'exprese': 1, 'plural': 1, 'morena': 5, 'garantizar': 13, 'militancia': 2, 'partidos': 18, 'cumplido': 2, 'invité': 1, 'participar': 9, 'exgobernador': 1, 'pan': 3, 'corral': 1, 'nacionalidad': 2, 'buscando': 12, 'ayudemos': 2, 'representemos': 1, 'embajadores': 3, 'partidista': 3, 'definida': 1, 'solución': 2, 'controversias': 1, 'pidiendo': 6, 'último': 9, 'especulación': 2, 'diría': 10, 'incorrecta': 1, 'analizamos': 1, 'móviles': 2, 'porqué': 3, 'asesinatos': 5, 'contrario': 3, 'distintasuna': 1, 'persigue': 2, 'acepten': 3, 'diferentes': 3, 'permite': 4, 'adversarios': 15, 'aprovechan': 3, 'atacarnos': 2, 'preocupe': 1, 'preocupar': 1, 'pierdan': 1, 'seres': 4, 'sacar': 6, 'humano': 5, 'afectarnos': 3, 'deshonestos': 2, 'diferencias': 12, 'ideológicas': 2, 'plano': 3, 'terreno': 12, 'dirimir': 1, 'nuestras': 2, 'desdicha': 1, 'actuar': 7, 'claridad': 5, 'especie': 3, 'masoquismo': 2, 'imperó': 2, 'defienden': 4, 'capa': 2, 'espada': 2, 'demonios': 1, 'combatiendo': 4, 'viviendo': 7, 'simulación': 10, 'escritores': 1, 'televisión': 6, 'pertenecían': 2, 'sociedad': 16, 'agrupado': 1, 'representamos': 1, 'aprobación': 2, 'definición': 1, 'saber': 13, 'fortalezca': 2, 'extranjeras': 9, 'nacionales': 3, 'reciben': 8, 'subsidio': 6, 'simulando': 1, 'robalera': 1, 'robalo': 1, 'aguas': 2, 'definirnos': 1, 'engañando': 2, 'temblar': 1, 'mano': 6, 'demagogia': 4, 'sirve': 2, 'cree': 2, 'celebro': 5, 'definan': 1, 'engañaban': 3, 'distintos': 9, 'acuerdan': 12, 'honor': 3, 'esopara': 1, 'repasada': 1, 'nacen': 1, 'transforman': 1, 'desarrollan': 1, 'siguen': 5, 'formalmente': 4, 'incluso': 19, 'alianzas': 1, 'postulan': 1, 'candidatos': 17, 'programa': 11, 'corruptos': 16, 'hipócritas': 7, 'única': 4, 'cínicos': 3, 'morales': 8, 'lechuga': 1, 'malo': 2, 'habla': 6, 'puse': 1, 'hice': 4, 'procurador': 1, 'quería': 4, 'dirigente': 13, 'arreglados': 1, 'trozos': 1, 'dignidad': 6, 'generó': 1, 'dirección': 3, 'renunció': 1, 'perder': 5, 'dejando': 2, 'salvo': 2, 'enojo': 2, 'lucha': 7, 'creados': 3, 'normal': 4, 'quieran': 4, 'reconforta': 1, 'apoya': 6, 'polarización': 4, 'desigualdad': 6, 'monstruosa': 2, 'destierre': 1, 'inconformes': 1, 'antiguo': 2, 'cambió': 5, 'ampliamente': 1, 'pregunta': 11, 'escuchamos': 2, 'aplicando': 7, 'cuidemos': 3, 'escuela': 14, 'mantengan': 1, 'abiertas': 4, 'cuidando': 6, 'niñas': 15, 'protocolo': 3, 'hogar': 4, 'estudiantes': 7, 'nivel': 11, 'básico': 2, 'contentos': 2, 'aulas': 2, 'maestras': 5, 'magisterio': 4, 'portando': 2, 'altura': 3, 'contigo': 1, 'propongo': 2, 'aceptas': 1, 'adelfo': 1, 'regino': 1, 'responsable': 14, 'atención': 20, 'presentan': 2, 'plazo': 3, 'evaluación': 3, 'persona': 9, 'elementos': 10, 'cumpliendo': 7, 'compañero': 10, 'compañera': 16, 'tercero': 5, 'cuarto': 3, 'presentaron': 3, 'instancias': 3, 'correspondientes': 2, 'convocamos': 1, 'ayudamos': 7, 'lleven': 4, 'anticorrupción': 1, 'guardan': 1, 'consciente': 5, 'presentarse': 1, 'juicios': 4, 'sumarios': 4, 'culpable': 2, 'competente': 2, 'duerman': 2, 'sueño': 1, 'injustos': 1, 'tomé': 1, 'recorro': 1, 'hablo': 7, 'gobernadores': 4, 'llego': 2, 'trabajamos': 4, 'coordinada': 4, 'independientemente': 7, 'banderías': 1, 'partidistas': 3, 'caminos': 8, 'admirando': 1, 'zonas': 6, 'bellísimas': 1, 'barrancas': 1, 'mirador': 1, 'exactamente': 6, 'acompañando': 1, 'atareados': 1, 'tramos': 6, 'aprovechamos': 1, 'termines': 1, 'invitamos': 3, 'platicando': 2, 'familia': 4, 'aceptación': 1, 'familiares': 8, 'tomó': 5, 'políticopartidista': 1, 'rudo': 1, 'excesivo': 3, 'dejan': 8, 'vendiéndose': 1, 'estén': 17, 'tolerante': 1, 'cambien': 3, 'tomada': 1, 'aseguran': 1, 'militando': 1, 'militantes': 1, 'entienden': 3, 'aysa': 1, 'seria': 1, 'respetuosa': 8, 'pesar': 8, 'entendimos': 1, 'agradece': 1, 'sigueadelante': 1, 'cifra': 2, 'organizaciones': 12, 'proyecciones': 1, 'pedirle': 13, 'pronto': 14, 'previendo': 1, 'cálculo': 1, 'crecer': 1, 'estima': 1, 'ingresos': 7, 'estimación': 2, 'venga': 5, 'reafirmar': 1, 'modificar': 1, 'proyección': 2, 'comentarles': 3, 'efectos': 1, 'dato': 15, 'combustible': 4, 'buen': 10, 'indicador': 1, 'veía': 6, 'indicadores': 3, 'muestran': 1, 'recuperándonos': 1, 'económico': 11, 'acuérdense': 2, 'económicos': 1, 'inflación': 16, 'salario': 16, 'remesas': 7, 'hablas': 1, 'drogas': 1, 'complementar': 1, 'farmacéuticas': 1, 'sigilo': 1, 'solicitan': 1, 'decirle': 4, 'apresurando': 1, 'contar': 2, 'necesarios': 3, 'explicó': 2, 'necesitan': 2, 'uso': 4, 'mayores': 23, 'enfermedad': 2, 'grave': 5, 'debería': 4, 'conciencia': 6, 'vacunado': 3, 'desprotegido': 2, 'emergencia': 2, 'protegerlo': 1, 'disponible': 1, 'mande': 5, 'lista': 3, 'ayuden': 6, 'preguntaron': 3, 'dé': 6, 'oportunidad': 8, 'seguido': 2, 'reunión': 19, 'defensa': 22, 'marina': 13, 'avisamos': 1, 'gira': 6, 'expresar': 2, 'injusta': 4, 'respetuosos': 6, 'absoluta': 3, 'conozco': 4, 'servidora': 1, 'recordar': 2, 'ella': 15, 'militante': 1, 'dedicaba': 4, 'directora': 2, 'texcoco': 14, 'invitó': 1, 'candidata': 3, 'municipal': 7, 'complicado': 3, 'antidemocracia': 2, 'voto': 10, 'ganó': 4, 'presidencia': 14, 'e': 6, 'diputada': 1, 'distrito': 10, 'ganado': 4, 'diputación': 2, 'triunfáramos': 1, 'ganara': 1, 'competida': 1, 'acusación': 1, 'ayuntamiento': 1, 'aportaron': 1, 'acusan': 1, 'obligado': 1, 'haberse': 2, 'señora': 11, 'honesta': 5, 'digna': 1, 'siento': 3, 'secretarios': 6, 'vive': 3, 'comento': 2, 'fingen': 1, 'progresistas': 1, 'objetivos': 2, 'intencionalidad': 1, 'detrás': 4, 'tribunal': 6, 'seguimiento': 3, 'mirones': 1, 'candidatas': 5, 'enteré': 1, 'enferma': 1, 'deseo': 3, 'mejore': 1, 'meto': 2, 'ataque': 1, 'honesto': 3, 'indagar': 1, 'postura': 6, 'caseta': 1, 'casetas': 7, 'ahorros': 4, 'importantísimos': 1, 'echó': 3, 'liberaran': 1, 'tomadas': 3, 'principio': 3, 'dijimos': 2, 'erradicar': 1, 'desterrar': 4, 'robaban': 6, 'saquear': 5, 'grado': 4, 'haciéndonos': 1, 'creer': 1, 'mordida': 3, 'tránsito': 2, 'ventanilla': 1, 'huachicol': 3, 'pinchar': 1, 'ducto': 3, 'clandestina': 2, 'robando': 2, 'debes': 1, 'dedicarte': 1, 'ilícitas': 1, 'tolera': 1, 'idea': 8, 'prevalecía': 1, 'hablado': 3, 'vehículo': 2, 'cuidaba': 1, 'baches': 2, 'velocidad': 1, 'ahorra': 1, 'autopistas': 1, 'cuernavaca': 2, 'pachuca': 1, 'corrigiendo': 1, 'agradezco': 6, 'últimamente': 3, 'autopista': 1, 'habido': 17, 'tomas': 1, 'resto': 3, 'prevalece': 2, 'heredamos': 2, 'encontramos': 4, 'resolvió': 4, 'cuántos': 12, 'asistido': 1, 'habló': 7, 'alumnos': 4, 'cuántas': 11, 'cerradas': 4, 'porcentaje': 4, 'llevarlos': 1, 'revisar': 9, 'regreso': 5, 'comparaciones': 1, 'entender': 4, 'ciertas': 1, 'debatir': 2, 'colegio': 1, 'militar': 3, 'impartir': 1, 'cerraron': 2, 'planteles': 1, 'cuidaron': 1, 'interrumpieron': 1, 'cuidó': 2, 'opositores': 7, 'regresara': 1, 'imagínese': 4, 'atraso': 2, 'encerrados': 1, 'sometidos': 1, 'aparatos': 3, 'electrónicos': 1, 'contenidos': 3, 'tóxicos': 1, 'promotores': 7, 'cuestiones': 5, 'sentados': 1, 'inactivos': 1, 'ocasiona': 1, 'convivencia': 4, 'comunicación': 17, 'enseña': 1, 'aprende': 1, 'adquiere': 1, 'amigos': 12, 'adolescentes': 3, 'enseñanza': 1, 'socializar': 1, 'encuentran': 5, 'consuelo': 3, 'apoyados': 1, 'sustituir': 1, 'aparato': 4, 'convencer': 3, 'persuadir': 2, 'imponer': 4, 'argumentar': 1, 'terrible': 2, 'cerremos': 1, 'animando': 1, 'protegiendo': 5, 'exacto': 1, 'cerrado': 2, 'abrieron': 1, 'temporalmente': 1, 'vuelven': 6, 'abrir': 4, 'directores': 6, 'eficaz': 2, 'padres': 5, 'niña': 2, 'niño': 1, 'mandarlo': 1, 'llevarlo': 1, 'notificación': 1, 'quirino': 2, 'ordaz': 7, 'acepte': 2, 'quisieran': 8, 'rechazaran': 1, 'español': 2, 'ofrecieran': 1, 'disculpas': 5, 'reiniciar': 1, 'reconciliación': 1, 'cercanía': 1, 'hermandad': 1, 'tomaron': 1, 'respondieron': 1, 'carta': 12, 'asuma': 2, 'responsabilidad': 12, 'pudo': 2, 'españolas': 3, 'veían': 2, 'conquista': 2, 'aceptamos': 2, 'aceptarían': 1, 'llegaran': 1, 'sucedió': 11, 'nieto': 7, 'abundantes': 1, 'repsol': 2, 'ohl': 5, 'española': 3, 'monopólica': 1, 'surgida': 1, 'violaciones': 1, 'beneficiadas': 1, 'llamada': 6, 'energética': 9, 'incumplen': 1, 'violan': 1, 'ordenamientos': 1, 'crearon': 6, 'llamadas': 8, 'sociedades': 4, 'autoabasto': 4, 'supone': 1, 'planta': 2, 'genera': 1, 'usada': 1, 'dueña': 2, 'termoeléctrica': 2, 'generadores': 1, 'eólica': 1, 'fuesen': 2, 'prohibido': 2, 'corregir': 1, 'violen': 1, 'engañe': 1, 'producen': 4, 'oxxos': 2, 'barata': 2, 'usuarios': 2, 'doméstico': 3, 'familias': 6, 'transmisión': 1, 'ventiladores': 1, 'generar': 1, 'aire': 1, 'viento': 3, 'parados': 1, 'sol': 2, 'entran': 1, 'reforzar': 7, 'encargué': 1, 'estableciera': 1, 'iniciaran': 1, 'trámites': 6, 'créditos': 13, 'otorgado': 1, 'funcionando': 4, 'entregado': 3, 'talleres': 1, 'tandas': 3, 'fondos': 18, 'grupo': 11, 'opera': 1, 'integración': 3, 'programas': 22, 'físicamente': 1, 'sucursal': 2, 'nación': 18, 'sepan': 4, 'mejía': 1, 'tenga': 15, 'equipo': 9, 'llama': 16, 'pamela': 1, 'buenísima': 3, 'marath': 1, 'construyendo': 4, 'ariadna': 1, 'discapacidad': 5, 'sembrando': 1, 'personasporque': 1, 'sectarizarnos': 1, 'sectas': 1, 'mis': 9, 'agenda': 17, 'respublca': 1, 'objetivo': 8, 'transformar': 2, 'exagerada': 1, 'secta': 1, 'complejo': 3, 'inseguridadporque': 1, 'juntos': 5, 'guardia': 7, 'gobernación': 15, 'reunimos': 2, 'almirante': 1, 'adán': 3, 'augusto': 1, 'rosa': 17, 'icela': 17, 'rodríguez': 12, 'consejera': 3, 'jurídica': 3, 'intermediarios': 3, 'promotor': 2, 'deba': 2, 'crédito': 1, 'tarjeta': 3, 'gubernamentales': 6, 'llegaba': 8, 'agarraban': 1, 'campañas': 5, 'contrataban': 1, 'promoción': 2, 'terminaban': 1, 'cerca': 7, 'predicar': 1, 'planteado': 1, 'ocasiones': 5, 'extraña': 1, 'llegué': 2, 'ejercieron': 1, 'ejercimos': 1, 'decimos': 3, 'vas': 5, 'compramos': 1, 'vehículos': 6, 'médica': 5, 'caja': 5, 'ahorro': 9, 'llaman': 1, 'trabajar': 15, 'aviadores': 1, 'acerca': 8, 'tiendas': 2, 'análisis': 7, 'ruinas': 2, 'aceptaran': 2, 'lamentables': 4, 'importaba': 4, 'funcionara': 1, 'sirviera': 1, 'llamados': 4, 'sindicales': 3, 'malos': 6, 'atrevería': 1, 'medrar': 1, 'subsidiando': 1, 'mantenerlas': 1, 'pierde': 3, 'enderezar': 1, 'entuertos': 2, 'acabamos': 4, 'logró': 4, 'recibieron': 2, 'mantenimiento': 9, 'carreteras': 3, 'rebaja': 1, 'faltan': 4, 'montaña': 8, 'oaxaca': 13, 'conseguimos': 3, 'revisión': 11, 'pónganse': 1, 'millonarios': 1, 'exdirector': 1, 'dicen': 14, 'mansión': 1, 'muelles': 1, 'yates': 6, 'leyenda': 1, 'roben': 4, 'avale': 1, 'vea': 4, 'frase': 2, 'cero': 5, 'politiqueros': 2, 'cuestionando': 2, 'león': 5, 'será': 4, 'percibiendo': 1, 'polémicas': 1, 'cuestiona': 1, 'escrutinio': 2, 'ejercen': 1, 'plenitud': 1, 'libertades': 5, 'censura': 1, 'miedo': 2, 'insultan': 2, 'tocar': 2, 'intocable': 1, 'repente': 8, 'viraje': 3, 'guardar': 1, 'silencio': 2, 'ándale': 1, 'sara': 3, 'expusieron': 1, 'puntos': 3, 'exploración': 4, 'producción': 8, 'sosteniendo': 2, 'mantienen': 3, 'otorgaron': 1, 'bloques': 2, 'particulares': 6, 'refiere': 2, 'reservas': 7, 'recibimos': 1, 'planteas': 4, 'refinar': 1, 'inversión': 20, 'acaso': 3, 'resolverse': 1, 'gas': 11, 'golfo': 2, 'invirtió': 2, 'detuvieronporque': 1, 'llegaron': 7, 'conclusión': 1, 'rentable': 3, 'cayeron': 2, 'procurar': 4, 'malas': 2, 'inversiones': 4, 'gasoductos': 3, 'coquizadora': 4, 'tula': 4, 'reiniciamos': 1, 'requerir': 1, 'emproblemado': 1, 'odebrecht': 4, 'administrativos': 3, 'resolvieron': 2, 'reinició': 2, 'invertido': 2, 'tirada': 1, 'convirtiera': 1, 'chatarra': 1, 'reiniciarla': 1, 'producir': 6, 'combustóleo': 3, 'asociarla': 1, 'acuerdos': 9, 'suscribieron': 2, 'entregaron': 12, 'produciendo': 3, 'entregaban': 3, 'particularespues': 1, 'empezaron': 4, 'venderlas': 1, 'negro': 1, 'acciones': 7, 'asociadas': 2, 'mexicanas': 2, 'estadounidense': 5, 'parezca': 2, 'increíble': 1, 'vendió': 2, 'rusa': 1, 'poderoso': 2, 'caballero': 2, 'don': 6, 'detiene': 1, 'detienen': 2, 'ideologías': 1, 'refiera': 1, 'búsquenla': 1, 'remediar': 3, 'recordando': 3, 'modo': 6, 'convencionales': 3, 'encuentra': 2, 'articulista': 1, 'universal': 9, 'estaciones': 3, 'televisoras': 3, 'cuestionó': 2, 'mandato': 11, 'estelar': 3, 'sale': 5, 'ventila': 1, 'consigna': 5, 'vasallo': 2, 'obedecer': 1, 'callar': 2, 'rescate': 4, 'pasa': 14, 'formar': 3, 'consejero': 2, 'apodera': 1, 'eléctrico': 2, 'abasto': 2, 'mayoristas': 1, 'apoderan': 2, 'domina': 1, 'leóniberdrola': 1, 'vence': 1, 'permiso': 9, 'apagón': 2, 'renueve': 1, 'nievey': 1, 'miembro': 1, 'administración': 4, 'toca': 2, 'entrevistarme': 1, 'arrogancia': 2, 'comportándose': 1, 'prepotencia': 2, 'pensando': 19, 'oiga': 1, 'ofendido': 2, 'expresidente': 1, 'indigno': 1, 'confidencial': 1, 'estratégica': 1, 'yacimientos': 1, 'recibe': 4, 'contrato': 9, 'explorar': 1, 'casualmente': 1, 'trabajos': 4, 'estoningún': 1, 'podrá': 2, 'materiales': 4, 'financieros': 2, 'institucionales': 1, 'fines': 3, 'relacionados': 2, 'funciones': 4, 'código': 1, 'ética': 7, 'comprendidos': 1, 'grupos': 7, 'jerárquicos': 1, 'mandos': 1, 'superior': 7, 'manual': 1, 'percepciones': 1, 'previsto': 1, 'hacendaria': 1, 'cualquier': 15, 'separen': 1, 'podrán': 2, 'ocupar': 2, 'puestos': 1, 'hayan': 3, 'supervisado': 1, 'regulado': 2, 'respecto': 4, 'cuales': 1, 'privilegiada': 1, 'ejercicio': 5, 'hubiesen': 5, 'transcurrido': 1, 'termine': 6, 'corregido': 1, 'afectadas': 1, 'afectados': 4, 'total': 7, 'corte': 3, 'influyente': 2, 'pináculo': 1, 'protesta': 2, 'francia': 2, 'consigues': 1, 'mensaje': 5, 'face': 2, 'twitter': 6, 'pie': 2, 'darnos': 3, 'fenómenos': 1, 'mundiales': 1, 'subvencionada': 2, 'defiende': 1, 'fenómeno': 3, 'renovación': 3, 'tajante': 2, 'compromiso': 17, 'trenes': 5, 'alstom': 2, 'estándares': 1, 'tipos': 1, 'obviamente': 1, 'terminada': 2, 'vía': 5, 'circuito': 1, 'dificultó': 1, 'tráfico': 4, 'carretera': 1, 'propietarios': 1, 'salió': 6, 'dejen': 4, 'expropiaciones': 3, 'concertadas': 2, 'lamento': 1, 'mecanismo': 13, 'terrenos': 12, 'primera': 13, 'hoteles': 4, 'espaldares': 2, 'playa': 3, 'hectáreas': 16, 'atraviesa': 3, 'kilómetro': 1, 'propiedad': 4, 'transporte': 5, 'aparte': 5, 'turistas': 3, 'comprometidas': 1, 'motaengil': 1, 'carso': 1, 'indi': 1, 'ica': 1, 'tocan': 1, 'escárcega': 5, 'ingenieros': 11, 'militares': 9, 'frentes': 1, 'javier': 8, 'may': 5, 'campo': 3, 'cuestionado': 2, 'licenciatura': 1, 'estudió': 1, 'básica': 3, 'peores': 2, 'estudiado': 1, 'graduado': 1, 'harvard': 1, 'función': 8, 'oficios': 2, 'especiales': 4, 'hablemos': 2, 'profesión': 2, 'cualquiera': 1, 'soy': 18, 'científico': 1, 'meten': 2, 'vargas': 2, 'llosa': 2, 'asesinó': 1, 'trabajador': 4, 'quisiera': 5, 'voluntad': 4, 'dedazo': 1, 'desempeñado': 1, 'encargos': 1, 'inunda': 1, 'llueva': 1, 'truene': 1, 'relampaguee': 1, 'fallar': 1, 'revisando': 3, 'ejercer': 2, 'financiero': 1, 'facturar': 1, 'conciben': 1, 'contentísima': 1, 'recorrido': 2, 'negarle': 1, 'mandé': 1, 'hiciera': 2, 'invento': 2, 'encuestas': 3, 'opina': 2, 'denunciar': 1, 'judicialmente': 1, 'comete': 1, 'abuso': 7, 'ilícito': 1, 'actuaría': 1, 'juzgar': 1, 'conformidad': 6, 'acaban': 2, 'destruyen': 1, 'linchamiento': 2, 'conveniente': 2, 'teniendo': 4, 'academia': 1, 'colegas': 1, 'itam': 9, 'trabajaba': 3, 'guadalajara': 2, 'ante': 2, 'autoridades': 13, 'polémico': 2, 'resuelvan': 2, 'aprobar': 1, 'envío': 2, 'das': 2, 'asignatura': 1, 'demanda': 5, 'incumplida': 1, 'insistiendo': 3, 'injustamente': 2, 'cárcel': 13, 'encabezado': 1, 'foto': 5, 'dijera': 1, 'abre': 3, 'comillas': 3, 'malecón': 2, 'habana': 4, 'socialista': 1, 'cierra': 1, 'habría': 4, 'viralizado': 1, 'segundos': 1, 'parís': 1, 'protestan': 1, 'reducción': 2, 'pensiones': 4, 'obreros': 7, 'dirán': 1, 'costó': 3, 'encontrarlo': 1, 'prevalecen': 1, 'radios': 1, 'empresariales': 1, 'impulsa': 2, 'repetirse': 3, 'gana': 5, 'presentamos': 4, 'utilizaron': 3, 'raudales': 1, 'imposición': 1, 'financiamiento': 3, 'ilegal': 3, 'demostró': 1, 'abierto': 5, 'tituló': 1, 'editorial': 2, 'obrador': 1, 'lastre': 1, 'odio': 7, 'olvido': 2, 'conseguir': 5, 'filosofía': 2, 'pura': 4, 'fabricando': 1, 'impone': 1, 'ejército': 3, 'paleros': 3, 'apología': 1, 'convencidos': 2, 'manipulados': 1, 'mensajes': 1, 'decidimos': 7, 'poscovid': 2, 'pos': 1, 'recomienden': 1, 'exposición': 5, 'protección': 17, 'ciudadana': 6, 'usted': 6, 'darse': 6, 'dando': 7, 'iniciaron': 3, 'procedimiento': 4, 'cónsules': 1, 'has': 3, 'denunciado': 1, 'cónsul': 2, 'dallas': 1, 'texas': 6, 'esencia': 3, 'diálogo': 7, 'circunstancia': 3, 'analice': 2, 'conjunto': 2, 'ideal': 5, 'concilien': 1, 'agraviaron': 1, 'napoleón': 1, 'urrutia': 1, 'tuvo': 11, 'resultan': 3, 'considerarse': 1, 'irreconciliables': 1, 'apostar': 3, 'vencidas': 2, 'toman': 1, 'respaldo': 2, 'intervenir': 3, 'favoritismos': 1, 'escuchar': 4, 'laboral': 4, 'negocien': 1, 'espaldas': 1, 'firma': 4, 'consulte': 1, 'líderes': 9, 'charros': 5, 'sindical': 3, 'inercias': 1, 'rezagos': 1, 'opuesto': 1, 'decadencia': 4, 'padecíamos': 1, 'neoliberalpues': 1, 'degradación': 3, 'progresivo': 2, 'órdenes': 4, 'llamar': 6, 'parar': 1, 'comenzar': 3, 'renacimiento': 2, 'destruyendo': 3, 'planteaba': 1, 'zarco': 1, 'construir': 9, 'lacras': 1, 'fortaleciendo': 2, 'valores': 9, 'culturales': 5, 'espirituales': 5, 'purificando': 1, 'proyecto': 13, 'alternativo': 1, 'desconcierto': 1, 'visión': 2, 'limitada': 2, 'piensan': 5, 'nuevas': 5, 'generaciones': 2, 'statu': 1, 'quo': 1, 'decidido': 1, 'ordenada': 1, 'paz': 7, 'concordia': 1, 'verdaderos': 1, 'larga': 2, 'sindicatos': 6, 'secciones': 3, 'sindicato': 10, 'petrolero': 9, 'ganaron': 2, 'convicciones': 8, 'luchar': 5, 'morir': 1, 'mantuvieron': 1, 'mando': 1, 'inscribiendo': 1, 'expresen': 2, 'horario': 1, 'alcanzar': 1, 'mantengamos': 1, 'alfabético': 2, 'escuchen': 2, 'laborando': 2, 'ratito': 1, 'urgente': 1, 'indispensable': 2, 'internet': 8, 'plataformas': 1, 'repita': 1, 'votar': 13, 'libremente': 3, 'inscribieron': 1, 'edad': 5, 'ciudadanos': 13, 'imaginarios': 1, 'intimidación': 1, 'amenazas': 4, 'dejarse': 1, 'intimidar': 2, 'conocen': 6, 'parado': 5, 'imponían': 3, 'conocían': 1, 'dirigentespues': 1, 'recibían': 5, 'palomeados': 1, 'tenerles': 1, 'menores': 2, 'conscientes': 4, 'orgullo': 3, 'politización': 1, 'analfabetismo': 1, 'tejemaneje': 1, 'botellas': 1, 'viejas': 1, 'reacomodos': 1, 'acá': 7, 'cambia': 2, 'susceptible': 3, 'manipulación': 5, 'engañar': 2, 'fácilmente': 1, 'amarraban': 2, 'perritos': 2, 'longaniza': 1, 'funcionario': 8, 'trabaja': 8, 'recontratado': 1, 'informándoles': 1, 'pidiéndole': 3, 'dedico': 2, 'informes': 5, 'trámite': 2, 'transfirieron': 1, 'licitaciones': 2, 'liberación': 3, 'zapotillo': 2, 'canales': 4, 'centenario': 2, 'alejandro': 9, 'gascón': 5, 'conagua': 2, 'facturas': 6, 'factureras': 1, 'solicitado': 1, 'aprehensión': 2, 'dominio': 4, 'cinismo': 1, 'fecha': 2, 'llevaba': 6, 'proliferar': 1, 'falsas': 2, 'lavar': 1, 'predominar': 1, 'aparecer': 3, 'personajes': 4, 'aviones': 3, 'mansiones': 1, 'recuerdo': 14, 'donativos': 1, 'aparecía': 1, 'domicilio': 1, 'común': 3, 'sabían': 5, 'daban': 4, 'vivían': 1, 'humildes': 2, 'domicilios': 1, 'ficticios': 1, 'apareció': 1, 'donante': 1, 'conocía': 1, 'lamentable': 8, 'obtuvo': 2, 'investigarse': 1, 'denunciarse': 1, 'borran': 1, 'inusual': 1, 'tapar': 2, 'manejo': 1, 'carstens': 1, 'origen': 2, 'escandaloso': 1, 'despachos': 2, 'existiera': 2, 'defraudación': 2, 'planteé': 2, 'incongruente': 1, 'estuviésemos': 1, 'denunciando': 3, 'presentáramos': 1, 'posiblemente': 3, 'vinculada': 4, 'influyentes': 3, 'presión': 1, 'falten': 6, 'desterremos': 1, 'aportar': 1, 'condonaciones': 2, 'establecido': 7, 'aportación': 1, 'cumplamos': 1, 'facturación': 1, 'acabe': 2, 'auge': 2, 'desterrarlo': 1, 'acabarlo': 1, 'evidente': 2, 'control': 3, 'autónomos': 2, 'pagarles': 2, 'sobornarlos': 1, 'pasar': 8, 'ministros': 2, 'llevaban': 6, 'aproximadamente': 2, 'expresidentes': 6, 'obama': 5, 'gasto': 7, 'senadores': 2, 'diputados': 2, 'ganan': 4, 'legislativo': 2, 'ajuste': 2, 'ganaba': 3, 'anterior': 6, 'amparos': 4, 'excusas': 1, 'tratara': 2, 'reducir': 2, 'alto': 5, 'ganar': 12, 'específicas': 1, 'justificar': 1, 'diplomático': 2, 'administrativo': 2, 'héroes': 2, 'liberales': 1, 'zurcían': 1, 'uniformes': 1, 'regresa': 4, 'juárez': 18, 'imperio': 1, 'riva': 1, 'puesto': 1, 'patrimonio': 3, 'invasores': 1, 'franceses': 2, 'pagarle': 1, 'aportaciones': 1, 'estudiaron': 1, 'doctorados': 1, 'enseñaron': 1, 'honestidad': 8, 'integridad': 1, 'civismo': 1, 'ponlo': 1, 'ministro': 3, 'reino': 2, 'unido': 2, 'redujeron': 1, 'cuadrito': 1, 'pensión': 12, 'anual': 3, 'totales': 1, 'aprox': 1, 'comparación': 2, 'vimos': 7, 'zapatero': 1, 'quieres': 4, 'detallemos': 1, 'pides': 1, 'laura': 3, 'envía': 1, 'comparativo': 2, 'pedirles': 6, 'aplicaran': 2, 'abusa': 1, 'miento': 1, 'cirugía': 3, 'plástica': 3, 'erario': 4, 'explicamos': 1, 'mensual': 1, 'aporta': 1, 'ahorraron': 1, 'ahorrado': 1, 'medio': 17, 'bush': 2, 'piñera': 1, 'brown': 1, 'uribe': 1, 'aznar': 1, 'machuchones': 3, 'ofrecemos': 3, 'disculpa': 2, 'anticipado': 1, 'acaben': 1, 'extravagancias': 5, 'manejó': 1, 'manejado': 2, 'autorizado': 8, 'ejercido': 4, 'pasaron': 3, 'ejercidos': 2, 'puedeclaro': 1, 'acabar': 7, 'gastos': 6, 'superfluos': 4, 'viajes': 3, 'viáticos': 3, 'contratación': 1, 'suele': 2, 'asesores': 6, 'permiten': 1, 'transferir': 1, 'ensimismado': 1, 'trabajaban': 2, 'temporadas': 1, 'repartían': 2, 'despensas': 1, 'obtener': 2, 'votos': 3, 'garantizaban': 1, 'molesten': 1, 'tarde': 4, 'reunirnos': 2, 'agradecerle': 1, 'materia': 6, 'adelanto': 2, 'viva': 4, 'fuerza': 7, 'desayunar': 2, 'finalizando': 1, 'importantesprimero': 1, 'relacionado': 1, 'regularización': 4, 'acordado': 1, 'pagó': 4, 'correspondía': 2, 'deer': 7, 'park': 7, 'agradecer': 3, 'shell': 7, 'precio': 17, 'sostuvieron': 1, 'abusaron': 3, 'entones': 1, 'subrayar': 1, 'municipios': 15, 'utilicen': 2, 'calles': 5, 'ciudades': 9, 'ciudadanía': 1, 'municipio': 4, 'socio': 2, 'mayoritario': 1, 'manejaban': 3, 'obtuvieron': 1, 'adquirir': 3, 'adquirió': 1, 'avanza': 1, 'procesar': 6, 'produce': 5, 'convertirlo': 2, 'importar': 1, 'diésel': 4, 'autosuficiencia': 1, 'sumar': 1, 'diarios': 6, 'concluir': 3, 'combustóleos': 1, 'comprando': 2, 'simbólica': 1, 'amigas': 1, 'compañeros': 6, 'laboran': 1, 'petróleos': 5, 'mexicanosel': 1, 'protestado': 1, 'bienes': 5, 'construyó': 3, 'obstaculizaron': 1, 'comprometemos': 1, 'fraternidad': 3, 'fronteras': 1, 'interesan': 1, 'entusiasmo': 2, 'profesionalismo': 3, 'garantizando': 5, 'rentabilidad': 2, 'conversar': 1, 'vieron': 3, 'ojos': 2, 'llevara': 1, 'autorización': 2, 'adquiriera': 1, 'abrazo': 2, 'afectuoso': 2, 'solidario': 1, 'encontrando': 1, 'refinerías': 8, 'construía': 1, 'última': 4, 'salina': 1, 'cruz': 2, 'vendía': 1, 'combustibles': 3, 'prima': 1, 'valor': 3, 'agregado': 1, 'petrolíferos': 1, 'autosuficientes': 3, 'abastecer': 3, 'interno': 4, 'mejorando': 6, 'modernizándolas': 1, 'contaminar': 1, 'modernizadas': 1, 'refinamiento': 1, 'cangrejera': 1, 'procesando': 3, 'productiva': 2, 'procesamiento': 1, 'promedio': 5, 'mandamos': 1, 'zócalo': 3, 'plaza': 2, 'visita': 2, 'refine': 1, 'gasolina': 6, 'comercializar': 1, 'transportar': 1, 'ferrocarril': 2, 'ductos': 2, 'mar': 4, 'embarcaciones': 2, 'buquetanques': 2, 'enfrente': 4, 'tuxpan': 2, 'refiero': 4, 'importador': 1, 'llegan': 4, 'abastece': 1, 'tuxpanazcapotzalco': 1, 'reducidos': 1, 'actualmente': 1, 'subiendo': 1, 'invirtiendo': 2, 'abandono': 1, 'irresponsabilidad': 1, 'milagro': 1, 'convocatorias': 1, 'rondas': 1, 'enajenaron': 1, 'potencial': 2, 'especulativo': 1, 'improductivo': 1, 'mineras': 1, 'olvidemos': 3, 'territorio': 9, 'completos': 1, 'explotar': 2, 'nacionalnunca': 1, 'devolviendo': 1, 'refinación': 2, 'extraer': 6, 'barril': 4, 'administrado': 1, 'renta': 6, 'utilidad': 5, 'incrementar': 1, 'menor': 2, 'ahorrarnos': 1, 'flete': 1, 'central': 3, 'aumente': 3, 'reales': 3, 'gobernamos': 1, 'abuelos': 2, 'papás': 3, 'levantando': 1, 'privatizarla': 1, 'manejaran': 1, 'seguros': 1, 'exista': 1, 'faltar': 1, 'defendiendo': 2, 'electrificó': 1, 'luzpor': 1, 'consideraban': 3, 'electrificar': 1, 'lucro': 2, 'razonables': 2, 'capitales': 1, 'cabeceras': 2, 'municipales': 2, 'costando': 2, 'orientado': 1, 'cordial': 1, 'enderezando': 1, 'resolviendo': 3, 'heredaron': 2, 'explicándole': 1, 'afectaba': 3, 'termoeléctricas': 2, 'necesitaban': 2, 'compraron': 2, 'elevadísimos': 2, 'excedentes': 1, 'revendiendo': 1, 'leoninos': 2, 'vale': 2, 'explicábamos': 3, 'reclusorios': 4, 'privatizan': 1, 'arreglo': 3, 'cancelamos': 1, 'buscamos': 2, 'mediante': 2, 'estuviesen': 1, 'ocupados': 2, 'cuñados': 1, 'cobraban': 2, 'estuvimos': 2, 'misión': 2, 'mostrando': 1, 'explicando': 3, 'recibiendo': 3, 'consumidor': 1, 'subsidia': 1, 'comercial': 2, 'tambiénhay': 1, 'beneficiaron': 1, 'vinculados': 2, 'españoles': 2, 'protegerse': 2, 'acusarlos': 1, 'respetuoso': 4, 'andan': 4, 'acusar': 1, 'expropiar': 1, 'apagones': 1, 'ideas': 1, 'comunistas': 1, 'reverendos': 1, 'ladrones': 1, 'pudieron': 2, 'fortaleza': 3, 'cultural': 6, 'ofensa': 1, 'haz': 3, 'mirar': 1, 'progresa': 1, 'honradamente': 2, 'estudia': 1, 'vayas': 1, 'ascendiendo': 1, 'escala': 1, 'movilidad': 1, 'honrado': 1, 'defensora': 2, 'ambiente': 13, 'conversación': 1, 'injusticia': 4, 'estadounidenses': 2, 'finanzas': 1, 'empresarialpor': 1, 'principales': 1, 'acudir': 3, 'accionistas': 1, 'dedican': 4, 'invertir': 5, 'monetario': 5, 'trato': 2, 'justo': 3, 'endeudamiento': 2, 'quiera': 7, 'ponerles': 1, 'empobrecer': 1, 'argentino': 2, 'debilitar': 1, 'aplican': 2, 'medidas': 3, 'promovieron': 1, 'debieron': 1, 'otorgarse': 1, 'endeudado': 1, 'salvar': 2, 'inyectan': 1, 'corresponsabilidad': 1, 'asumir': 1, 'ganas': 1, 'expresarlo': 1, 'jalisco': 3, 'román': 7, 'meyer': 5, 'elaborando': 1, 'planes': 6, 'urbano': 11, 'aprobados': 1, 'legislaturas': 1, 'locales': 4, 'suscribimos': 1, 'convenio': 2, 'actuamos': 4, 'ordenamiento': 2, 'desastre': 4, 'agravar': 1, 'zona': 10, 'bella': 1, 'paraíso': 2, 'exclusivas': 1, 'turismo': 1, 'cena': 2, 'escuchando': 4, 'lugares': 7, 'habitaciones': 1, 'alcanza': 3, 'pierden': 1, 'comen': 1, 'fondas': 1, 'anunciar': 1, 'bardear': 2, 'sitio': 5, 'arqueológico': 1, 'parque': 6, 'incluir': 1, 'visitadas': 1, 'arqueológicas': 3, 'teotihuacán': 1, 'chichen': 1, 'muchísima': 2, 'disfrute': 1, 'territorial': 1, 'aprobado': 1, 'congresos': 1, 'desorden': 4, 'ocupen': 1, 'reserva': 4, 'ordenar': 3, 'investigar': 4, 'entregas': 3, 'hago': 4, 'ocupe': 1, 'acerques': 1, 'tengas': 1, 'explicarles': 1, 'explicar': 4, 'tranquilidad': 6, 'vendría': 1, 'exponer': 8, 'solicitando': 1, 'espacios': 7, 'rescatado': 2, 'canchas': 2, 'basquetbol': 1, 'construido': 4, 'estadios': 2, 'béisbol': 5, 'fútbol': 2, 'colonias': 1, 'populares': 3, 'importantísima': 1, 'recreación': 1, 'descansen': 1, 'pasen': 3, 'dirigir': 3, 'acordó': 2, 'número': 6, 'bienvenida': 3, 'coordinar': 1, 'luisa': 7, 'alcalde': 5, 'salieron': 2, 'video': 4, 'suficientemente': 2, 'licencia': 1, 'aplicarme': 1, 'intensidad': 1, 'consumar': 2, 'revocación': 11, 'continúe': 5, 'ciclo': 1, 'duda': 6, 'consolidada': 1, 'sinceras': 1, 'testamento': 3, 'agregué': 1, 'fallecimiento': 1, 'continuidad': 1, 'ingobernabilidad': 1, 'sobresaltos': 1, 'estabilidad': 2, 'iniciado': 1, 'irresponsable': 2, 'prever': 1, 'preparados': 2, 'eventualidad': 1, 'ajenos': 1, 'representando': 2, 'extrañar': 1, 'desempeño': 1, 'conocerse': 1, 'deje': 1, 'existir': 1, 'detalles': 1, 'irían': 1, 'notarías': 4, 'espía': 1, 'conocíamos': 1, 'estábamos': 7, 'oposición': 9, 'llamaba': 2, 'coloquialmente': 3, 'orejas': 1, 'oye': 2, 'eres': 1, 'secreta': 2, 'digo': 17, 'respondan': 2, 'regularizar': 1, 'establecer': 5, 'regularizarlos': 1, 'comienza': 1, 'forzar': 2, 'prohibir': 1, 'comenzó': 2, 'concepción': 1, 'reprimir': 1, 'actuó': 2, 'considerando': 2, 'toques': 1, 'multas': 1, 'arrestos': 1, 'europa': 3, 'g': 1, 'respetaran': 1, 'confiar': 1, 'funcionado': 1, 'fundamentalmente': 1, 'responda': 1, 'componer': 1, 'compete': 1, 'federación': 3, 'cobro': 1, 'inaugure': 3, 'construcción': 16, 'lago': 10, 'razones': 4, 'hagamos': 3, 'suficientes': 7, 'vengan': 4, 'expongan': 1, 'firme': 3, 'hundimientos': 1, 'hundimiento': 1, 'repararla': 1, 'hunde': 1, 'rampas': 1, 'relativamente': 1, 'bello': 1, 'ingeniería': 2, 'arquitectura': 1, 'constatar': 1, 'pistas': 2, 'kilómetros': 6, 'pista': 4, 'concreto': 2, 'construida': 2, 'unidades': 1, 'deportivos': 1, 'hazaña': 1, 'ampliaciones': 1, 'permitan': 1, 'ampliar': 4, 'estimado': 3, 'invierten': 1, 'adicionales': 1, 'convenciendo': 2, 'distinta': 6, 'monumento': 2, 'generalizada': 1, 'material': 12, 'molestaron': 1, 'escuchan': 2, 'leen': 1, 'articulistas': 1, 'editorialistas': 1, 'ladeada': 1, 'torre': 1, 'atender': 11, 'sabios': 2, 'lincoln': 1, 'mentira': 3, 'aplicarse': 4, 'paso': 6, 'enojarse': 1, 'adecuado': 1, 'regular': 2, 'vaso': 1, 'regulador': 1, 'desembocan': 1, 'ríos': 1, 'flora': 2, 'fauna': 2, 'originaria': 2, 'nativa': 1, 'santa': 9, 'lucía': 3, 'hangar': 2, 'construirse': 1, 'tirar': 3, 'basura': 1, 'ampliación': 3, 'desperdicio': 2, 'suerte': 3, 'bajando': 2, 'evidencia': 1, 'visitado': 1, 'asombrados': 1, 'fueran': 1, 'expliquen': 9, 'concluya': 1, 'mañanera': 3, 'guelatao': 4, 'inauguración': 2, 'sierra': 13, 'noche': 6, 'jefa': 3, 'eficiente': 1, 'claudia': 1, 'sheinbaum': 1, 'sensible': 1, 'tomado': 2, 'trae': 1, 'gasoducto': 1, 'lp': 1, 'distribución': 4, 'adelantaron': 2, 'pagos': 6, 'necesario': 4, 'entregando': 5, 'bimestre': 1, 'enerofebrero': 1, 'marzoabril': 1, 'mayojunio': 1, 'bimestres': 1, 'tendría': 2, 'adelantarya': 1, 'abril': 2, 'gabinete': 3, 'adelantar': 4, 'vedas': 2, 'sustitución': 1, 'tarjetas': 1, 'incorporados': 1, 'pésame': 1, 'duele': 3, 'tijuana': 4, 'primeros': 4, 'jaime': 2, 'bonilla': 1, 'mantuvo': 2, 'ayudó': 4, 'garantizó': 2, 'atendida': 1, 'ayudaba': 1, 'lamentablemente': 3, 'asesinan': 1, 'automático': 1, 'vincular': 1, 'crimen': 5, 'juicio': 4, 'informados': 3, 'considerar': 2, 'confrontación': 1, 'perjudicar': 1, 'característica': 2, 'represento': 1, 'crímenes': 3, 'atendidos': 1, 'investigue': 1, 'encuentre': 1, 'culpables': 1, 'informando': 10, 'luchando': 6, 'fraterna': 2, 'justa': 2, 'humanitaria': 2, 'pido': 3, 'veníamos': 1, 'decadente': 1, 'manifestar': 1, 'par': 1, 'aplicación': 1, 'probar': 5, 'olvidaron': 2, 'introdujo': 1, 'triunfar': 2, 'lujo': 6, 'barato': 2, 'agravó': 1, 'descomposición': 5, 'alentó': 2, 'frustración': 1, 'deteniendo': 1, 'enfrentando': 5, 'moralizando': 1, 'avancemos': 1, 'purificar': 3, 'predomine': 1, 'haga': 10, 'ambición': 1, 'egoísmo': 1, 'fe': 8, 'letras': 1, 'representa': 6, 'dimensiones': 1, 'desembocó': 1, 'neoliberalismo': 3, 'desemboca': 1, 'poniendo': 2, 'violar': 2, 'frivolidad': 3, 'contratar': 3, 'quedaba': 5, 'quejarnos': 1, 'aburrimos': 1, 'preguntan': 2, 'puro': 4, 'lópezdóriga': 5, 'exaltarlo': 1, 'reconocemos': 1, 'seguimos': 3, 'difunde': 1, 'mire': 3, 'represalias': 1, 'administraciones': 1, 'pasadas': 1, 'víctima': 1, 'amenaza': 1, 'represalia': 1, 'cometa': 1, 'acto': 3, 'autoridadentonces': 1, 'ameritan': 1, 'tratados': 1, 'constancia': 1, 'antier': 2, 'encontradas': 1, 'linchamientos': 1, 'obvio': 1, 'caracteriza': 1, 'molino': 1, 'especialistas': 6, 'doctrina': 3, 'derecha': 2, 'verdadera': 3, 'famoso': 2, 'duró': 1, 'charro': 2, 'díganme': 1, 'cínico': 1, 'hipócrita': 2, 'tarea': 1, 'llamándoles': 1, 'avisándoles': 1, 'diciéndoles': 2, 'pena': 4, 'tómalabueno': 1, 'inicio': 1, 'bienvenidos': 5, 'bienvenidas': 1, 'inédito': 3, 'damos': 9, 'aldana': 1, 'prieto': 3, 'presentación': 2, 'cristina': 1, 'alonso': 1, 'daniel': 4, 'aranda': 1, 'padilla': 1, 'victoria': 2, 'arredondo': 1, 'lami': 1, 'cabrera': 1, 'raga': 1, 'viernes': 5, 'definidas': 1, 'proponen': 1, 'consolidar': 2, 'gane': 2, 'elijan': 4, 'secreto': 6, 'dicte': 1, 'felicidades': 1, 'fuente': 1, 'financiar': 2, 'empezamos': 12, 'continuamos': 1, 'comparecencias': 2, 'quinto': 1, 'preguntó': 1, 'estrategia': 2, 'homicidios': 11, 'vigilancia': 1, 'informara': 1, 'cajeme': 5, 'supervisión': 3, 'yucatán': 5, 'asistir': 2, 'haciéndolo': 1, 'yaquis': 11, 'comprometimos': 1, 'falte': 5, 'lance': 1, 'convocatoria': 2, 'comencemos': 1, 'germán': 1, 'martínez': 2, 'platique': 2, 'mencionado': 1, 'referencia': 3, 'analicen': 1, 'inconveniente': 1, 'inconclusas': 1, 'yaqui': 2, 'concluyó': 2, 'presa': 7, 'pilares': 3, 'picachos': 1, 'guanajuato': 3, 'bajío': 1, 'soluciónbueno': 1, 'agrego': 1, 'saludable': 1, 'laguna': 4, 'proyectos': 5, 'dejarlos': 1, 'inconclusos': 1, 'consiste': 4, 'rehabilitar': 2, 'reparar': 3, 'liberar': 2, 'fugas': 3, 'fui': 8, 'continúa': 1, 'destinar': 2, 'red': 4, 'distribuye': 1, 'hidráulicas': 2, 'líneas': 3, 'fuga': 1, 'alfonso': 1, 'durazo': 1, 'coordinación': 1, 'modernizar': 1, 'guaymas': 4, 'demoremos': 1, 'minería': 2, 'pueda': 7, 'litio': 7, 'riqueza': 4, 'mineral': 4, 'estratégico': 5, 'sonorenses': 1, 'aclarar': 6, 'atendido': 2, 'extendió': 1, 'becas': 12, 'sostengo': 2, 'enriquezcan': 1, 'buitres': 1, 'exploten': 1, 'sacrifiquen': 1, 'desigual': 1, 'carece': 1, 'igualdad': 2, 'opción': 2, 'alternativa': 1, 'privatizar': 2, 'favorecer': 2, 'minorías': 4, 'padeciendo': 1, 'impusieron': 2, 'neoporfirismo': 1, 'porfiriatopues': 1, 'esclavizar': 1, 'neoliberallo': 1, 'jugosos': 2, 'amparo': 2, 'produjo': 2, 'tremenda': 2, 'perdieron': 2, 'predominaba': 2, 'rifaba': 1, 'escrúpulos': 2, 'índole': 2, 'gobernantes': 4, 'incumplir': 2, 'asesinada': 1, 'instrucciones': 1, 'escuchara': 1, 'ventaja': 2, 'permitimos': 1, 'banda': 1, 'malhechores': 1, 'notado': 1, 'incorporar': 1, 'sección': 3, 'detenidos': 5, 'ocurridos': 1, 'traen': 2, 'continuara': 2, 'motivosuno': 1, 'benefician': 1, 'beneficiaban': 1, 'aplicaba': 1, 'aquello': 2, 'llueve': 1, 'fuerte': 6, 'bañan': 1, 'salpican': 1, 'quedaban': 2, 'agenciar': 1, 'atracos': 1, 'andamiaje': 1, 'legitimarse': 1, 'poderes': 1, 'simple': 2, 'moche': 4, 'subvención': 1, 'ideológica': 1, 'pensamiento': 6, 'herencia': 3, 'hacerlos': 1, 'comunismo': 2, 'populismo': 3, 'locos': 1, 'etcétera': 5, 'noy': 1, 'ocultan': 1, 'actúen': 4, 'partidarios': 1, 'iturbide': 1, 'anna': 1, 'gortari': 2, 'últimos': 8, 'manifestaciones': 2, 'potencias': 2, 'tensión': 1, 'rusia': 3, 'ucrania': 1, 'aconteciendo': 1, 'apretar': 1, 'precaria': 1, 'sacrificios': 2, 'viejo': 2, 'estilo': 2, 'apriétense': 1, 'cinturón': 1, 'corresponsables': 1, 'metieron': 3, 'reeligiera': 2, 'gobernante': 3, 'autorizaron': 1, 'excesivos': 1, 'endeudaron': 1, 'intervinieron': 1, 'ocasionaron': 1, 'cartas': 1, 'intención': 1, 'bajen': 1, 'salarios': 1, 'aumenten': 1, 'privaticen': 2, 'recetas': 1, 'propia': 1, 'originan': 1, 'asesinato': 5, 'tendenciosa': 2, 'convencerlos': 1, 'entere': 1, 'conozcan': 2, 'contextualiza': 1, 'antecedentes': 3, 'planteó': 3, 'respondí': 1, 'mira': 5, 'ramírez': 3, 'atienda': 1, 'apoyen': 1, 'pida': 1, 'influyentismo': 6, 'frontera': 8, 'aplicándose': 1, 'pusieron': 2, 'demasiados': 1, 'requisitos': 1, 'dificultaron': 1, 'autocrítica': 1, 'establecieron': 1, 'aclarado': 1, 'serie': 4, 'baja': 10, 'bajan': 1, 'lento': 2, 'dudas': 2, 'aumento': 10, 'mínimo': 6, 'aumentó': 4, 'llamando': 1, 'perdió': 1, 'atendió': 1, 'laudo': 1, 'california': 7, 'otorgó': 1, 'inscrita': 1, 'obligados': 1, 'continúen': 1, 'hacía': 4, 'propio': 1, 'policía': 2, 'luna': 9, 'establecemos': 2, 'eligió': 1, 'marca': 3, 'cielo': 2, 'electo': 2, 'amo': 1, 'método': 9, 'lamentamos': 1, 'entusiasma': 1, 'internaliza': 2, 'rutinaria': 1, 'ortodoxo': 1, 'pase': 5, 'conciencias': 1, 'llovió': 1, 'transportistas': 2, 'politiquería': 4, 'aspiración': 1, 'máxima': 2, 'adversariosporque': 1, 'despega': 1, 'perdiendo': 1, 'recordaba': 4, 'morelos': 3, 'charo': 1, 'michoacán': 3, 'vete': 1, 'pesares': 1, 'pongan': 3, 'brincar': 1, 'agradecemos': 1, 'rogelio': 2, 'dejó': 1, 'desbrozado': 1, 'acción': 5, 'actuando': 8, 'plaquita': 1, 'inauguró': 1, 'participó': 2, 'fulana': 1, 'comparecencia': 1, 'mentiras': 3, 'sintetizar': 2, 'tantas': 3, 'resumir': 1, 'respuestas': 6, 'desatiendan': 1, 'importan': 2, 'trabajadoras': 2, 'fundamental': 3, 'escucharlos': 1, 'noé': 1, 'castán': 1, 'orgaz': 1, 'pitágoras': 1, 'salaya': 1, 'carmen': 3, 'patraca': 1, 'arturo': 1, 'flores': 12, 'contreras': 1, 'edgar': 1, 'romero': 1, 'elizabeth': 3, 'regla': 2, 'escrita': 1, 'repitamos': 1, 'facilitar': 1, 'interesa': 6, 'bloquee': 1, 'demore': 2, 'tácticas': 1, 'dilatorias': 1, 'solicitar': 3, 'judicial': 11, 'litigios': 1, 'oceanografía': 5, 'predilecta': 1, 'asignación': 1, 'directa': 5, 'falsificación': 2, 'litigio': 1, 'venimos': 3, 'pantano': 1, 'fango': 1, 'pillaje': 2, 'complemento': 2, 'regalaba': 1, 'relojes': 9, 'reloj': 5, 'primo': 3, 'hermano': 5, 'mandaba': 2, 'series': 1, 'conmemorativa': 1, 'fábrica': 1, 'salía': 2, 'revistas': 1, 'artículos': 3, 'mesura': 1, 'mostrar': 1, 'lujos': 1, 'avión': 14, 'capital': 4, 'vendían': 4, 'extravagancia': 2, 'jueces': 6, 'trampa': 1, 'procedimientos': 3, 'compren': 2, 'futuros': 1, 'adeudos': 1, 'fiscales': 3, 'aprovechando': 1, 'centavo': 1, 'quede': 6, 'diego': 2, 'rivera': 2, 'orozco': 1, 'siqueiros': 1, 'pintaron': 1, 'muralismo': 1, 'muralistas': 2, 'compañía': 1, 'apoyada': 1, 'encumbrados': 1, 'recibió': 1, 'ganancias': 5, 'estratosféricas': 1, 'coincide': 1, 'caída': 2, 'citibank': 2, 'acusó': 1, 'documentos': 1, 'cabe': 1, 'yáñez': 3, 'equivocaron': 1, 'cliente': 1, 'facilidad': 1, 'ayúdenme': 1, 'cuentan': 2, 'yate': 2, 'navegan': 1, 'pobladores': 1, 'muelle': 1, 'apreciar': 1, 'autos': 1, 'fiestas': 3, 'testimonios': 2, 'pasión': 1, 'gama': 1, 'exclusiva': 1, 'suiza': 1, 'piguet': 2, 'publicado': 1, 'royal': 1, 'oak': 1, 'cual': 2, 'relojera': 2, 'corporativa': 1, 'celebridades': 1, 'deporte': 2, 'espectáculo': 3, 'súper': 1, 'exclusivos': 1, 'figuran': 1, 'árabes': 1, 'poderosos': 1, 'revista': 3, 'aparece': 2, 'amado': 1, 'osuna': 1, 'comprador': 1, 'distinguido': 1, 'posando': 1, 'junto': 4, 'figuras': 1, 'insulto': 1, 'procedencia': 1, 'limpia': 4, 'merece': 1, 'invierte': 1, 'crea': 1, 'malvado': 2, 'habida': 2, 'ruina': 1, 'influencia': 2, 'quiten': 2, 'felicidad': 5, 'pidió': 1, 'fabricaran': 1, 'especialmente': 1, 'diseñados': 2, 'logotipo': 1, 'colores': 1, 'corporativos': 1, 'posterior': 1, 'celebrar': 1, 'comenta': 1, 'famosa': 2, 'fabricara': 1, 'edición': 1, 'encargaron': 1, 'regalara': 1, 'ocasión': 3, 'oro': 1, 'finalmente': 1, 'sacarlos': 1, 'incurrir': 1, 'resumen': 2, 'leyó': 1, 'legaloides': 1, 'trampas': 2, 'impedir': 1, 'estiman': 1, 'reunir': 2, 'comentarios': 2, 'plantea': 3, 'chovinista': 1, 'sedes': 1, 'matrices': 1, 'pasaban': 1, 'raya': 1, 'permitían': 1, 'sostener': 1, 'permitieron': 2, 'ponían': 2, 'cuáles': 4, 'abusivos': 1, 'saquearon': 3, 'pintura': 1, 'caballete': 1, 'prácticamente': 3, 'regalaron': 1, 'trafique': 4, 'rescates': 1, 'integrando': 1, 'extrabajadores': 1, 'asociar': 1, 'pronósticos': 2, 'afectó': 3, 'protegido': 2, 'riesgos': 3, 'mínimos': 1, 'hospitalización': 5, 'probado': 1, 'ponga': 3, 'gráfica': 9, 'insistir': 2, 'vacunarse': 4, 'pedimos': 2, 'piensen': 2, 'daños': 2, 'tuviésemos': 1, 'resultado': 10, 'hospitalizadas': 2, 'difundir': 1, 'importancia': 8, 'permitiendo': 2, 'aéreas': 2, 'formen': 1, 'invite': 2, 'incluya': 1, 'feminicidio': 3, 'clasificaba': 1, 'delito': 2, 'cuantitativo': 2, 'numérico': 1, 'fallecer': 1, 'asesinar': 5, 'feminicidios': 1, 'indolentes': 1, 'humanistas': 1, 'dolores': 2, 'semejantes': 1, 'prójimo': 4, 'humanidad': 1, 'inició': 4, 'afecte': 2, 'conocimiento': 4, 'posibles': 1, 'autores': 1, 'investigados': 1, 'considere': 1, 'iguales': 7, 'ofrezco': 3, 'zopiloteando': 2, 'claudio': 3, 'x': 2, 'gonzález': 6, 'desprestigio': 3, 'insultar': 1, 'exactos': 1, 'sacaba': 1, 'titulares': 1, 'ganaban': 3, 'notas': 1, 'denigrando': 1, 'magisteriales': 1, 'alcohólicos': 1, 'bajezas': 1, 'preocupan': 1, 'falsedad': 2, 'canciller': 1, 'tribunales': 2, 'inquisición': 2, 'leyme': 1, 'fachos': 1, 'acordé': 1, 'recomiendo': 5, 'graham': 2, 'greene': 2, 'escribió': 5, 'omar': 1, 'torrijos': 3, 'acordaba': 1, 'comentario': 1, 'ideología': 2, 'marxista': 1, 'contesta': 1, 'entrevista': 2, 'acuso': 1, 'inaudible': 1, 'pederasta': 1, 'pruebaspero': 1, 'descubriendo': 1, 'penales': 1, 'plantean': 1, 'respondiendo': 2, 'adelantado': 1, 'capaz': 3, 'historiadores': 2, 'formación': 2, 'tesis': 1, 'doctorado': 1, 'opinan': 3, 'liga': 5, 'septiembre': 2, 'desata': 1, 'fuertísima': 1, 'vincula': 2, 'indebido': 2, 'garza': 2, 'sada': 1, 'podido': 6, 'superar': 1, 'viví': 1, 'propuse': 1, 'hija': 2, 'doña': 3, 'rosario': 3, 'ibarra': 1, 'hijo': 5, 'participado': 1, 'luchaban': 1, 'luchó': 2, 'hermana': 1, 'desaparecido': 1, 'acusaron': 1, 'recuento': 1, 'guardadas': 1, 'proporciones': 1, 'pontifica': 1, 'dispuesto': 1, 'ceder': 1, 'mediática': 1, 'mediático': 1, 'ocasionan': 1, 'familiaresqué': 1, 'metemos': 1, 'definir': 2, 'inventan': 2, 'aclaración': 1, 'fonatur': 1, 'aristegui': 3, 'descalificado': 1, 'jiménez': 4, 'pons': 3, 'distorsión': 1, 'completa': 3, 'nota': 8, 'sustento': 2, 'oms': 1, 'aclararlo': 1, 'vacunamos': 1, 'dedicados': 1, 'vendida': 3, 'alquilada': 3, 'desinformación': 2, 'perversa': 1, 'importe': 1, 'finado': 2, 'héctor': 1, 'suárez': 1, 'lanzan': 1, 'fallecidos': 7, 'responsableprimero': 1, 'disponibilidad': 3, 'significativo': 1, 'amlo': 1, 'retraso': 1, 'entérate': 1, 'revisen': 1, 'déjala': 1, 'necesitábamos': 2, 'título': 1, 'buscas': 1, 'coincidían': 1, 'defunción': 1, 'enseño': 1, 'agarrar': 1, 'americanoestados': 1, 'acertada': 1, 'bendición': 2, 'olvidarlo': 2, 'crecen': 1, 'dañina': 2, 'aspirantes': 1, 'tercera': 2, 'ronda': 2, 'recomendación': 3, 'pablo': 2, 'santos': 1, 'gerardo': 1, 'david': 2, 'herrera': 1, 'malagón': 1, 'esteban': 1, 'izquierdo': 1, 'ávalos': 1, 'sánchez': 3, 'admite': 1, 'llamen': 1, 'teléfonos': 2, 'votamos': 1, 'señal': 4, 'busquen': 2, 'monte': 1, 'lomita': 1, 'encontrar': 2, 'ansiada': 1, 'repetía': 1, 'vocación': 1, 'imaginario': 1, 'vasallos': 2, 'colonial': 4, 'siglos': 9, 'dominación': 5, 'vasalloobedecer': 1, 'implora': 1, 'conducir': 2, 'venido': 4, 'foros': 2, 'congreso': 5, 'visitar': 2, 'ejecutivo': 3, 'realizando': 1, 'envié': 4, 'proponiendo': 3, 'beneficia': 1, 'reformas': 6, 'estructurales': 3, 'trataba': 1, 'cupulares': 1, 'aprobaron': 1, 'educativa': 2, 'perjudica': 2, 'quizá': 3, 'secretarias': 1, 'presas': 5, 'hidroeléctricas': 3, 'vigente': 2, 'energías': 1, 'limpias': 3, 'despachan': 1, 'castigan': 1, 'angostura': 1, 'chicoasén': 1, 'malpaso': 1, 'peñitas': 1, 'turbinas': 1, 'prohíben': 1, 'suban': 1, 'competir': 1, 'irlo': 1, 'exponiendo': 1, 'importantísimo': 2, 'estará': 1, 'dependencias': 1, 'neoliberales': 4, 'competencia': 1, 'afianzar': 2, 'autorizar': 1, 'mina': 4, 'bacanora': 1, 'chino': 1, 'manejen': 1, 'perversidad': 1, 'enteramos': 1, 'andamos': 1, 'usa': 1, 'industrialización': 1, 'transición': 1, 'luchadores': 1, 'encinas': 2, 'estatales': 5, 'profundizar': 1, 'evitó': 1, 'actuación': 1, 'mala': 4, 'prestados': 1, 'excepcionales': 2, 'serio': 1, 'contemos': 1, 'pandemias': 1, 'concierto': 2, 'naciones': 2, 'obnubilados': 2, 'irracional': 2, 'denuncian': 1, 'producto': 2, 'rencor': 1, 'levantar': 3, 'caracterizado': 1, 'medicinas': 2, 'adulteraban': 1, 'impulsar': 4, 'marcha': 1, 'entendemos': 1, 'soportar': 1, 'cómplices': 2, 'limpiar': 2, 'ofrecimos': 1, 'quisieron': 2, 'jugar': 1, 'pasara': 1, 'participaron': 1, 'arrepentidos': 1, 'vuelvan': 1, 'resultó': 1, 'bandazos': 2, 'mantenerse': 1, 'jurídico': 2, 'resolvimos': 1, 'dañinaporque': 1, 'avanzamos': 1, 'hospitalizando': 1, 'fallecenquienes': 1, 'hicimosvacunar': 1, 'disponer': 1, 'anticipos': 1, 'democrática': 2, 'distinción': 1, 'individualistas': 1, 'egoístas': 1, 'rateros': 1, 'lámina': 4, 'fábricas': 2, 'envase': 1, 'viruelatrescientos': 1, 'europeos': 1, 'invadieron': 1, 'trajeron': 1, 'viruela': 2, 'apenas': 2, 'civilización': 2, 'redujo': 1, 'civilizatorioque': 1, 'templos': 4, 'humanola': 1, 'científicos': 2, 'demostrado': 2, 'periodismo': 1, 'ponerme': 1, 'segunda': 5, 'quisiéramos': 1, 'prioridad': 3, 'perdido': 1, 'retuitea': 1, 'proyecta': 1, 'semiobjetivo': 1, 'animal': 1, 'conserva': 2, 'caminar': 2, 'recomendaron': 2, 'tomarme': 1, 'cámaras': 3, 'invasión': 3, 'poca': 1, 'escasa': 1, 'intimidad': 1, 'empecé': 1, 'camine': 1, 'fortaleciéndome': 1, 'subieron': 1, 'edificio': 4, 'aguantar': 1, 'respetar': 6, 'pasan': 3, 'reportaje': 3, 'arrastrando': 1, 'chocheando': 1, 'preguntarle': 2, 'renuncie': 1, 'enredan': 1, 'meterse': 1, 'demagógica': 1, 'referéndum': 1, 'plebiscito': 1, 'hagan': 6, 'declaración': 1, 'aplicar': 4, 'reafirma': 1, 'democrático': 4, 'quite': 1, 'soberano': 1, 'decida': 3, 'promoviendo': 3, 'lozano': 2, 'cooptado': 1, 'interpretaciones': 1, 'fortalecer': 4, 'demócrata': 1, 'película': 2, 'cubana': 2, 'casinos': 1, 'redford': 1, 'entrando': 3, 'revolucionarios': 2, 'reputación': 1, 'jugando': 1, 'tahúr': 1, 'jugadores': 1, 'póker': 2, 'demócratas': 3, 'segura': 1, 'encuentro': 2, 'preparado': 1, 'acostumbrado': 2, 'acepto': 1, 'prevalecer': 3, 'delante': 2, 'utopía': 1, 'antidemocráticos': 2, 'siguiera': 1, 'dejarle': 1, 'directo': 6, 'supongo': 1, 'acreditar': 1, 'establezca': 3, 'hábito': 2, 'omnímodo': 3, 'todopoderoso': 2, 'recurrir': 1, 'enviar': 3, 'asistió': 1, 'alianza': 1, 'pacífico': 4, 'presentas': 1, 'obligación': 2, 'preferencias': 1, 'respete': 1, 'bloqueos': 4, 'absolutamente': 4, 'estaríamos': 3, 'espacio': 2, 'actos': 7, 'valer': 2, 'denuncien': 2, 'solitos': 1, 'excepciones': 2, 'sme': 1, 'esmeraron': 3, 'demás': 8, 'acarreo': 1, 'famosos': 3, 'bailes': 1, 'alzada': 1, 'música': 1, 'interesados': 1, 'brecha': 1, 'esperábamos': 1, 'hubiésemos': 5, 'hicieronno': 1, 'reunieron': 1, 'estatal': 2, 'podíamos': 1, 'anuncio': 1, 'sabritas': 1, 'pagaba': 2, 'cuota': 1, 'tarifa': 2, 'saliera': 1, 'residencia': 2, 'rellenaron': 1, 'urnas': 1, 'noviembre': 7, 'pinochet': 2, 'permitió': 4, 'decidieran': 1, 'dictadura': 4, 'convocaba': 2, 'hubiera': 1, 'estopara': 1, 'desaminen': 1, 'adopciones': 2, 'riguroso': 1, 'cuidadoso': 1, 'filantropía': 1, 'usaba': 3, 'presumir': 2, 'sombrero': 1, 'ajeno': 2, 'fundaciones': 1, 'cuidado': 3, 'deducibles': 1, 'asociaciones': 3, 'corazón': 3, 'huérfanos': 1, 'jurados': 1, 'adopción': 1, 'revisada': 1, 'terminamos': 4, 'sensibilidad': 1, 'dif': 1, 'nuria': 4, 'fernández': 2, 'sentimientos': 1, 'procurando': 2, 'cumplían': 2, 'llamaban': 2, 'proméxico': 1, 'puros': 1, 'recomendados': 1, 'haríamos': 1, 'mecánica': 1, 'presento': 1, 'fred': 1, 'antonio': 2, 'navarro': 1, 'lópez': 3, 'ortega': 1, 'césar': 1, 'pecero': 1, 'rubí': 1, 'quintanilla': 1, 'rincón': 1, 'cecilia': 1, 'margarita': 1, 'deseamos': 4, 'confiamos': 2, 'garantizarles': 1, 'debatiendo': 1, 'conozca': 5, 'gobiernouno': 1, 'generado': 1, 'polémica': 4, 'malvados': 1, 'organización': 4, 'rumores': 3, 'prospere': 1, 'respondió': 1, 'oxxo': 6, 'tarifas': 1, 'eléctricas': 1, 'abrimos': 5, 'comienzan': 1, 'exposiciones': 1, 'concluyen': 1, 'manipular': 2, 'voten': 1, 'apoyarnos': 1, 'funcione': 3, 'blindar': 2, 'mafia': 2, 'fracasáramos': 1, 'enojados': 5, 'manifestación': 1, 'ganarles': 1, 'exhibirlos': 1, 'rapaces': 1, 'lid': 1, 'enriquecer': 1, 'despierto': 1, 'politizado': 2, 'quedando': 1, 'desnudos': 1, 'fábula': 1, 'rey': 1, 'desnudo': 1, 'lorenzo': 2, 'córdova': 2, 'convención': 2, 'comparto': 2, 'verle': 1, 'positiva': 1, 'positivo': 1, 'elemento': 3, 'antidemocrática': 1, 'respetaban': 2, 'violarse': 1, 'antemano': 1, 'engañó': 2, 'encanta': 1, 'gustan': 1, 'simulaciones': 1, 'fidel': 1, 'velázquez': 1, 'descanse': 2, 'andaba': 1, 'ramas': 1, 'monsiváis': 2, 'quedarse': 2, 'reflexión': 1, 'pureza': 2, 'creerse': 1, 'sentirse': 1, 'racistas': 2, 'clasistas': 2, 'aclarando': 1, 'respetando': 1, 'posicionándonos': 1, 'defendamos': 1, 'insisto': 3, 'aparentar': 2, 'liberal': 7, 'choro': 1, 'mareador': 1, 'agencias': 2, 'introducir': 1, 'armas': 5, 'contrabando': 1, 'ilegales': 2, 'detener': 4, 'delincuentes': 4, 'traían': 1, 'sensores': 1, 'identificar': 1, 'localizar': 1, 'detención': 1, 'sucedióbueno': 1, 'supo': 2, 'delincuencia': 5, 'benéfico': 1, 'convirtió': 2, 'tragedia': 2, 'envió': 1, 'dictaron': 2, 'expediente': 2, 'archivó': 1, 'mintió': 1, 'altas': 2, 'conociendo': 1, 'concertada': 1, 'respetaba': 2, 'soberanía': 5, 'ingresaban': 1, 'operativos': 1, 'desechado': 1, 'normatividad': 1, 'fbi': 1, 'informen': 1, 'participación': 4, 'normas': 4, 'oponemos': 1, 'trabaje': 1, 'viole': 1, 'analista': 1, 'televisa': 4, 'sabiondo': 1, 'leo': 1, 'zuckermann': 1, 'aguayo': 2, 'conacyt': 4, 'molestó': 1, 'chica': 1, 'cobijo': 1, 'practicaban': 1, 'innovación': 2, 'tecnológica': 2, 'trasladaba': 1, 'bimbo': 1, 'sentían': 3, 'financiaban': 1, 'guerras': 1, 'sucias': 1, 'cide': 7, 'predominio': 2, 'neoporfirista': 2, 'dominaron': 1, 'opiniónpues': 1, 'reglamentos': 1, 'existían': 3, 'deshonesta': 1, 'descubrió': 1, 'retrógradas': 1, 'quitando': 2, 'pretextos': 1, 'oportunista': 1, 'paulo': 1, 'freire': 1, 'concebir': 1, 'práctica': 8, 'versión': 3, 'parecida': 2, 'aspe': 1, 'meade': 2, 'videgaray': 2, 'copia': 1, 'impusieran': 1, 'plata': 1, 'accesorio': 1, 'yendo': 1, 'grano': 1, 'pacha': 1, 'dorándonos': 1, 'píldora': 1, 'aburrido': 1, 'dominó': 1, 'ofrecer': 2, 'saqueó': 1, 'significó': 3, 'colonia': 2, 'fobraproa': 1, 'condonaban': 1, 'raso': 3, 'bajos': 3, 'multimillonarios': 1, 'llenadera': 1, 'académicos': 1, 'huelga': 1, 'abra': 1, 'oligarquía': 1, 'contenido': 1, 'educativos': 1, 'fórmulas': 1, 'aprendidas': 1, 'recetadas': 1, 'combatir': 4, 'sentirnos': 4, 'orgullosos': 2, 'grandeza': 1, 'sumisos': 1, 'patio': 1, 'trasero': 1, 'protectorado': 1, 'vasallosno': 1, 'creativos': 1, 'herederos': 2, 'dimana': 1, 'culturas': 2, 'civilizaciones': 3, 'internalizarlo': 1, 'inteligentes': 1, 'obnubila': 2, 'verdadero': 1, 'generación': 1, 'hijos': 4, 'nietos': 1, 'tratado': 6, 'traiga': 1, 'invitado': 1, 'publicidad': 2, 'concluimos': 1, 'acompaña': 3, 'votación': 2, 'interesada': 1, 'convocar': 1, 'falla': 1, 'resolverlo': 4, 'supervisar': 1, 'optimista': 1, 'triste': 1, 'salimos': 1, 'salvado': 1, 'apunta': 1, 'jeremy': 4, 'parlamentario': 1, 'inglés': 3, 'esposa': 3, 'invitaron': 1, 'parlamento': 3, 'londres': 1, 'identificamos': 1, 'defensor': 2, 'testigo': 1, 'apasionado': 1, 'cara': 3, 'frente': 2, 'laborista': 1, 'corbyn': 1, 'teresa': 1, 'licenciada': 1, 'tianguis': 1, 'magón': 10, 'versionesuna': 1, 'asesinado': 2, 'celda': 2, 'murió': 2, 'infarto': 1, 'álvaro': 1, 'obregón': 3, 'firmes': 1, 'vivió': 1, 'encontraron': 1, 'precursores': 2, 'pleno': 1, 'ahuizote': 2, 'manifestaron': 1, 'imprenta': 1, 'manta': 1, 'muerto': 2, 'decidieron': 3, 'magonista': 1, 'regeneración': 3, 'formaron': 1, 'enviaban': 1, 'escriben': 1, 'básicos': 2, 'profundidad': 1, 'sexenal': 1, 'iniciaba': 1, 'agregaba': 1, 'dejemos': 3, 'pensemos': 4, 'encarcelaban': 2, 'radicalizándose': 1, 'llamaron': 1, 'i': 2, 'catarino': 1, 'lazó': 1, 'proclama': 1, 'organizó': 1, 'porfirista': 1, 'repitieron': 1, 'mítines': 1, 'ferrocarrileros': 1, 'ferrocarrilero': 1, 'homenaje': 3, 'anarquistas': 1, 'anarquismo': 1, 'aportó': 1, 'revolucionario': 3, 'originarios': 2, 'nacieron': 2, 'mazateca': 1, 'llamarse': 1, 'benito': 2, 'papá': 2, 'juarista': 1, 'papelería': 1, 'oficial': 1, 'retrato': 1, 'recordatorio': 1, 'precursor': 3, 'necesariasse': 1, 'realizada': 1, 'invertirse': 1, 'tenerlo': 2, 'estimaba': 1, 'terminarse': 1, 'cumplía': 1, 'aumentando': 4, 'costaron': 1, 'clave': 1, 'contratistas': 1, 'predilectos': 2, 'favoritos': 3, 'venían': 1, 'famosísima': 2, 'consentida': 1, 'higa': 1, 'relacionada': 1, 'apoyado': 1, 'contribuir': 3, 'progreso': 3, 'despegar': 2, 'labores': 1, 'dniii': 1, 'utilizados': 1, 'escribieron': 1, 'clausurar': 1, 'reconociendo': 2, 'salvó': 1, 'continuando': 1, 'fangosa': 1, 'escoger': 1, 'cerrando': 1, 'inmobiliario': 2, 'frotaban': 1, 'avenida': 2, 'costar': 3, 'ingeniera': 1, 'extrayendo': 1, 'istmo': 1, 'vías': 3, 'férreas': 3, 'tolucaciudad': 2, 'actividad': 2, 'agrícola': 1, 'compromisos': 1, 'regalo': 2, 'beca': 2, 'reyes': 2, 'traer': 1, 'melchor': 1, 'gaspar': 1, 'baltazar': 1, 'cartita': 1, 'satisfactorio': 1, 'llena': 1, 'contrarrestar': 1, 'diario': 2, 'incrementándose': 1, 'síntesis': 1, 'afectando': 4, 'reposo': 1, 'mismas': 1, 'características': 3, 'cuidarse': 3, 'hospitalaria': 1, 'pones': 11, 'haymiren': 1, 'ocupación': 2, 'ventilador': 1, 'terapia': 2, 'intensiva': 2, 'columnista': 1, 'ningunearlo': 1, 'escritor': 4, 'exagerar': 1, 'todólogos': 1, 'catastrofistas': 1, 'alarmismo': 1, 'amarillismo': 1, 'conferencias': 2, 'funcionó': 2, 'hacerlas': 1, 'dependemos': 1, 'temprano': 2, 'dominaban': 1, 'controlando': 1, 'silenciaban': 1, 'convenía': 2, 'exaltaban': 1, 'exageraban': 1, 'sometía': 1, 'réplica': 1, 'atrevían': 1, 'replicar': 1, 'sucedido': 3, 'descubierto': 2, 'aventado': 1, 'doctora': 2, 'ciencia': 2, 'maerker': 1, 'dresser': 1, 'engañados': 1, 'sergio': 1, 'equivalente': 1, 'parecía': 2, 'policías': 1, 'vigilantes': 1, 'sintiendo': 2, 'entraban': 1, 'tanques': 4, 'belaunzarán': 1, 'hitler': 1, 'opinadores': 1, 'fallecido': 2, 'enfermo': 3, 'defendió': 3, 'falleció': 1, 'raphael': 1, 'orgánico': 1, 'represión': 4, 'autoritarios': 1, 'inventa': 1, 'subido': 3, 'simulador': 1, 'mañaneras': 1, 'párate': 1, 'iván': 2, 'pequeños': 4, 'medianos': 3, 'facilidades': 1, 'lícitas': 1, 'procurado': 1, 'significado': 2, 'originada': 1, 'otorgan': 1, 'administrando': 1, 'honradez': 1, 'vivan': 1, 'colmados': 1, 'surjan': 1, 'valoresel': 1, 'creció': 1, 'financiera': 1, 'mide': 1, 'preocupa': 2, 'mataban': 1, 'vaca': 1, 'res': 1, 'acababa': 1, 'carne': 1, 'matando': 1, 'domingo': 8, 'devaluación': 3, 'economías': 1, 'emergentes': 1, 'depreció': 2, 'moneda': 3, 'variación': 1, 'dólar': 5, 'divisa': 1, 'entramos': 4, 'toco': 1, 'madera': 3, 'cerramos': 3, 'centavos': 3, 'descontar': 1, 'rublo': 1, 'ruso': 1, 'rand': 1, 'sudafricano': 1, 'colombiano': 1, 'chileno': 1, 'concluirse': 3, 'detenerse': 1, 'autorizó': 2, 'partida': 1, 'calakmul': 3, 'chetumal': 4, 'carrillo': 6, 'comerciantes': 2, 'caído': 1, 'ventas': 1, 'mencionar': 3, 'rehabilitación': 1, 'modernización': 1, 'organizarme': 1, 'ofrecí': 1, 'rezagada': 1, 'licitar': 1, 'seris': 1, 'dedicar': 1, 'alcance': 2, 'sábado': 3, 'ajustar': 2, 'cifras': 1, 'incluye': 3, 'puertos': 1, 'aduanas': 3, 'viaducto': 1, 'piso': 1, 'garita': 1, 'fideicomiso': 2, 'administrarlo': 1, 'apresurarnos': 1, 'mejoramiento': 1, 'excedente': 2, 'mencioné': 2, 'traje': 1, 'fijado': 1, 'dispuestos': 1, 'assange': 4, 'humanismo': 3, 'muestra': 1, 'permitirle': 1, 'recibiera': 1, 'resolviera': 1, 'reglamentación': 2, 'externos': 2, 'peligro': 2, 'darla': 1, 'refrendo': 1, 'ofreciendo': 1, 'solicitándole': 1, 'actitud': 2, 'comentar': 1, 'administrativa': 1, 'duplicidad': 1, 'ahorrando': 2, 'antropología': 1, 'palenque': 7, 'uxmal': 3, 'chichén': 2, 'itzá': 2, 'ayudaban': 1, 'burocrático': 1, 'decíamos': 1, 'recuerda': 1, 'rico': 2, 'creaban': 1, 'fideicomisos': 1, 'generales': 3, 'destinado': 1, 'intermedios': 1, 'instituto': 11, 'ahorramosmuchísimo': 1, 'moda': 4, 'violador': 1, 'excelencia': 1, 'promovía': 1, 'transparencia': 1, 'ocultaba': 1, 'pudiesen': 1, 'llenas': 1, 'burocracia': 1, 'dorada': 1, 'transfería': 1, 'subsidiaba': 1, 'vuelvo': 2, 'revise': 1, 'autónomo': 1, 'manejan': 1, 'pirámide': 2, 'quitamos': 1, 'especialse': 1, 'enfermaba': 1, 'clínica': 1, 'costillas': 1, 'anécdota': 1, 'prebenda': 1, 'dejaba': 1, 'ponía': 1, 'ahorraba': 1, 'dineroa': 1, 'necesitada': 2, 'populista': 1, 'apunten': 1, 'satisfecha': 1, 'contenta': 2, 'comida': 1, 'necesidades': 2, 'básicas': 2, 'atiende': 2, 'discapacitados': 1, 'todolo': 1, 'imprentas': 1, 'resistencias': 2, 'ahorramos': 2, 'esopero': 1, 'quedas': 2, 'alma': 2, 'expresado': 2, 'parques': 1, 'bibliotecas': 1, 'levanten': 1, 'estatua': 2, 'preguntado': 1, 'consultaron': 1, 'mandaron': 2, 'derribaron': 1, 'sientan': 1, 'intenciones': 2, 'vanidad': 1, 'culto': 1, 'personalidad': 1, 'feliz': 1, 'confieso': 1, 'consciencia': 2, 'satisfecho': 1, 'tenerle': 3, 'admiro': 1, 'lázaro': 1, 'amó': 1, 'necesidad': 2, 'estatuas': 4, 'criterio': 4, 'representado': 1, 'seguirá': 1, 'enfrento': 1, 'creencia': 2, 'malagradecido': 2, 'agradecen': 1, 'malagradecidos': 1, 'enemigos': 5, 'leal': 5, 'coloquial': 1, 'chaqueteros': 1, 'quitaban': 1, 'chaqueta': 1, 'eterno': 1, 'agradecido': 2, 'intermedia': 1, 'sacaron': 1, 'flote': 1, 'arrasando': 1, 'creel': 2, 'mete': 1, 'iztapalapa': 3, 'represiva': 1, 'racista': 3, 'golpista': 1, 'evo': 2, 'solo': 4, 'respetadas': 1, 'cobarde': 3, 'donaldo': 2, 'colosio': 1, 'bustos': 2, 'cananea': 3, 'pregunto': 1, 'preguntamos': 1, 'local': 1, 'salón': 2, 'actooye': 1, 'talah': 1, 'mono': 2, 'patria': 2, 'evidentes': 1, 'monumentocomo': 1, 'chichona': 1, 'estatuasclaro': 1, 'gustaba': 1, 'yace': 7, 'muera': 3, 'extraordinarias': 1, 'sobreviviré': 1, 'cautiverio': 1, 'escribirán': 2, 'tumba': 4, 'soñador': 2, 'loco': 2, 'habrá': 2, 'atreva': 2, 'estampar': 2, 'inscripción': 2, 'traidor': 2, 'orientados': 1, 'beneficiarios': 2, 'magna': 1, 'palenqueescárcega': 1, 'escárcegacalkiní': 1, 'mérida': 2, 'izamal': 3, 'bacalar': 1, 'xpujil': 1, 'obrapues': 1, 'terraplén': 1, 'especificaciones': 1, 'compactación': 1, 'drenaje': 1, 'inundaciones': 1, 'durmientes': 1, 'rieles': 1, 'cancúntulum': 1, 'electrificado': 1, 'infraestructura': 2, 'terminadas': 1, 'tigre': 1, 'edzná': 1, 'antiguas': 1, 'mayas': 5, 'firmó': 1, 'repetido': 1, 'soslaya': 1, 'camiones': 1, 'volteo': 1, 'acarreando': 1, 'tuxtla': 2, 'piedra': 2, 'balasto': 1, 'ceiba': 1, 'echado': 1, 'constructivo': 1, 'letargo': 1, 'amablemente': 1, 'echaron': 1, 'avances': 1, 'cumplimiento': 1, 'contribuido': 1, 'ayudado': 4, 'dinámica': 1, 'vámonos': 3, 'claudios': 1, 'abogado': 1, 'ramón': 3, 'cossío': 2, 'exministro': 1, 'promueven': 2, 'supuestos': 1, 'defensores': 1, 'seudoambientalistas': 1, 'ejidos': 1, 'ayudándonos': 1, 'comentaba': 2, 'cenotes': 1, 'ejido': 2, 'riviera': 1, 'corrupta': 1, 'avalúo': 1, 'piden': 3, 'complementarias': 1, 'comenzando': 1, 'hotelera': 1, 'puente': 3, 'vial': 1, 'atrapados': 1, 'saturada': 1, 'península': 1, 'originalmente': 1, 'contemplaba': 1, 'concesión': 6, 'aportado': 1, 'buscarse': 1, 'ejemplares': 1, 'solidaria': 2, 'inhóspito': 2, 'epidemias': 1, 'exterminar': 1, 'prepararse': 1, 'represores': 2, 'huerta': 3, 'estuvieron': 1, 'arrasaban': 2, 'poblados': 1, 'tierras': 1, 'isla': 2, 'cozumel': 1, 'siberia': 2, 'tropical': 1, 'murieron': 1, 'río': 4, 'blanco': 4, 'prisión': 2, 'regiones': 1, 'bellas': 1, 'aquel': 5, 'crecido': 1, 'concebido': 1, 'ortiz': 2, 'mena': 2, 'mateos': 2, 'echeverría': 1, 'impulsó': 1, 'convierte': 2, 'ocupando': 1, 'jaguar': 2, 'unir': 1, 'arqueológica': 2, 'usaban': 1, 'donados': 1, 'entrar': 3, 'caminando': 2, 'jaguares': 2, 'anarquía': 2, 'áreas': 1, 'naturales': 3, 'impulsando': 3, 'dejarlo': 1, 'fortalece': 2, 'abusar': 1, 'consumidores': 2, 'tecnócratas': 2, 'hidrocarburos': 1, 'definamos': 1, 'abusan': 2, 'sobran': 1, 'ejemplos': 1, 'secuestrado': 1, 'honrosas': 1, 'oponía': 1, 'impusieronla': 1, 'quépara': 1, 'bajar': 2, 'cumplieronno': 1, 'jugosísimos': 1, 'acuerdanqué': 1, 'periodoaumento': 1, 'biden': 5, 'propone': 1, 'quejándose': 1, 'fíjese': 1, 'reformó': 1, 'cambian': 1, 'univisión': 1, 'reconozco': 1, 'slim': 1, 'filial': 1, 'walmart': 1, 'debía': 2, 'impuestospues': 1, 'escándalo': 1, 'mío': 1, 'casado': 1, 'vivía': 1, 'houston': 1, 'equiparar': 1, 'comparaba': 1, 'blanca': 1, 'recomendado': 1, 'casaron': 1, 'estando': 2, 'montaje': 1, 'francesa': 3, 'inventar': 2, 'terremoto': 1, 'sofía': 1, 'inventó': 2, 'contubernio': 3, 'llamo': 1, 'rodillas': 1, 'brozo': 4, 'conocí': 1, 'loret': 2, 'mola': 2, 'golpeador': 1, 'mercenario': 1, 'preparación': 1, 'gentileza': 1, 'mandarme': 1, 'avisar': 1, 'bejarano': 1, 'ahumada': 1, 'entendí': 1, 'recado': 1, 'mandó': 4, 'caer': 4, 'bomba': 2, 'armó': 1, 'precandidatos': 2, 'química': 1, 'física': 1, 'matemática': 1, 'durísimas': 1, 'malacostumbraron': 1, 'asalariados': 1, 'quedé': 1, 'espantado': 1, 'desproporción': 1, 'resistir': 1, 'apóstol': 1, 'acabó': 3, 'perdonaron': 2, 'asesinaron': 1, 'cruel': 1, 'arrancaron': 1, 'ojo': 1, 'infamia': 1, 'capítulos': 1, 'gustavo': 1, 'volvieron': 3, 'huertistas': 1, 'experiencias': 1, 'resiste': 1, 'imperando': 1, 'explotación': 1, 'cómocon': 1, 'quiso': 1, 'necesaria': 1, 'coordinan': 1, 'pacto': 1, 'impulso': 1, 'repetirles': 1, 'estimo': 1, 'apego': 1, 'virtud': 1, 'humildad': 1, 'adiós': 1, 'indigna': 1, 'confiando': 1, 'lealtad': 4, 'inventaron': 1, 'pintaban': 1, 'paredes': 1, 'ofendiendo': 1, 'indios': 1, 'olvida': 2, 'sabiondos': 1, 'ignorante': 1, 'servilismo': 1, 'abyección': 1, 'transitoria': 1, 'ocupa': 1, 'partidario': 1, 'oprimirlo': 1, 'aplastarlo': 1, 'informó': 2, 'transparentes': 1, 'oculto': 1, 'oscurito': 1, 'conjunta': 2, 'estigmatizar': 1, 'avergüence': 2, 'deleznable': 1, 'contraparte': 1, 'servidos': 1, 'logremos': 2, 'destine': 1, 'esohay': 1, 'poema': 2, 'tuberculosis': 1, 'producida': 1, 'hambre': 1, 'banquetes': 1, 'perdamos': 1, 'veíamos': 1, 'delictivos': 1, 'detuvieron': 1, 'desintegren': 1, 'resumimos': 1, 'preferente': 1, 'tendríamos': 1, 'elevó': 1, 'rango': 1, 'constitucional': 1, 'quitarlo': 1, 'aprobara': 1, 'creador': 2, 'plena': 2, 'sigamos': 6, 'garantizados': 1, 'egresos': 1, 'comparecer': 1, 'botton': 1, 'complicadas': 1, 'quedaran': 1, 'gratuitos': 2, 'déficit': 1, 'requerimos': 1, 'significaayuda': 1, 'regresar': 2, 'insistimos': 1, 'ayudaron': 3, 'asistiendo': 1, 'impartiendo': 1, 'cuidamos': 2, 'refuerzos': 2, 'enfermeras': 2, 'sufriendo': 1, 'programados': 1, 'endeudar': 1, 'presupuestos': 1, 'veda': 1, 'madre': 3, 'distritos': 2, 'luchador': 2, 'indague': 1, 'entregarte': 1, 'comentó': 1, 'deportiva': 1, 'basquet': 1, 'voli': 1, 'apoyamos': 2, 'deportistas': 1, 'ambientalistas': 3, 'barco': 2, 'constructora': 2, 'calica': 1, 'entrara': 1, 'ambientalista': 1, 'paladines': 1, 'escarban': 1, 'socavones': 1, 'venció': 1, 'arreglando': 1, 'termino': 1, 'amplió': 1, 'incumpliendo': 1, 'violando': 2, 'indemnización': 1, 'escarbaron': 1, 'turquesa': 1, 'imaginación': 1, 'talento': 1, 'turística': 1, 'albercas': 1, 'retiren': 1, 'fundamento': 1, 'consumación': 1, 'luchado': 5, 'recientes': 1, 'asesinados': 2, 'abrió': 1, 'alternancia': 1, 'mantuviese': 1, 'aliaron': 1, 'zacatecas': 14, 'gubernatura': 2, 'abandonar': 1, 'suma': 2, 'cota': 1, 'montaño': 1, 'anaya': 1, 'tlaxcala': 1, 'creamos': 1, 'gutiérrez': 4, 'vega': 3, 'reunidos': 1, 'querido': 1, 'pérez': 1, 'gay': 1, 'prestaba': 1, 'consideración': 1, 'razonamiento': 1, 'lee': 1, 'siglas': 1, 'arnaldo': 1, 'garrido': 1, 'avilés': 1, 'unión': 1, 'voluntades': 1, 'elenita': 1, 'poniatowska': 1, 'jesusa': 1, 'superiorestablecer': 1, 'definitiva': 1, 'convertirla': 1, 'plenamente': 1, 'desmoralicemos': 1, 'pronuncié': 1, 'consideremos': 1, 'débiles': 1, 'flaqueando': 1, 'tristes': 2, 'pierda': 1, 'dejarnos': 3, 'canto': 3, 'sirenas': 2, 'ponerse': 1, 'cera': 1, 'oídos': 1, 'interesantes': 1, 'distraernos': 1, 'distraiga': 1, 'individualismo': 1, 'conducción': 1, 'horizontal': 1, 'relevos': 1, 'equivocarse': 1, 'posicionado': 1, 'apoyarlo': 1, 'reitero': 1, 'castigar': 1, 'emulemos': 1, 'recordemos': 1, 'enemigo': 1, 'venza': 1, 'robe': 1, 'tal': 1, 'destino': 2, 'atentado': 1, 'entregándole': 1, 'voluntariamente': 1, 'idealismo': 1, 'consideraciones': 1, 'vientos': 1, 'claudicaremos': 1, 'fecundo': 1, 'despertar': 1, 'preguntarles': 1, 'paadelante': 1, 'reviva': 1, 'siente': 3, 'gripa': 1, 'catarro': 2, 'tos': 1, 'especulaciones': 1, 'aburrida': 2, 'fierro': 1, 'miramientos': 1, 'realizarse': 1, 'margen': 3, 'procuraduría': 2, 'presunto': 1, 'intervienen': 2, 'ministerio': 2, 'limpiando': 2, 'inocencia': 1, 'impedía': 1, 'espléndidas': 1, 'glorioso': 1, 'artístico': 1, 'generaba': 1, 'sucios': 1, 'mancharla': 1, 'profundos': 1, 'riquezas': 1, 'dominante': 2, 'cosío': 1, 'villegas': 2, 'desviado': 1, 'causa': 6, 'revolucionaria': 2, 'tronchado': 1, 'siglo': 3, 'trátese': 1, 'trate': 1, 'pfizer': 1, 'terán': 1, 'favorable': 1, 'adquiera': 1, 'adquisiciones': 1, 'vacunando': 2, 'explicas': 1, 'informarle': 3, 'covax': 1, 'edades': 1, 'reforzamiento': 1, 'reforzando': 2, 'demandando': 2, 'cuidándonos': 1, 'alarmarnos': 1, 'infundan': 1, 'debió': 1, 'autorizarse': 2, 'faro': 1, 'autorizan': 1, 'pisos': 2, 'adefesio': 2, 'heroica': 1, 'prevaleciendo': 1, 'corrijan': 1, 'castigue': 1, 'permisos': 1, 'complemente': 1, 'inah': 4, 'autocríticos': 1, 'recordándolo': 1, 'encargo': 1, 'estés': 1, 'determinado': 1, 'cumplieron': 2, 'breve': 1, 'bellísima': 2, 'carranza': 1, 'expidió': 1, 'agraria': 2, 'decidió': 1, 'abolición': 1, 'esclavitud': 1, 'enfrentó': 1, 'consumó': 1, 'soldados': 1, 'atrincherados': 1, 'san': 22, 'ulúa': 1, 'regresó': 1, 'preparándose': 1, 'regrese': 1, 'mamás': 3, 'controles': 1, 'expresándose': 1, 'sienten': 3, 'agregar': 1, 'felicitarlos': 1, 'normalice': 1, 'prefiero': 1, 'inyectarme': 1, 'ácido': 1, 'muriático': 1, 'vacunarme': 1, 'dogmatismo': 2, 'serios': 1, 'realizados': 1, 'relaciona': 1, 'medicina': 3, 'fanatismo': 1, 'sencillos': 1, 'práctico': 1, 'denise': 2, 'regresaban': 1, 'comportaron': 1, 'politóloga': 1, 'opositora': 1, 'mencionó': 3, 'empujar': 1, 'elefante': 2, 'contagiarán': 2, 'ventilados': 1, 'protocolos': 1, 'rutinarias': 1, 'guiamos': 1, 'criterios': 1, 'titubean': 1, 'encerrar': 1, 'analistas': 1, 'temor': 1, 'cuestionamiento': 1, 'crítica': 1, 'diariamente': 1, 'necesariamente': 1, 'anoche': 3, 'volvemos': 1, 'comportando': 1, 'corriente': 1, 'hospitalarios': 1, 'ocuparlas': 1, 'produciéndose': 1, 'elaborándose': 1, 'sufrimos': 1, 'comprometido': 2, 'trimestre': 1, 'interrumpir': 1, 'tapadismo': 3, 'sucesión': 1, 'destituyó': 1, 'sebastián': 1, 'lerdo': 2, 'tejada': 1, 'bandera': 3, 'reelección': 2, 'lema': 1, 'aplicaron': 2, 'olvidó': 1, 'llegado': 1, 'hábil': 1, 'periodos': 1, 'reelegirse': 1, 'volvió': 1, 'dictador': 1, 'sostienen': 1, 'benévola': 1, 'cargada': 1, 'surge': 2, 'besamanos': 1, 'duro': 1, 'votados': 1, 'momentopues': 1, 'cómomi': 1, 'presta': 1, 'interfieran': 1, 'opositorpues': 1, 'débil': 1, 'palero': 1, 'escalar': 1, 'encaramarte': 1, 'palabras': 2, 'interesantísimo': 1, 'concientizado': 1, 'cívicapolítica': 1, 'producido': 1, 'virreyes': 2, 'alcaldes': 1, 'pueblotodo': 1, 'xix': 1, 'consideraba': 1, 'peón': 1, 'esclavo': 1, 'pasos': 1, 'ventile': 1, 'esperemos': 1, 'equivocan': 2, 'simpatías': 1, 'encapricharme': 1, 'traicionarme': 1, 'haría': 1, 'necesariato': 1, 'apoyan': 2, 'obtenía': 1, 'recibía': 1, 'títulos': 1, 'desayunos': 1, 'lambisconería': 1, 'sorprenden': 1, 'académica': 1, 'encuesta': 1, 'convenciones': 1, 'anécdotas': 1, 'ruiz': 1, 'síasí': 1, 'eslo': 1, 'conoces': 1, 'élmujer': 1, 'consideras': 1, 'honestosí': 1, 'honradohonradón': 1, 'tocara': 1, 'votarías': 1, 'ellano': 1, 'participen': 1, 'señoras': 2, 'ayudarlas': 1, 'protegerlas': 1, 'diligencia': 1, 'desaparecidos': 1, 'leí': 1, 'enterado': 1, 'ti': 1, 'acuerdas': 1, 'trump': 1, 'explicarno': 1, 'laurita': 1, 'podrías': 1, 'delegación': 1, 'insabi': 1, 'paro': 1, 'detuvo': 1, 'presencial': 1, 'libros': 2, 'explicación': 2, 'explica': 1, 'lucrativo': 1, 'destrucción': 2, 'empezando': 3, 'alcanzó': 1, 'niveles': 1, 'saqueadas': 1, 'desmanteladas': 1, 'resistieron': 1, 'diagnóstico': 1, 'costado': 1, 'vinculadas': 2, 'ramificado': 1, 'gratuidad': 1, 'institutos': 1, 'saberlo': 1, 'explicarlo': 1, 'pretexto': 3, 'excusa': 1, 'saturar': 1, 'almacenes': 1, 'unidad': 1, 'apartado': 1, 'organizando': 1, 'milla': 1, 'saldo': 1, 'privatizadoras': 1, 'desafío': 3, 'generalizo': 1, 'portaron': 2, 'camilleros': 1, 'mañosos': 1, 'intocables': 1, 'cercanos': 1, 'acabaron': 2, 'defendieron': 2, 'democráticos': 2, 'acusados': 2, 'reprimieron': 1, 'codicia': 1, 'proponemos': 1, 'pasamos': 1, 'miércoles': 1, 'vilchis': 1, 'notarios': 1, 'cumplan': 1, 'platiqué': 1, 'fobia': 1, 'derechización': 1, 'andrés': 4, 'estudiaba': 1, 'sostuvo': 1, 'grúas': 1, 'reír': 1, 'disculparse': 1, 'apurarse': 4, 'reprobar': 1, 'proponer': 1, 'asamblea': 1, 'magistrados': 3, 'ternas': 2, 'salían': 1, 'nombré': 1, 'juez': 2, 'magistrado': 1, 'verme': 1, 'dijeron': 2, 'líneapues': 1, 'eligieron': 2, 'invita': 2, 'acompañó': 1, 'bátiz': 1, 'nombraron': 1, 'nombraran': 1, 'establecen': 1, 'siembran': 2, 'resistecon': 1, 'desprende': 1, 'gobernando': 1, 'elaborar': 2, 'traernos': 1, 'tareas': 2, 'cooperen': 1, 'comisionado': 1, 'pedido': 1, 'ayude': 1, 'detenernos': 1, 'cervantes': 1, 'reconstrucción': 3, 'sismos': 3, 'incluida': 1, 'iglesia': 3, 'templo': 4, 'temblores': 1, 'pueblosles': 1, 'compongan': 2, 'rehabiliten': 1, 'sentimiento': 1, 'nigromante': 1, 'ignacio': 1, 'hinco': 1, 'hinca': 1, 'anticlerical': 2, 'antirreligioso': 1, 'creencias': 2, 'diversas': 1, 'religiones': 1, 'creyentes': 1, 'olvidan': 1, 'afectado': 1, 'cooperan': 1, 'arreglar': 1, 'puebla': 1, 'presentara': 1, 'reinaugurando': 1, 'abriendo': 1, 'tocado': 1, 'ejecutar': 1, 'cupular': 2, 'acostumbraba': 1, 'echaba': 1, 'mordelón': 1, 'acomoda': 1, 'fomento': 1, 'entreguen': 1, 'engañan': 1, 'colaboradores': 1, 'rodean': 1, 'perforar': 1, 'robarme': 1, 'justifica': 1, 'roba': 1, 'enseñanzas': 2, 'asociación': 3, 'paradoja': 1, 'contradictorio': 1, 'gubernamental': 2, 'dependía': 2, 'enseñanzaporque': 1, 'molestan': 1, 'integrar': 1, 'institutopues': 1, 'entregarle': 2, 'onu': 1, 'destina': 1, 'través': 2, 'lavaban': 1, 'buscaban': 1, 'filantrópicas': 1, 'caridad': 1, 'colmo': 1, 'desviaban': 1, 'madres': 1, 'solteras': 1, 'entregaba': 1, 'campesinas': 2, 'sombreros': 1, 'texanos': 1, 'camionetas': 1, 'cerraban': 1, 'avenidas': 1, 'agricultura': 1, 'dieran': 1, 'repetición': 1, 'prácticas': 1, 'enterando': 1, 'despiden': 2, 'despido': 2, 'analizando': 1, 'modificó': 1, 'outsourcing': 1, 'torres': 2, 'preocupante': 1, 'cuanto': 2, 'cayó': 5, 'vuelve': 2, 'subir': 4, 'pensamossí': 1, 'diciembres': 1, 'pensábamos': 1, 'junio': 1, 'octubre': 2, 'esperando': 3, 'histórica': 1, 'caen': 1, 'contraten': 1, 'tecnológico': 2, 'monterrey': 4, 'digoporque': 1, 'polemice': 1, 'patronato': 1, 'despedidos': 1, 'recontratados': 1, 'entregamos': 1, 'negativo': 1, 'gripe': 1, 'temporada': 3, 'frío': 1, 'respiratorias': 1, 'mulegé': 1, 'vencía': 1, 'ampliara': 1, 'extracción': 1, 'minerales': 1, 'tiradero': 1, 'señalas': 1, 'minas': 2, 'jales': 1, 'derrames': 1, 'concesionarios': 1, 'sencillamente': 1, 'afectaron': 1, 'potosí': 6, 'intensificó': 1, 'cerro': 2, 'símbolo': 1, 'escudo': 1, 'destruyeron': 1, 'complicidades': 1, 'minera': 1, 'canadiense': 1, 'contrasteacabamos': 1, 'declarar': 1, 'miguelito': 2, 'falsos': 1, 'sombra': 1, 'sacando': 2, 'destruía': 1, 'opusieron': 1, 'subordinadas': 1, 'gobiernoentonces': 1, 'desechos': 1, 'albores': 1, 'pozos': 2, 'desuso': 1, 'causar': 1, 'ambientales': 1, 'vallarta': 2, 'manzanillo': 1, 'colima': 1, 'norma': 1, 'agentes': 1, 'decreto': 2, 'ken': 2, 'salazar': 5, 'mutuo': 1, 'mejoren': 1, 'virtudes': 2, 'favorables': 2, 'sangre': 1, 'antepasados': 1, 'colorado': 1, 'zarpazo': 1, 'corrido': 1, 'tigres': 1, 'crucé': 1, 'cruzó': 1, 'apellidos': 2, 'garzas': 1, 'benavides': 1, 'coahuila': 1, 'tamaulipas': 1, 'predominan': 1, 'legislador': 2, 'mexicoestadounidense': 1, 'amistad': 1, 'vicepresidenta': 1, 'kamala': 1, 'harris': 1, 'bilateral': 1, 'pedía': 1, 'representante': 1, 'cometerse': 1, 'ilícitos': 1, 'afecten': 1, 'preparando': 1, 'paquete': 1, 'mantiene': 2, 'activa': 1, 'fortalecimiento': 2, 'acierto': 1, 'firmar': 1, 'garantizado': 1, 'atractivo': 1, 'medianas': 1, 'mundos': 1, 'distanciar': 1, 'maneja': 1, 'consigan': 1, 'reactivando': 1, 'apoyando': 3, 'manufacturero': 1, 'compite': 1, 'cuadro': 1, 'estimados': 1, 'equivocamos': 1, 'aportan': 1, 'heroínas': 1, 'beisbolísticos': 2, 'guasave': 2, 'hoyo': 1, 'corajudos': 1, 'iniciara': 2, 'inventos': 1, 'carestía': 3, 'controlado': 1, 'alcanzaba': 1, 'kilos': 4, 'frijol': 5, 'tortilla': 2, 'nominal': 1, 'aumentado': 2, 'durango': 2, 'coman': 1, 'comer': 2, 'pasé': 1, 'sentí': 1, 'alegre': 1, 'gustos': 2, 'baile': 1, 'alegría': 3, 'cohetes': 2, 'fiesta': 1, 'fuegos': 1, 'artificiales': 1, 'barrios': 1, 'virgen': 1, 'guadalupe': 1, 'animales': 1, 'condición': 1, 'pensáramos': 1, 'gobiernogarantizar': 1, 'trajo': 1, 'ninguno': 2, 'panorama': 1, 'satisfechos': 1, 'reivindicación': 1, 'meternos': 2, 'sabido': 1, 'explotado': 1, 'oprimido': 1, 'adultas': 1, 'discrimina': 2, 'discriminación': 2, 'leti': 2, 'servidoras': 1, 'maltrate': 1, 'dejé': 1, 'loretta': 1, 'ministra': 1, 'rebasar': 2, 'legisladoras': 1, 'elaboración': 1, 'avanzada': 1, 'término': 1, 'usan': 2, 'empatía': 3, 'resi': 1, 'resiliencia': 1, 'parecieron': 1, 'feministas': 1, 'conveniencia': 1, 'demostraron': 1, 'enganchado': 1, 'dejado': 1, 'mienten': 2, 'imaginan': 1, 'mencionamos': 1, 'distorsiones': 1, 'quedemos': 1, 'brazos': 1, 'cruzados': 1, 'detenga': 1, 'juego': 2, 'provoca': 1, 'autonomía': 3, 'propusimos': 1, 'manejáramos': 1, 'responsablemente': 1, 'tentación': 1, 'hacías': 1, 'miembros': 1, 'transferían': 1, 'importapues': 1, 'influenciar': 1, 'cuide': 1, 'evite': 1, 'profesionalmente': 1, 'añoprimero': 1, 'sanos': 2, 'hospitalizado': 1, 'manteniendo': 1, 'fraternos': 1, 'generosos': 1, 'practiquemos': 1, 'creyendo': 1, 'trimestrales': 1, 'actualizando': 1, 'láminas': 1, 'rosas': 1, 'técnico': 2, 'verlos': 1, 'reflejó': 1, 'sexenios': 2, 'eufemismo': 1, 'oficiales': 1, 'malquerientes': 1, 'cuantitativos': 1, 'debajo': 1, 'callaron': 1, 'momias': 1, 'aumentaban': 1, 'fotografía': 1, 'gasolinera': 1, 'memoria': 1, 'litro': 4, 'bajó': 1, 'fronterizos': 1, 'cargan': 1, 'matamoros': 1, 'reynosa': 1, 'laredo': 1, 'torcer': 1, 'gasolinaes': 1, 'reaccionaria': 1, 'deterioro': 2, 'comido': 2, 'comía': 1, 'tragaba': 1, 'analiza': 1, 'tasa': 3, 'bajamos': 1, 'controlar': 1, 'aumenta': 2, 'aumentan': 1, 'probarlo': 1, 'factores': 1, 'impactantes': 1, 'originado': 2, 'factor': 1, 'externo': 2, 'héroe': 1, 'heredar': 1, 'adversidades': 1, 'salva': 1, 'doblemente': 1, 'cuestionable': 1, 'racismo': 1, 'clasismo': 1, 'clasista': 1, 'niega': 1, 'reprime': 1, 'curso': 1, 'estarlo': 1, 'comunes': 1, 'concientización': 1, 'instancia': 3, 'autónoma': 1, 'concentrado': 1, 'concentraba': 1, 'decidía': 1, 'judiciales': 1, 'legislativos': 1, 'padecí': 1, 'compitiera': 1, 'mediados': 1, 'fabricaron': 1, 'desobedecido': 1, 'construí': 1, 'comunicar': 1, 'fraguaron': 1, 'pinos': 1, 'mariano': 1, 'azuela': 1, 'novela': 3, 'suprema': 1, 'desaforarme': 1, 'quitarme': 1, 'manlio': 1, 'fabio': 1, 'beltrones': 1, 'chuayffet': 1, 'cámara': 1, 'votaron': 1, 'desafuero': 1, 'desaforaron': 1, 'aprehendieran': 1, 'huyera': 1, 'amparara': 1, 'rechacé': 1, 'gandhi': 1, 'mandela': 1, 'luther': 2, 'king': 2, 'detenían': 1, 'ofrecían': 1, 'fianza': 2, 'aceptó': 1, 'resistencia': 1, 'demian': 1, 'observación': 1, 'acumulada': 1, 'incrementado': 1, 'distribuidores': 1, 'quejando': 1, 'regulariza': 1, 'demorado': 1, 'anduvo': 1, 'caballo': 1, 'camello': 1, 'empujarlo': 1, 'analizado': 1, 'tantos': 1, 'sacas': 1, 'reglamento': 1, 'normalidad': 2, 'entusiasmarnos': 1, 'entusiasmados': 1, 'logrando': 1, 'obteniendo': 1, 'frutos': 1, 'entusiasmar': 1, 'produzca': 1, 'servir': 1, 'jerárquico': 1, 'súpersecretaria': 1, 'jerárquica': 1, 'papel': 1, 'entusiasmado': 1, 'ayudo': 1, 'aporto': 1, 'séptimo': 1, 'soldado': 1, 'sacudida': 1, 'zarandeada': 1, 'zamarreada': 1, 'levantándonos': 1, 'acostándonos': 1, 'incrementos': 2, 'descalificar': 1, 'exgobernadora': 1, 'sumario': 1, 'mirón': 1, 'descartamos': 1, 'descarta': 1, 'quedaste': 1, 'construidas': 1, 'sucursales': 2, 'equipando': 1, 'requieren': 1, 'cajeros': 2, 'dificultado': 1, 'enfrentarnos': 1, 'reto': 1, 'gratuito': 1, 'batalla': 1, 'dentro': 1, 'simbólicamente': 1, 'invitados': 1, 'integrador': 2, 'sembradores': 1, 'concentrando': 1, 'comunidad': 1, 'comprenda': 1, 'integradores': 1, 'dispersión': 2, 'dispersar': 2, 'traigo': 1, 'cartera': 1, 'adulto': 2, 'consolidados': 1, 'apuro': 1, 'lentos': 1, 'cuerpos': 4, 'mandar': 1, 'próximos': 1, 'consolidadas': 1, 'echarlas': 1, 'ofensivo': 1, 'entoncestoco': 1, 'consolidado': 1, 'convocando': 1, 'entusiasta': 1, 'comprometida': 1, 'juzgado': 1, 'ejerce': 1, 'ilegítimo': 1, 'autoritario': 1, 'apegarnos': 1, 'válida': 1, 'reinserción': 1, 'explicarnos': 1, 'vergonzoso': 1, 'emití': 1, 'amnistía': 1, 'torturada': 2, 'demuestra': 1, 'libere': 2, 'expedita': 1, 'enfermos': 3, 'sentenciado': 1, 'víctimas': 1, 'responsabilizaban': 1, 'culpaban': 1, 'juzgaban': 1, 'revés': 1, 'añoran': 1, 'pasados': 1, 'cercano': 1, 'acusado': 1, 'organizada': 2, 'conociste': 1, 'nombraste': 1, 'diste': 1, 'actuaba': 1, 'testimonio': 1, 'dándose': 1, 'prototipo': 1, 'vencidos': 1, 'calificar': 1, 'cercana': 1, 'remota': 1, 'detenerla': 1, 'usen': 1, 'hicieran': 1, 'empezaba': 1, 'desfile': 1, 'escolar': 1, 'suyo': 2, 'consiguió': 1, 'ejidatarios': 1, 'nobleza': 1, 'conmueve': 1, 'tienencien': 1, 'pegado': 1, 'pertenece': 1, 'invasiones': 2, 'oponen': 1, 'hagas': 1, 'acaparamiento': 1, 'despojos': 1, 'extendido': 1, 'mancha': 2, 'urbana': 2, 'continuó': 1, 'reacciones': 1, 'frenar': 1, 'desordenado': 1, 'anárquico': 1, 'destruían': 1, 'cerros': 1, 'inmobiliarias': 2, 'paisaje': 1, 'desolador': 1, 'abandonados': 2, 'triple': 1, 'infonavit': 1, 'prevaleció': 1, 'aprueben': 1, 'ruta': 1, 'urbanos': 1, 'electricistas': 1, 'tendrían': 1, 'permitiríamos': 1, 'alguna': 1, 'preséntalos': 1, 'resuelve': 1, 'excepción': 1, 'recibos': 1, 'entrégalos': 1, 'corregimos': 1, 'quijote': 1, 'arriesgar': 1, 'demagogo': 1, 'mentiroso': 1, 'preséntalas': 1, 'corrige': 1, 'favorecida': 1, 'vicente': 1, 'adjudicación': 1, 'coludidos': 1, 'fracaso': 1, 'liquidación': 1, 'rectitud': 1, 'unimos': 1, 'constituye': 1, 'mercancías': 1, 'asia': 1, 'logre': 1, 'americanos': 2, 'euro': 1, 'intervencionistas': 2, 'medievales': 1, 'concluyendo': 1, 'salcedo': 1, 'situaciones': 1, 'normales': 1, 'pasajeros': 1, 'oficina': 1, 'amplitud': 1, 'recámara': 1, 'baño': 1, 'analizó': 1, 'sostiene': 1, 'costaría': 1, 'manejar': 1, 'maneje': 1, 'rentarlo': 1, 'cabos': 1, 'utilizarlo': 1, 'adecuada': 1, 'volar': 1, 'utilizarse': 1, 'absurdo': 1, 'técnicamente': 1, 'recarga': 1, 'largas': 1, 'distancias': 1, 'villahermosa': 1, 'costoso': 1, 'largos': 1, 'estricto': 1, 'viajar': 1, 'concluyo': 1, 'dándole': 2, 'deteriore': 1, 'cuida': 1, 'vuela': 1, 'conforme': 1, 'gastaríamos': 1, 'utilizara': 1, 'ayudantes': 1, 'acompañan': 2, 'gastar': 1, 'viaje': 1, 'boleto': 1, 'teniéndolo': 1, 'vuele': 1, 'vendiéndolo': 1, 'intercambiándolo': 1, 'helicópteros': 1, 'entregándolo': 1, 'expresé': 1, 'considero': 2, 'vinculación': 2, 'cuello': 1, 'veracruzanos': 1, 'chorear': 1, 'veracruzano': 1, 'absoluto': 1, 'legítimamente': 1, 'constituida': 1, 'rebasarnos': 1, 'sustancial': 1, 'aprobando': 1, 'cofepris': 1, 'efectivos': 1, 'tomados': 1, 'svarch': 2, 'reservados': 1, 'autorizaciones': 1, 'gertz': 1, 'manero': 1, 'santiago': 2, 'desahogarse': 1, 'diligencias': 1, 'señalado': 1, 'involucrado': 1, 'parecían': 1, 'gigantes': 1, 'integraban': 1, 'yerno': 1, 'fíjate': 1, 'apretones': 2, 'pescuezo': 1, 'matan': 1, 'enfrentaban': 1, 'iglesias': 1, 'recomendar': 1, 'serenemos': 1, 'empeñados': 1, 'avanzáramos': 1, 'comprometidos': 1, 'sinceros': 1, 'deberíamos': 1, 'unirnos': 1, 'columnas': 4, 'hacerles': 2, 'siguiente': 1, 'notorio': 1, 'cucan': 1, 'enfrenten': 1, 'transmita': 1, 'proyecte': 1, 'épocas': 1, 'cúpulas': 1, 'desayuna': 1, 'come': 1, 'relevancia': 1, 'comentarista': 1, 'conformación': 1, 'reacción': 1, 'moralmente': 1, 'imposible': 1, 'atacan': 1, 'reformamiren': 1, 'pasquín': 1, 'aprieta': 1, 'morenistas': 1, 'recordamos': 1, 'salinista': 1, 'incluyen': 1, 'traemos': 1, 'enfrentamientos': 2, 'provocación': 1, 'cuauhtémoc': 1, 'podridas': 1, 'homicidio': 2, 'mínima': 1, 'frenamos': 1, 'secuestro': 1, 'generalporque': 1, 'devuelven': 1, 'eu': 1, 'devolvían': 1, 'devolver': 1, 'históricos': 1, 'tramitar': 1, 'picacho': 1, 'convierta': 1, 'firmas': 1, 'másla': 1, 'corrija': 1, 'patrocinan': 1, 'privatice': 1, 'árbitros': 1, 'fraudes': 1, 'participativa': 1, 'ladearon': 1, 'gaste': 1, 'órgano': 1, 'organizar': 1, 'gasta': 1, 'credibilidad': 1, 'certeza': 1, 'aparto': 1, 'oneroso': 1, 'caroy': 1, 'constituyó': 1, 'consolidando': 1, 'dejarla': 1, 'adscrita': 1, 'corrompió': 1, 'disciplina': 1, 'corporación': 1, 'alza': 1, 'porcentajes': 1, 'muertos': 1, 'heridos': 1, 'herido': 1, 'remataban': 1, 'encargamos': 1, 'leído': 2, 'radioyo': 1, 'apogeo': 1, 'precisas': 1, 'fijas': 1, 'fijaronuna': 1, 'ciro': 1, 'leyva': 1, 'marín': 1, 'búnker': 1, 'salen': 1, 'hemeroteca': 1, 'maravillados': 1, 'oh': 1, 'cuánta': 1, 'tecnología': 1, 'punta': 1, 'dijeran': 1, 'notaron': 1, 'visitarnos': 1, 'aquél': 1, 'guapa': 2, 'liberaron': 1, 'sarkozy': 2, 'vinieron': 1, 'solicitud': 1, 'cassez': 2, 'contagiados': 1, 'suministre': 1, 'salgan': 1, 'verdada': 1, 'dedicamos': 1, 'atenderse': 1, 'potosinos': 1, 'escenario': 1, 'enfrentamiento': 1, 'presencia': 3, 'mandarnos': 1, 'secuestros': 2, 'incluyendo': 1, 'ponerlos': 1, 'declaró': 1, 'presentando': 1, 'cercanas': 1, 'fraccionar': 1, 'legalmente': 1, 'fraccionadores': 1, 'compañías': 1, 'construyen': 1, 'vialidades': 2, 'construya': 1, 'compran': 2, 'hectárea': 1, 'metro': 1, 'cuadrado': 1, 'despojados': 1, 'permitas': 1, 'cisen': 1, 'espiando': 1, 'espionaje': 1, 'inteligencia': 1, 'raja': 1, 'cooptación': 1, 'suave': 1, 'felicito': 1, 'carácter': 2, 'vinculatorio': 1, 'republicana': 1, 'ejerciendo': 1, 'respeta': 1, 'consejeros': 1, 'ahorrary': 1, 'obtiene': 1, 'aguinaldo': 2, 'inepues': 1, 'ineno': 1, 'diferenciasentonces': 1, 'aprender': 1, 'medianíaentonces': 1, 'transparentar': 1, 'considerable': 1, 'curar': 1, 'costilla': 1, 'suspendió': 1, 'proveedores': 1, 'credencial': 1, 'remedio': 1, 'trapito': 1, 'hazle': 1, 'revisamos': 1, 'excedidos': 1, 'democráticamente': 1, 'liberan': 1, 'esencial': 1, 'cortar': 1, 'copete': 1, 'obligatorio': 1, 'jovencito': 1, 'jovencitos': 1, 'othón': 1, 'caracterizaban': 1, 'conocedor': 1, 'ayutla': 1, 'enfermó': 1, 'encabezo': 1, 'entregáramos': 1, 'cuestionaran': 1, 'vacune': 1, 'salvan': 1, 'vidas': 1, 'gobernar': 2, 'opine': 1, 'verdaderamente': 1, 'avispado': 1, 'seguirse': 1, 'asignó': 1, 'mensualidadesvamos': 1, 'despidieron': 1, 'dispersaron': 1, 'recuperado': 1, 'reuní': 1, 'regresando': 1, 'practicar': 1, 'desgarrado': 1, 'desgarre': 1, 'bateando': 1, 'bate': 1, 'incorporarme': 1, 'veteranos': 1, 'batear': 1, 'culiacán': 1, 'tomateros': 1, 'algodoneros': 1, 'empatados': 1, 'afición': 1, 'deportes': 1, 'preventiva': 1, 'vencer': 1, 'conocemos': 1, 'escribir': 1, 'busquemos': 1, 'anunciando': 1, 'nacimiento': 1, 'tabasqueños': 2, 'museógrafo': 1, 'alberto': 1, 'rus': 1, 'descubre': 1, 'inscripciones': 1, 'pakal': 1, 'traslada': 2, 'piezas': 2, 'cabezas': 1, 'olmecas': 1, 'huimanguillo': 1, 'aqueel': 1, 'alemán': 1, 'j': 1, 'diccionario': 1, 'mexicanismos': 1, 'ubicada': 1, 'tonalá': 1, 'divide': 1, 'asentaron': 1, 'sitios': 2, 'floreció': 1, 'cuicuilco': 2, 'tlalpan': 1, 'cristo': 1, 'ilusiones': 1, 'colocan': 1, 'selvático': 1, 'árboles': 1, 'tropicales': 1, 'delicia': 1, 'batista': 2, 'anastasio': 1, 'consecuente': 1, 'humanista': 1, 'guadalupano': 1, 'recorrer': 1, 'promulgación': 2, 'mártires': 1, 'madrugada': 1, 'tremendo': 1, 'crónicas': 1, 'fuertes': 1, 'subían': 1, 'vagones': 1, 'tiburones': 1, 'reprimiendo': 1, 'victoriano': 1, 'fechoría': 1, 'insalubre': 1, 'turísticos': 1, 'bellos': 1, 'visitados': 1, 'cruceros': 1, 'nopero': 1})\n",
      "9.828361151268235\n",
      "2\n",
      "[1, 1, 1, 1, 1, 1, 1, 1, 1, 1, 1, 1, 1, 1, 1, 1, 1, 1, 1, 1, 1, 1, 1, 1, 1, 1, 1, 1, 1, 1, 1, 1, 1, 1, 1, 1, 1, 1, 1, 1, 1, 1, 1, 1, 1, 1, 1, 1, 1, 1, 1, 1, 1, 1, 1, 1, 1, 1, 1, 1, 1, 1, 1, 1, 1, 1, 1, 1, 1, 1, 1, 1, 1, 1, 1, 1, 1, 1, 1, 1, 1, 1, 1, 1, 1, 1, 1, 1, 1, 1, 1, 1, 1, 1, 1, 1, 1, 1, 1, 1, 1, 1, 1, 1, 1, 1, 1, 1, 1, 1, 1, 1, 1, 1, 1, 1, 1, 1, 1, 1, 1, 1, 1, 1, 1, 1, 1, 1, 1, 1, 1, 1, 1, 1, 1, 1, 1, 1, 1, 1, 1, 1, 1, 1, 1, 1, 1, 1, 1, 1, 1, 1, 1, 1, 1, 1, 1, 1, 1, 1, 1, 1, 1, 1, 1, 1, 1, 1, 1, 1, 1, 1, 1, 1, 1, 1, 1, 1, 1, 1, 1, 1, 1, 1, 1, 1, 1, 1, 1, 1, 1, 1, 1, 1, 1, 1, 1, 1, 1, 1, 1, 1, 1, 1, 1, 1, 1, 1, 1, 1, 1, 1, 1, 1, 1, 1, 1, 1, 1, 1, 1, 1, 1, 1, 1, 1, 1, 1, 1, 1, 1, 1, 1, 1, 1, 1, 1, 1, 1, 1, 1, 1, 1, 1, 1, 1, 1, 1, 1, 1, 1, 1, 1, 1, 1, 1, 1, 1, 1, 1, 1, 1, 1, 1, 1, 1, 1, 1, 1, 1, 1, 1, 1, 1, 1, 1, 1, 1, 1, 1, 1, 1, 1, 1, 1, 1, 1, 1, 1, 1, 1, 1, 1, 1, 1, 1, 1, 1, 1, 1, 1, 1, 1, 1, 1, 1, 1, 1, 1, 1, 1, 1, 1, 1, 1, 1, 1, 1, 1, 1, 1, 1, 1, 1, 1, 1, 1, 1, 1, 1, 1, 1, 1, 1, 1, 1, 1, 1, 1, 1, 1, 1, 1, 1, 1, 1, 1, 1, 1, 1, 1, 1, 1, 1, 1, 1, 1, 1, 1, 1, 1, 1, 1, 1, 1, 1, 1, 1, 1, 1, 1, 1, 1, 1, 1, 1, 1, 1, 1, 1, 1, 1, 1, 1, 1, 1, 1, 1, 1, 1, 1, 1, 1, 1, 1, 1, 1, 1, 1, 1, 1, 1, 1, 1, 1, 1, 1, 1, 1, 1, 1, 1, 1, 1, 1, 1, 1, 1, 1, 1, 1, 1, 1, 1, 1, 1, 1, 1, 1, 1, 1, 1, 1, 1, 1, 1, 1, 1, 1, 1, 1, 1, 1, 1, 1, 1, 1, 1, 1, 1, 1, 1, 1, 1, 1, 1, 1, 1, 1, 1, 1, 1, 1, 1, 1, 1, 1, 1, 1, 1, 1, 1, 1, 1, 1, 1, 1, 1, 1, 1, 1, 1, 1, 1, 1, 1, 1, 1, 1, 1, 1, 1, 1, 1, 1, 1, 1, 1, 1, 1, 1, 1, 1, 1, 1, 1, 1, 1, 1, 1, 1, 1, 1, 1, 1, 1, 1, 1, 1, 1, 1, 1, 1, 1, 1, 1, 1, 1, 1, 1, 1, 1, 1, 1, 1, 1, 1, 1, 1, 1, 1, 1, 1, 1, 1, 1, 1, 1, 1, 1, 1, 1, 1, 1, 1, 1, 1, 1, 1, 1, 1, 1, 1, 1, 1, 1, 1, 1, 1, 1, 1, 1, 1, 1, 1, 1, 1, 1, 1, 1, 1, 1, 1, 1, 1, 1, 1, 1, 1, 1, 1, 1, 1, 1, 1, 1, 1, 1, 1, 1, 1, 1, 1, 1, 1, 1, 1, 1, 1, 1, 1, 1, 1, 1, 1, 1, 1, 1, 1, 1, 1, 1, 1, 1, 1, 1, 1, 1, 1, 1, 1, 1, 1, 1, 1, 1, 1, 1, 1, 1, 1, 1, 1, 1, 1, 1, 1, 1, 1, 1, 1, 1, 1, 1, 1, 1, 1, 1, 1, 1, 1, 1, 1, 1, 1, 1, 1, 1, 1, 1, 1, 1, 1, 1, 1, 1, 1, 1, 1, 1, 1, 1, 1, 1, 1, 1, 1, 1, 1, 1, 1, 1, 1, 1, 1, 1, 1, 1, 1, 1, 1, 1, 1, 1, 1, 1, 1, 1, 1, 1, 1, 1, 1, 1, 1, 1, 1, 1, 1, 1, 1, 1, 1, 1, 1, 1, 1, 1, 1, 1, 1, 1, 1, 1, 1, 1, 1, 1, 1, 1, 1, 1, 1, 1, 1, 1, 1, 1, 1, 1, 1, 1, 1, 1, 1, 1, 1, 1, 1, 1, 1, 1, 1, 1, 1, 1, 1, 1, 1, 1, 1, 1, 1, 1, 1, 1, 1, 1, 1, 1, 1, 1, 1, 1, 1, 1, 1, 1, 1, 1, 1, 1, 1, 1, 1, 1, 1, 1, 1, 1, 1, 1, 1, 1, 1, 1, 1, 1, 1, 1, 1, 1, 1, 1, 1, 1, 1, 1, 1, 1, 1, 1, 1, 1, 1, 1, 1, 1, 1, 1, 1, 1, 1, 1, 1, 1, 1, 1, 1, 1, 1, 1, 1, 1, 1, 1, 1, 1, 1, 1, 1, 1, 1, 1, 1, 1, 1, 1, 1, 1, 1, 1, 1, 1, 1, 1, 1, 1, 1, 1, 1, 1, 1, 1, 1, 1, 1, 1, 1, 1, 1, 1, 1, 1, 1, 1, 1, 1, 1, 1, 1, 1, 1, 1, 1, 1, 1, 1, 1, 1, 1, 1, 1, 1, 1, 1, 1, 1, 1, 1, 1, 1, 1, 1, 1, 1, 1, 1, 1, 1, 1, 1, 1, 1, 1, 1, 1, 1, 1, 1, 1, 1, 1, 1, 1, 1, 1, 1, 1, 1, 1, 1, 1, 1, 1, 1, 1, 1, 1, 1, 1, 1, 1, 1, 1, 1, 1, 1, 1, 1, 1, 1, 1, 1, 1, 1, 1, 1, 1, 1, 1, 1, 1, 1, 1, 1, 1, 1, 1, 1, 1, 1, 1, 1, 1, 1, 1, 1, 1, 1, 1, 1, 1, 1, 1, 1, 1, 1, 1, 1, 1, 1, 1, 1, 1, 1, 1, 1, 1, 1, 1, 1, 1, 1, 1, 1, 1, 1, 1, 1, 1, 1, 1, 1, 1, 1, 1, 1, 1, 1, 1, 1, 1, 1, 1, 1, 1, 1, 1, 1, 1, 1, 1, 1, 1, 1, 1, 1, 1, 1, 1, 1, 1, 1, 1, 1, 1, 1, 1, 1, 1, 1, 1, 1, 1, 1, 1, 1, 1, 1, 1, 1, 1, 1, 1, 1, 1, 1, 1, 1, 1, 1, 1, 1, 1, 1, 1, 1, 1, 1, 1, 1, 1, 1, 1, 1, 1, 1, 1, 1, 1, 1, 1, 1, 1, 1, 1, 1, 1, 1, 1, 1, 1, 1, 1, 1, 1, 1, 1, 1, 1, 1, 1, 1, 1, 1, 1, 1, 1, 1, 1, 1, 1, 1, 1, 1, 1, 1, 1, 1, 1, 1, 1, 1, 1, 1, 1, 1, 1, 1, 1, 1, 1, 1, 1, 1, 1, 1, 1, 1, 1, 1, 1, 1, 1, 1, 1, 1, 1, 1, 1, 1, 1, 1, 1, 1, 1, 1, 1, 1, 1, 1, 1, 1, 1, 1, 1, 1, 1, 1, 1, 1, 1, 1, 1, 1, 1, 1, 1, 1, 1, 1, 1, 1, 1, 1, 1, 1, 1, 1, 1, 1, 1, 1, 1, 1, 1, 1, 1, 1, 1, 1, 1, 1, 1, 1, 1, 1, 1, 1, 1, 1, 1, 1, 1, 1, 1, 1, 1, 1, 1, 1, 1, 1, 1, 1, 1, 1, 1, 1, 1, 1, 1, 1, 1, 1, 1, 1, 1, 1, 1, 1, 1, 1, 1, 1, 1, 1, 1, 1, 1, 1, 1, 1, 1, 1, 1, 1, 1, 1, 1, 1, 1, 1, 1, 1, 1, 1, 1, 1, 1, 1, 1, 1, 1, 1, 1, 1, 1, 1, 1, 1, 1, 1, 1, 1, 1, 1, 1, 1, 1, 1, 1, 1, 1, 1, 1, 1, 1, 1, 1, 1, 1, 1, 1, 1, 1, 1, 1, 1, 1, 1, 1, 1, 1, 1, 1, 1, 1, 1, 1, 1, 1, 1, 1, 1, 1, 1, 1, 1, 1, 1, 1, 1, 1, 1, 1, 1, 1, 1, 1, 1, 1, 1, 1, 1, 1, 1, 1, 1, 1, 1, 1, 1, 1, 1, 1, 1, 1, 1, 1, 1, 1, 1, 1, 1, 1, 1, 1, 1, 1, 1, 1, 1, 1, 1, 1, 1, 1, 1, 1, 1, 1, 1, 1, 1, 1, 1, 1, 1, 1, 1, 1, 1, 1, 1, 1, 1, 1, 1, 1, 1, 1, 1, 1, 1, 1, 1, 1, 1, 1, 1, 1, 1, 1, 1, 1, 1, 1, 1, 1, 1, 1, 1, 1, 1, 1, 1, 1, 1, 1, 1, 1, 1, 1, 1, 1, 1, 1, 1, 1, 1, 1, 1, 1, 1, 1, 1, 1, 1, 1, 1, 1, 1, 1, 1, 1, 1, 1, 1, 1, 1, 1, 1, 1, 1, 1, 1, 1, 1, 1, 1, 1, 1, 1, 1, 1, 1, 1, 1, 1, 1, 1, 1, 1, 1, 1, 1, 1, 1, 1, 1, 1, 1, 1, 1, 1, 1, 1, 1, 1, 1, 1, 1, 1, 1, 1, 1, 1, 1, 1, 1, 1, 1, 1, 1, 1, 1, 1, 1, 1, 1, 1, 1, 1, 1, 1, 1, 1, 1, 1, 1, 1, 1, 1, 1, 1, 1, 1, 1, 1, 1, 1, 1, 1, 1, 1, 1, 1, 1, 1, 1, 1, 1, 1, 1, 1, 1, 1, 1, 1, 1, 1, 1, 1, 1, 1, 1, 1, 1, 1, 1, 1, 1, 1, 1, 1, 1, 1, 1, 1, 1, 1, 1, 1, 1, 1, 1, 1, 1, 1, 1, 1, 1, 1, 1, 1, 1, 1, 1, 1, 1, 1, 1, 1, 1, 1, 1, 1, 1, 1, 1, 1, 1, 1, 1, 1, 1, 1, 1, 1, 1, 1, 1, 1, 1, 1, 1, 1, 1, 1, 1, 1, 1, 1, 1, 1, 1, 1, 1, 1, 1, 1, 1, 1, 1, 1, 1, 1, 1, 1, 1, 1, 1, 1, 1, 1, 1, 1, 1, 1, 1, 1, 1, 1, 1, 1, 1, 1, 1, 1, 1, 1, 1, 1, 1, 1, 1, 1, 1, 1, 1, 1, 1, 1, 1, 1, 1, 1, 1, 1, 1, 1, 1, 1, 1, 1, 1, 1, 1, 1, 1, 1, 1, 1, 1, 1, 1, 1, 1, 1, 1, 1, 1, 1, 1, 1, 1, 1, 1, 1, 1, 1, 1, 1, 1, 1, 1, 1, 1, 1, 1, 1, 1, 1, 1, 1, 1, 1, 1, 1, 1, 1, 1, 1, 1, 1, 1, 1, 1, 1, 1, 1, 1, 1, 1, 1, 1, 1, 1, 1, 1, 1, 1, 1, 1, 1, 1, 1, 1, 1, 1, 1, 1, 1, 1, 1, 1, 1, 1, 1, 1, 1, 1, 1, 1, 1, 1, 1, 1, 1, 1, 1, 1, 1, 1, 1, 1, 1, 1, 1, 1, 1, 1, 1, 1, 1, 1, 1, 1, 1, 1, 1, 1, 1, 1, 1, 1, 1, 1, 1, 1, 1, 1, 1, 1, 1, 1, 1, 1, 1, 1, 1, 1, 1, 1, 1, 1, 1, 1, 1, 1, 1, 1, 1, 1, 1, 1, 1, 1, 1, 1, 1, 1, 1, 1, 1, 1, 1, 1, 1, 1, 1, 1, 1, 1, 1, 1, 1, 1, 1, 1, 1, 1, 1, 1, 1, 1, 1, 1, 1, 1, 1, 1, 1, 1, 1, 1, 1, 1, 1, 1, 1, 1, 1, 1, 1, 1, 1, 1, 1, 1, 1, 1, 1, 1, 1, 1, 1, 1, 1, 1, 1, 1, 1, 1, 1, 1, 1, 1, 1, 1, 1, 1, 1, 1, 1, 1, 1, 1, 1, 1, 1, 1, 1, 1, 1, 1, 1, 1, 1, 1, 1, 1, 1, 1, 1, 1, 1, 1, 1, 1, 1, 1, 1, 1, 1, 1, 1, 1, 1, 1, 1, 1, 1, 1, 1, 1, 1, 1, 1, 1, 1, 1, 1, 1, 1, 1, 1, 1, 1, 1, 1, 1, 1, 1, 1, 1, 1, 1, 1, 1, 1, 1, 1, 1, 1, 1, 1, 1, 1, 1, 1, 1, 1, 1, 1, 1, 1, 1, 1, 1, 1, 1, 1, 1, 1, 1, 1, 1, 1, 1, 1, 1, 1, 1, 1, 1, 1, 1, 1, 1, 1, 1, 1, 1, 1, 1, 1, 1, 1, 1, 1, 1, 1, 1, 1, 1, 1, 1, 1, 1, 1, 1, 1, 1, 1, 1, 1, 1, 1, 1, 1, 1, 1, 1, 1, 1, 1, 1, 1, 1, 1, 1, 1, 1, 1, 1, 1, 1, 1, 1, 1, 1, 1, 1, 1, 1, 1, 1, 1, 1, 1, 1, 1, 1, 1, 1, 1, 1, 1, 1, 1, 1, 1, 1, 1, 1, 1, 1, 1, 1, 1, 1, 1, 1, 1, 1, 1, 1, 1, 1, 1, 1, 1, 1, 1, 1, 1, 1, 1, 1, 1, 1, 1, 1, 1, 1, 1, 1, 1, 1, 1, 1, 1, 1, 1, 1, 1, 1, 1, 1, 1, 1, 1, 1, 1, 1, 1, 1, 1, 1, 1, 1, 1, 1, 1, 1, 1, 1, 1, 1, 1, 1, 1, 1, 1, 1, 1, 1, 1, 1, 1, 1, 1, 1, 1, 1, 1, 1, 1, 1, 1, 1, 1, 1, 1, 1, 1, 1, 1, 1, 1, 1, 1, 1, 1, 1, 1, 1, 1, 1, 1, 1, 1, 1, 1, 1, 1, 1, 1, 1, 1, 1, 1, 1, 1, 1, 1, 1, 1, 1, 1, 1, 1, 1, 1, 1, 1, 1, 1, 1, 1, 1, 1, 1, 1, 1, 1, 1, 1, 1, 1, 1, 1, 1, 1, 1, 1, 1, 1, 1, 1, 1, 1, 1, 1, 1, 1, 1, 1, 1, 1, 1, 1, 1, 1, 1, 1, 1, 1, 1, 1, 1, 1, 1, 1, 1, 1, 1, 1, 1, 1, 1, 1, 1, 1, 1, 1, 1, 1, 1, 1, 1, 1, 1, 1, 1, 1, 1, 1, 1, 1, 1, 1, 1, 1, 1, 1, 1, 1, 1, 1, 1, 1, 1, 1, 1, 1, 1, 1, 1, 1, 1, 1, 1, 1, 1, 1, 1, 1, 1, 1, 1, 1, 1, 1, 1, 1, 1, 1, 1, 1, 1, 1, 1, 1, 1, 1, 1, 1, 1, 1, 1, 1, 1, 1, 1, 1, 1, 1, 1, 1, 1, 1, 1, 1, 1, 1, 1, 1, 1, 1, 1, 1, 1, 1, 1, 1, 1, 1, 1, 1, 1, 1, 1, 1, 1, 1, 1, 1, 1, 1, 1, 1, 1, 1, 1, 1, 1, 1, 1, 1, 1, 1, 1, 1, 1, 1, 1, 1, 1, 1, 1, 1, 1, 1, 1, 1, 1, 1, 1, 1, 1, 1, 1, 1, 1, 1, 1, 1, 1, 1, 1, 1, 1, 1, 1, 1, 1, 1, 1, 1, 1, 1, 1, 1, 1, 1, 1, 1, 1, 1, 1, 1, 1, 1, 1, 1, 1, 1, 1, 1, 1, 1, 1, 1, 1, 1, 1, 1, 1, 1, 1, 1, 1, 1, 1, 1, 1, 1, 1, 1, 1, 1, 1, 1, 1, 1, 1, 1, 1, 1, 1, 1, 1, 1, 1, 1, 1, 1, 1, 1, 1, 1, 1, 1, 1, 1, 1, 1, 1, 1, 1, 1, 1, 1, 1, 1, 1, 1, 1, 1, 1, 1, 1, 1, 1, 1, 1, 1, 1, 1, 1, 1, 1, 1, 1, 1, 1, 1, 1, 1, 1, 1, 1, 1, 1, 1, 1, 1, 1, 1, 1, 1, 1, 1, 1, 1, 1, 1, 1, 1, 1, 1, 1, 1, 1, 1, 1, 1, 1, 1, 1, 1, 1, 1, 1, 1, 1, 1, 1, 1, 1, 1, 1, 1, 1, 1, 1, 1, 1, 1, 1, 1, 1, 1, 1, 1, 1, 1, 1, 1, 1, 1, 1, 1, 1, 1, 1, 1, 1, 1, 1, 1, 1, 1, 1, 1, 1, 1, 1, 1, 1, 1, 1, 1, 1, 1, 1, 1, 1, 1, 1, 1, 1, 1, 1, 1, 1, 1, 1, 1, 1, 1, 1, 1, 1, 1, 1, 1, 1, 1, 1, 1, 1, 1, 1, 1, 1, 1, 1, 1, 1, 1, 1, 1, 1, 1, 1, 1, 1, 1, 1, 1, 1, 1, 1, 1, 1, 1, 1, 1, 1, 1, 1, 1, 1, 1, 1, 1, 1, 1, 1, 1, 1, 1, 1, 1, 1, 1, 1, 1, 1, 1, 1, 1, 1, 1, 1, 1, 1, 1, 1, 1, 1, 1, 1, 1, 1, 1, 1, 1, 1, 1, 1, 1, 1, 1, 1, 1, 1, 1, 1, 1, 1, 1, 1, 1, 1, 1, 1, 1, 1, 1, 1, 1, 1, 1, 1, 1, 1, 1, 1, 1, 1, 1, 1, 1, 1, 1, 1, 1, 1, 1, 1, 1, 1, 1, 1, 1, 1, 1, 1, 1, 1, 1, 1, 1, 1, 1, 1, 1, 1, 1, 1, 1, 1, 1, 1, 1, 1, 1, 1, 1, 1, 1, 1, 1, 1, 1, 1, 1, 1, 1, 1, 1, 1, 1, 1, 1, 1, 1, 1, 1, 1, 1, 1, 1, 1, 1, 1, 1, 1, 1, 1, 1, 1, 1, 1, 1, 1, 1, 1, 1, 1, 1, 1, 1, 1, 1, 1, 1, 1, 1, 1, 1, 1, 1, 1, 1, 1, 1, 1, 1, 1, 1, 1, 1, 1, 1, 1, 1, 1, 1, 1, 1, 1, 1, 1, 1, 1, 1, 1, 1, 1, 1, 1, 1, 1, 1, 1, 1, 1, 1, 1, 1, 1, 1, 1, 1, 1, 1, 1, 1, 1, 1, 1, 1, 1, 1, 1, 1, 1, 1, 1, 1, 1, 1, 1, 1, 1, 1, 1, 1, 1, 1, 1, 1, 1, 1, 1, 1, 1, 1, 1, 1, 1, 1, 1, 1, 1, 1, 1, 1, 1, 1, 1, 1, 1, 1, 1, 1, 1, 1, 1, 1, 1, 1, 1, 1, 1, 1, 1, 1, 1, 1, 1, 1, 1, 1, 1, 1, 1, 1, 1, 1, 1, 1, 1, 1, 1, 1, 1, 1, 1, 1, 1, 1, 1, 1, 1, 1, 1, 1, 1, 1, 1, 1, 1, 1, 1, 1, 1, 1, 1, 1, 1, 1, 1, 1, 1, 1, 1, 1, 1, 1, 1, 1, 1, 1, 1, 1, 1, 1, 1, 1, 1, 1, 1, 1, 1, 1, 1, 1, 1, 1, 1, 1, 1, 1, 1, 1, 1, 1, 1, 1, 1, 1, 1, 1, 1, 1, 1, 1, 1, 1, 1, 1, 1, 1, 1, 1, 1, 1, 1, 1, 1, 1, 1, 1, 1, 1, 1, 1, 1, 1, 1, 1, 1, 1, 1, 1, 1, 1, 1, 1, 1, 1, 1, 1, 1, 1, 1, 1, 1, 1, 1, 1, 1, 1, 1, 1, 1, 1, 1, 1, 1, 1, 1, 1, 1, 1, 1, 1, 1, 1, 1, 1, 1, 1, 1, 1, 1, 1, 1, 1, 1, 1, 1, 1, 1, 1, 1, 1, 1, 1, 1, 1, 1, 1, 1, 1, 1, 1, 1, 1, 1, 1, 1, 1, 1, 1, 1, 1, 1, 1, 1, 1, 1, 1, 1, 1, 1, 1, 1, 1, 1, 1, 1, 1, 1, 1, 1, 1, 1, 1, 1, 1, 1, 1, 1, 1, 1, 1, 1, 1, 1, 1, 1, 1, 1, 1, 1, 1, 1, 1, 1, 1, 1, 1, 1, 1, 1, 1, 1, 1, 1, 1, 1, 1, 1, 1, 1, 1, 1, 1, 1, 1, 1, 1, 1, 1, 1, 1, 1, 1, 1, 1, 1, 1, 1, 1, 1, 1, 1, 1, 1, 1, 1, 1, 1, 1, 1, 1, 1, 1, 1, 1, 1, 1, 1, 1, 1, 1, 1, 1, 1, 1, 1, 1, 1, 1, 1, 1, 1, 1, 1, 1, 1, 1, 1, 1, 1, 1, 1, 1, 1, 1, 1, 1, 1, 1, 1, 1, 1, 1, 1, 1, 1, 1, 1, 1, 1, 1, 1, 1, 1, 1, 1, 1, 1, 1, 1, 1, 1, 1, 1, 1, 1, 1, 1, 1, 1, 1, 1, 1, 1, 1, 1, 1, 1, 1, 1, 1, 1, 1, 1, 1, 1, 1, 1, 1, 1, 1, 1, 1, 1, 1, 1, 1, 1, 1, 1, 1, 1, 1, 1, 1, 1, 1, 1, 1, 1, 1, 1, 1, 1, 1, 1, 1, 1, 1, 1, 1, 1, 1, 1, 1, 1, 1, 1, 1, 1, 1, 1, 1, 1, 1, 1, 1, 1, 1, 1, 1, 1, 1, 1, 1, 1, 1, 1, 1, 1, 1, 1, 1, 1, 1, 1, 1, 1, 1, 1, 1, 1, 1, 1, 1, 1, 1, 1, 1, 1, 1, 1, 1, 1, 1, 1, 1, 1, 1, 1, 1, 1, 1, 1, 1, 1, 1, 1, 1, 1, 1, 1, 1, 1, 1, 1, 1, 1, 1, 1, 1, 1, 1, 1, 1, 1, 1, 1, 1, 1, 1, 1, 1, 1, 1, 1, 1, 1, 1, 1, 1, 1, 1, 1, 1, 1, 1, 1, 1, 1, 1, 1, 1, 1, 1, 1, 1, 1, 1, 1, 1, 1, 1, 1, 1, 1, 1, 1, 1, 1, 1, 1, 1, 1, 1, 1, 1, 1, 1, 1, 1, 1, 1, 1, 1, 1, 1, 1, 1, 1, 1, 1, 1, 1, 1, 1, 1, 1, 1, 1, 1, 1, 1, 1, 1, 1, 1, 1, 1, 1, 1, 1, 1, 1, 1, 1, 1, 1, 1, 1, 1, 1, 1, 1, 1, 1, 1, 1, 1, 1, 1, 1, 1, 1, 1, 1, 1, 1, 1, 1, 1, 1, 1, 1, 1, 1, 1, 1, 1, 1, 1, 1, 1, 1, 1, 1, 1, 1, 1, 1, 1, 1, 1, 1, 1, 1, 1, 1, 1, 1, 1, 1, 1, 1, 1, 1, 1, 1, 1, 1, 1, 1, 1, 1, 1, 1, 1, 1, 1, 1, 1, 1, 1, 1, 1, 1, 1, 1, 1, 1, 1, 1, 1, 1, 1, 1, 1, 1, 1, 1, 1, 1, 1, 1, 1, 1, 1, 1, 1, 1, 1, 1, 1, 1, 1, 1, 1, 1, 1, 1, 1, 1, 1, 1, 1, 1, 1, 1, 1, 1, 1, 1, 1, 1, 1, 1, 1, 1, 1, 1, 1, 1, 1, 1, 1, 1, 1, 1, 1, 1, 1, 1, 1, 1, 1, 1, 1, 1, 1, 1, 1, 1, 1, 1, 1, 1, 1, 1, 1, 1, 1, 1, 1, 1, 1, 1, 1, 1, 1, 1, 1, 1, 1, 1, 1, 1, 1, 1, 1, 1, 1, 1, 1, 1, 1, 1, 1, 1, 1, 1, 1, 1, 1, 1, 1, 1, 1, 1, 1, 1, 1, 1, 1, 1, 1, 1, 1, 1, 1, 1, 1, 1, 1, 1, 1, 1, 1, 1, 1, 1, 1, 1, 1, 1, 1, 1, 1, 1, 1, 1, 1, 1, 1, 1, 1, 1, 1, 1, 1, 2, 2, 2, 2, 2, 2, 2, 2, 2, 2, 2, 2, 2, 2, 2, 2, 2, 2, 2, 2, 2, 2, 2, 2, 2, 2, 2, 2, 2, 2, 2, 2, 2, 2, 2, 2, 2, 2, 2, 2, 2, 2, 2, 2, 2, 2, 2, 2, 2, 2, 2, 2, 2, 2, 2, 2, 2, 2, 2, 2, 2, 2, 2, 2, 2, 2, 2, 2, 2, 2, 2, 2, 2, 2, 2, 2, 2, 2, 2, 2, 2, 2, 2, 2, 2, 2, 2, 2, 2, 2, 2, 2, 2, 2, 2, 2, 2, 2, 2, 2, 2, 2, 2, 2, 2, 2, 2, 2, 2, 2, 2, 2, 2, 2, 2, 2, 2, 2, 2, 2, 2, 2, 2, 2, 2, 2, 2, 2, 2, 2, 2, 2, 2, 2, 2, 2, 2, 2, 2, 2, 2, 2, 2, 2, 2, 2, 2, 2, 2, 2, 2, 2, 2, 2, 2, 2, 2, 2, 2, 2, 2, 2, 2, 2, 2, 2, 2, 2, 2, 2, 2, 2, 2, 2, 2, 2, 2, 2, 2, 2, 2, 2, 2, 2, 2, 2, 2, 2, 2, 2, 2, 2, 2, 2, 2, 2, 2, 2, 2, 2, 2, 2, 2, 2, 2, 2, 2, 2, 2, 2, 2, 2, 2, 2, 2, 2, 2, 2, 2, 2, 2, 2, 2, 2, 2, 2, 2, 2, 2, 2, 2, 2, 2, 2, 2, 2, 2, 2, 2, 2, 2, 2, 2, 2, 2, 2, 2, 2, 2, 2, 2, 2, 2, 2, 2, 2, 2, 2, 2, 2, 2, 2, 2, 2, 2, 2, 2, 2, 2, 2, 2, 2, 2, 2, 2, 2, 2, 2, 2, 2, 2, 2, 2, 2, 2, 2, 2, 2, 2, 2, 2, 2, 2, 2, 2, 2, 2, 2, 2, 2, 2, 2, 2, 2, 2, 2, 2, 2, 2, 2, 2, 2, 2, 2, 2, 2, 2, 2, 2, 2, 2, 2, 2, 2, 2, 2, 2, 2, 2, 2, 2, 2, 2, 2, 2, 2, 2, 2, 2, 2, 2, 2, 2, 2, 2, 2, 2, 2, 2, 2, 2, 2, 2, 2, 2, 2, 2, 2, 2, 2, 2, 2, 2, 2, 2, 2, 2, 2, 2, 2, 2, 2, 2, 2, 2, 2, 2, 2, 2, 2, 2, 2, 2, 2, 2, 2, 2, 2, 2, 2, 2, 2, 2, 2, 2, 2, 2, 2, 2, 2, 2, 2, 2, 2, 2, 2, 2, 2, 2, 2, 2, 2, 2, 2, 2, 2, 2, 2, 2, 2, 2, 2, 2, 2, 2, 2, 2, 2, 2, 2, 2, 2, 2, 2, 2, 2, 2, 2, 2, 2, 2, 2, 2, 2, 2, 2, 2, 2, 2, 2, 2, 2, 2, 2, 2, 2, 2, 2, 2, 2, 2, 2, 2, 2, 2, 2, 2, 2, 2, 2, 2, 2, 2, 2, 2, 2, 2, 2, 2, 2, 2, 2, 2, 2, 2, 2, 2, 2, 2, 2, 2, 2, 2, 2, 2, 2, 2, 2, 2, 2, 2, 2, 2, 2, 2, 2, 2, 2, 2, 2, 2, 2, 2, 2, 2, 2, 2, 2, 2, 2, 2, 2, 2, 2, 2, 2, 2, 2, 2, 2, 2, 2, 2, 2, 2, 2, 2, 2, 2, 2, 2, 2, 2, 2, 2, 2, 2, 2, 2, 2, 2, 2, 2, 2, 2, 2, 2, 2, 2, 2, 2, 2, 2, 2, 2, 2, 2, 2, 2, 2, 2, 2, 2, 2, 2, 2, 2, 2, 2, 2, 2, 2, 2, 2, 2, 2, 2, 2, 2, 2, 2, 2, 2, 2, 2, 2, 2, 2, 2, 2, 2, 2, 2, 2, 2, 2, 2, 2, 2, 2, 2, 2, 2, 2, 2, 2, 2, 2, 2, 2, 2, 2, 2, 2, 2, 2, 2, 2, 2, 2, 2, 2, 2, 2, 2, 2, 2, 2, 2, 2, 2, 2, 2, 2, 2, 2, 2, 2, 2, 2, 2, 2, 2, 2, 2, 2, 2, 2, 2, 2, 2, 2, 2, 2, 2, 2, 2, 2, 2, 2, 2, 2, 2, 2, 2, 2, 2, 2, 2, 2, 2, 2, 2, 2, 2, 2, 2, 2, 2, 2, 2, 2, 2, 2, 2, 2, 2, 2, 2, 2, 2, 2, 2, 2, 2, 2, 2, 2, 2, 2, 2, 2, 2, 2, 2, 2, 2, 2, 2, 2, 2, 2, 2, 2, 2, 2, 2, 2, 2, 2, 2, 2, 2, 2, 2, 2, 2, 2, 2, 2, 2, 2, 2, 2, 2, 2, 2, 2, 2, 2, 2, 2, 2, 2, 2, 2, 2, 2, 2, 2, 2, 2, 2, 2, 2, 2, 2, 2, 2, 2, 2, 2, 2, 2, 2, 2, 2, 2, 2, 2, 2, 2, 2, 2, 2, 2, 2, 2, 2, 2, 2, 2, 2, 2, 2, 2, 2, 2, 2, 2, 2, 2, 2, 2, 2, 2, 2, 2, 2, 2, 2, 2, 2, 2, 2, 2, 2, 2, 2, 2, 2, 2, 2, 2, 2, 2, 2, 2, 2, 2, 2, 2, 2, 2, 2, 2, 2, 2, 2, 2, 2, 2, 2, 2, 2, 2, 2, 2, 2, 2, 2, 2, 2, 2, 2, 2, 2, 2, 2, 2, 2, 2, 2, 2, 2, 2, 2, 2, 2, 2, 2, 2, 2, 2, 2, 2, 2, 2, 2, 2, 2, 2, 2, 2, 2, 2, 2, 2, 2, 2, 2, 2, 2, 2, 2, 2, 2, 2, 2, 2, 2, 2, 2, 2, 2, 2, 2, 2, 2, 2, 2, 2, 2, 2, 2, 2, 2, 2, 2, 2, 2, 2, 2, 2, 2, 2, 2, 2, 2, 2, 2, 2, 2, 2, 2, 2, 2, 2, 2, 2, 2, 2, 2, 2, 2, 2, 2, 2, 2, 2, 2, 2, 2, 2, 2, 2, 2, 2, 2, 2, 2, 2, 2, 2, 2, 2, 2, 2, 2, 2, 2, 2, 2, 2, 2, 2, 2, 2, 2, 2, 2, 2, 2, 2, 2, 2, 2, 2, 2, 2, 2, 2, 2, 2, 2, 2, 2, 2, 2, 2, 2, 2, 2, 2, 2, 2, 2, 2, 2, 2, 2, 2, 2, 2, 2, 2, 2, 2, 2, 2, 2, 2, 2, 2, 2, 2, 2, 2, 2, 2, 2, 2, 2, 2, 2, 2, 2, 2, 2, 2, 2, 2, 2, 2, 2, 2, 2, 2, 2, 2, 2, 2, 2, 2, 2, 2, 2, 2, 2, 2, 2, 2, 2, 2, 2, 2, 2, 2, 2, 2, 2, 2, 2, 2, 2, 2, 2, 2, 2, 2, 2, 2, 2, 2, 2, 2, 2, 2, 2, 2, 2, 2, 2, 2, 2, 2, 2, 2, 2, 2, 2, 2, 2, 2, 2, 2, 2, 2, 2, 2, 2, 2, 2, 2, 2, 2, 2, 2, 2, 2, 2, 2, 2, 2, 2, 2, 2, 2, 2, 2, 2, 2, 2, 2, 2, 2, 2, 2, 2, 2, 2, 2, 2, 2, 2, 2, 2, 2, 2, 2, 2, 2, 2, 2, 2, 2, 2, 2, 2, 2, 2, 2, 2, 2, 2, 2, 2, 2, 2, 2, 2, 2, 2, 2, 2, 2, 2, 2, 2, 2, 2, 2, 2, 2, 2, 2, 2, 2, 2, 2, 2, 2, 2, 2, 2, 2, 2, 2, 2, 2, 2, 2, 2, 2, 2, 2, 2, 2, 2, 2, 2, 2, 2, 2, 2, 2, 2, 2, 2, 2, 2, 2, 2, 2, 3, 3, 3, 3, 3, 3, 3, 3, 3, 3, 3, 3, 3, 3, 3, 3, 3, 3, 3, 3, 3, 3, 3, 3, 3, 3, 3, 3, 3, 3, 3, 3, 3, 3, 3, 3, 3, 3, 3, 3, 3, 3, 3, 3, 3, 3, 3, 3, 3, 3, 3, 3, 3, 3, 3, 3, 3, 3, 3, 3, 3, 3, 3, 3, 3, 3, 3, 3, 3, 3, 3, 3, 3, 3, 3, 3, 3, 3, 3, 3, 3, 3, 3, 3, 3, 3, 3, 3, 3, 3, 3, 3, 3, 3, 3, 3, 3, 3, 3, 3, 3, 3, 3, 3, 3, 3, 3, 3, 3, 3, 3, 3, 3, 3, 3, 3, 3, 3, 3, 3, 3, 3, 3, 3, 3, 3, 3, 3, 3, 3, 3, 3, 3, 3, 3, 3, 3, 3, 3, 3, 3, 3, 3, 3, 3, 3, 3, 3, 3, 3, 3, 3, 3, 3, 3, 3, 3, 3, 3, 3, 3, 3, 3, 3, 3, 3, 3, 3, 3, 3, 3, 3, 3, 3, 3, 3, 3, 3, 3, 3, 3, 3, 3, 3, 3, 3, 3, 3, 3, 3, 3, 3, 3, 3, 3, 3, 3, 3, 3, 3, 3, 3, 3, 3, 3, 3, 3, 3, 3, 3, 3, 3, 3, 3, 3, 3, 3, 3, 3, 3, 3, 3, 3, 3, 3, 3, 3, 3, 3, 3, 3, 3, 3, 3, 3, 3, 3, 3, 3, 3, 3, 3, 3, 3, 3, 3, 3, 3, 3, 3, 3, 3, 3, 3, 3, 3, 3, 3, 3, 3, 3, 3, 3, 3, 3, 3, 3, 3, 3, 3, 3, 3, 3, 3, 3, 3, 3, 3, 3, 3, 3, 3, 3, 3, 3, 3, 3, 3, 3, 3, 3, 3, 3, 3, 3, 3, 3, 3, 3, 3, 3, 3, 3, 3, 3, 3, 3, 3, 3, 3, 3, 3, 3, 3, 3, 3, 3, 3, 3, 3, 3, 3, 3, 3, 3, 3, 3, 3, 3, 3, 3, 3, 3, 3, 3, 3, 3, 3, 3, 3, 3, 3, 3, 3, 3, 3, 3, 3, 3, 3, 3, 3, 3, 3, 3, 3, 3, 3, 3, 3, 3, 3, 3, 3, 3, 3, 3, 3, 3, 3, 3, 3, 3, 3, 3, 3, 3, 3, 3, 3, 3, 3, 3, 3, 3, 3, 3, 3, 3, 3, 3, 3, 3, 3, 3, 3, 3, 3, 3, 3, 3, 3, 3, 3, 3, 3, 3, 3, 3, 3, 3, 3, 3, 3, 3, 3, 3, 3, 3, 3, 3, 3, 3, 3, 3, 3, 3, 3, 3, 3, 3, 3, 3, 3, 3, 3, 3, 3, 3, 3, 3, 3, 3, 3, 3, 3, 3, 3, 3, 3, 3, 3, 3, 3, 3, 3, 3, 3, 3, 3, 3, 3, 3, 3, 3, 3, 3, 3, 3, 3, 3, 3, 3, 3, 3, 3, 3, 3, 3, 3, 3, 3, 3, 3, 3, 3, 3, 3, 3, 3, 3, 3, 3, 3, 3, 3, 3, 3, 3, 3, 3, 3, 3, 3, 3, 3, 3, 3, 3, 3, 3, 3, 3, 3, 3, 3, 3, 3, 3, 3, 3, 3, 3, 3, 3, 3, 3, 3, 3, 3, 3, 3, 3, 3, 3, 3, 3, 3, 3, 3, 3, 3, 3, 3, 3, 3, 3, 3, 3, 3, 3, 3, 3, 3, 3, 3, 3, 3, 3, 3, 3, 3, 3, 3, 3, 3, 3, 3, 3, 3, 3, 3, 3, 3, 3, 3, 3, 3, 3, 3, 3, 3, 3, 3, 3, 3, 3, 3, 3, 3, 3, 3, 3, 3, 3, 3, 3, 3, 3, 3, 3, 3, 3, 3, 3, 3, 3, 3, 3, 3, 3, 3, 4, 4, 4, 4, 4, 4, 4, 4, 4, 4, 4, 4, 4, 4, 4, 4, 4, 4, 4, 4, 4, 4, 4, 4, 4, 4, 4, 4, 4, 4, 4, 4, 4, 4, 4, 4, 4, 4, 4, 4, 4, 4, 4, 4, 4, 4, 4, 4, 4, 4, 4, 4, 4, 4, 4, 4, 4, 4, 4, 4, 4, 4, 4, 4, 4, 4, 4, 4, 4, 4, 4, 4, 4, 4, 4, 4, 4, 4, 4, 4, 4, 4, 4, 4, 4, 4, 4, 4, 4, 4, 4, 4, 4, 4, 4, 4, 4, 4, 4, 4, 4, 4, 4, 4, 4, 4, 4, 4, 4, 4, 4, 4, 4, 4, 4, 4, 4, 4, 4, 4, 4, 4, 4, 4, 4, 4, 4, 4, 4, 4, 4, 4, 4, 4, 4, 4, 4, 4, 4, 4, 4, 4, 4, 4, 4, 4, 4, 4, 4, 4, 4, 4, 4, 4, 4, 4, 4, 4, 4, 4, 4, 4, 4, 4, 4, 4, 4, 4, 4, 4, 4, 4, 4, 4, 4, 4, 4, 4, 4, 4, 4, 4, 4, 4, 4, 4, 4, 4, 4, 4, 4, 4, 4, 4, 4, 4, 4, 4, 4, 4, 4, 4, 4, 4, 4, 4, 4, 4, 4, 4, 4, 4, 4, 4, 4, 4, 4, 4, 4, 4, 4, 4, 4, 4, 4, 4, 4, 4, 4, 4, 4, 4, 4, 4, 4, 4, 4, 4, 4, 4, 4, 4, 4, 4, 4, 4, 4, 4, 4, 4, 4, 4, 4, 4, 4, 4, 4, 4, 4, 4, 4, 4, 4, 4, 4, 4, 4, 4, 4, 4, 4, 4, 4, 4, 4, 4, 4, 4, 4, 4, 4, 4, 4, 4, 4, 4, 4, 4, 4, 4, 4, 4, 4, 4, 4, 4, 4, 4, 4, 4, 4, 4, 4, 4, 4, 4, 4, 4, 4, 4, 4, 4, 4, 4, 4, 4, 4, 4, 4, 4, 4, 4, 4, 4, 4, 4, 4, 4, 4, 4, 4, 4, 4, 4, 4, 4, 4, 4, 4, 4, 4, 4, 4, 4, 4, 4, 4, 4, 4, 4, 4, 4, 4, 4, 4, 4, 4, 4, 4, 4, 4, 4, 4, 4, 4, 4, 4, 4, 4, 4, 4, 4, 4, 4, 4, 4, 4, 4, 4, 4, 4, 4, 4, 4, 4, 4, 4, 4, 4, 4, 4, 4, 4, 4, 4, 4, 5, 5, 5, 5, 5, 5, 5, 5, 5, 5, 5, 5, 5, 5, 5, 5, 5, 5, 5, 5, 5, 5, 5, 5, 5, 5, 5, 5, 5, 5, 5, 5, 5, 5, 5, 5, 5, 5, 5, 5, 5, 5, 5, 5, 5, 5, 5, 5, 5, 5, 5, 5, 5, 5, 5, 5, 5, 5, 5, 5, 5, 5, 5, 5, 5, 5, 5, 5, 5, 5, 5, 5, 5, 5, 5, 5, 5, 5, 5, 5, 5, 5, 5, 5, 5, 5, 5, 5, 5, 5, 5, 5, 5, 5, 5, 5, 5, 5, 5, 5, 5, 5, 5, 5, 5, 5, 5, 5, 5, 5, 5, 5, 5, 5, 5, 5, 5, 5, 5, 5, 5, 5, 5, 5, 5, 5, 5, 5, 5, 5, 5, 5, 5, 5, 5, 5, 5, 5, 5, 5, 5, 5, 5, 5, 5, 5, 5, 5, 5, 5, 5, 5, 5, 5, 5, 5, 5, 5, 5, 5, 5, 5, 5, 5, 5, 5, 5, 5, 5, 5, 5, 5, 5, 5, 5, 5, 5, 5, 5, 5, 5, 5, 5, 5, 5, 5, 5, 5, 5, 5, 5, 5, 5, 5, 5, 5, 5, 5, 5, 5, 5, 5, 5, 5, 5, 5, 5, 5, 5, 5, 5, 5, 5, 5, 5, 5, 5, 5, 5, 5, 5, 5, 5, 5, 5, 5, 5, 5, 5, 5, 5, 5, 5, 5, 5, 5, 5, 5, 5, 5, 5, 5, 5, 6, 6, 6, 6, 6, 6, 6, 6, 6, 6, 6, 6, 6, 6, 6, 6, 6, 6, 6, 6, 6, 6, 6, 6, 6, 6, 6, 6, 6, 6, 6, 6, 6, 6, 6, 6, 6, 6, 6, 6, 6, 6, 6, 6, 6, 6, 6, 6, 6, 6, 6, 6, 6, 6, 6, 6, 6, 6, 6, 6, 6, 6, 6, 6, 6, 6, 6, 6, 6, 6, 6, 6, 6, 6, 6, 6, 6, 6, 6, 6, 6, 6, 6, 6, 6, 6, 6, 6, 6, 6, 6, 6, 6, 6, 6, 6, 6, 6, 6, 6, 6, 6, 6, 6, 6, 6, 6, 6, 6, 6, 6, 6, 6, 6, 6, 6, 6, 6, 6, 6, 6, 6, 6, 6, 6, 6, 6, 6, 6, 6, 6, 6, 6, 6, 6, 6, 6, 6, 6, 6, 6, 6, 6, 6, 6, 6, 6, 6, 6, 6, 6, 6, 6, 6, 6, 6, 6, 6, 6, 6, 6, 6, 6, 6, 6, 6, 6, 6, 6, 6, 6, 6, 6, 6, 6, 6, 6, 6, 6, 6, 6, 6, 6, 6, 6, 6, 6, 6, 6, 6, 6, 6, 6, 6, 6, 6, 7, 7, 7, 7, 7, 7, 7, 7, 7, 7, 7, 7, 7, 7, 7, 7, 7, 7, 7, 7, 7, 7, 7, 7, 7, 7, 7, 7, 7, 7, 7, 7, 7, 7, 7, 7, 7, 7, 7, 7, 7, 7, 7, 7, 7, 7, 7, 7, 7, 7, 7, 7, 7, 7, 7, 7, 7, 7, 7, 7, 7, 7, 7, 7, 7, 7, 7, 7, 7, 7, 7, 7, 7, 7, 7, 7, 7, 7, 7, 7, 7, 7, 7, 7, 7, 7, 7, 7, 7, 7, 7, 7, 7, 7, 7, 7, 7, 7, 7, 7, 7, 7, 7, 7, 7, 7, 7, 7, 7, 7, 7, 7, 7, 7, 7, 7, 7, 7, 7, 7, 7, 7, 7, 7, 7, 7, 7, 7, 7, 7, 8, 8, 8, 8, 8, 8, 8, 8, 8, 8, 8, 8, 8, 8, 8, 8, 8, 8, 8, 8, 8, 8, 8, 8, 8, 8, 8, 8, 8, 8, 8, 8, 8, 8, 8, 8, 8, 8, 8, 8, 8, 8, 8, 8, 8, 8, 8, 8, 8, 8, 8, 8, 8, 8, 8, 8, 8, 8, 8, 8, 8, 8, 8, 8, 8, 8, 8, 8, 8, 8, 8, 8, 8, 8, 8, 8, 8, 8, 8, 8, 8, 8, 8, 8, 8, 8, 8, 8, 8, 8, 8, 8, 8, 8, 8, 8, 8, 8, 8, 8, 8, 8, 8, 8, 8, 8, 8, 8, 8, 8, 8, 8, 8, 8, 8, 8, 8, 9, 9, 9, 9, 9, 9, 9, 9, 9, 9, 9, 9, 9, 9, 9, 9, 9, 9, 9, 9, 9, 9, 9, 9, 9, 9, 9, 9, 9, 9, 9, 9, 9, 9, 9, 9, 9, 9, 9, 9, 9, 9, 9, 9, 9, 9, 9, 9, 9, 9, 9, 9, 9, 9, 9, 9, 9, 9, 9, 9, 9, 9, 9, 9, 9, 9, 9, 9, 9, 9, 9, 9, 9, 9, 9, 9, 9, 9, 9, 9, 9, 9, 9, 9, 9, 9, 9, 9, 9, 9, 9, 9, 9, 9, 10, 10, 10, 10, 10, 10, 10, 10, 10, 10, 10, 10, 10, 10, 10, 10, 10, 10, 10, 10, 10, 10, 10, 10, 10, 10, 10, 10, 10, 10, 10, 10, 10, 10, 10, 10, 10, 10, 10, 10, 10, 10, 10, 10, 10, 10, 10, 10, 10, 10, 10, 10, 10, 10, 10, 10, 10, 10, 10, 10, 10, 10, 11, 11, 11, 11, 11, 11, 11, 11, 11, 11, 11, 11, 11, 11, 11, 11, 11, 11, 11, 11, 11, 11, 11, 11, 11, 11, 11, 11, 11, 11, 11, 11, 11, 11, 11, 11, 11, 11, 11, 11, 11, 11, 11, 11, 11, 11, 11, 11, 11, 11, 11, 11, 11, 11, 11, 11, 11, 11, 11, 11, 11, 11, 11, 11, 11, 11, 11, 12, 12, 12, 12, 12, 12, 12, 12, 12, 12, 12, 12, 12, 12, 12, 12, 12, 12, 12, 12, 12, 12, 12, 12, 12, 12, 12, 12, 12, 12, 12, 12, 12, 12, 12, 12, 12, 12, 12, 12, 12, 12, 12, 12, 12, 12, 12, 12, 12, 12, 12, 12, 12, 12, 12, 12, 12, 12, 12, 12, 12, 12, 13, 13, 13, 13, 13, 13, 13, 13, 13, 13, 13, 13, 13, 13, 13, 13, 13, 13, 13, 13, 13, 13, 13, 13, 13, 13, 13, 13, 13, 13, 13, 13, 13, 13, 13, 13, 13, 13, 13, 13, 13, 13, 13, 13, 13, 13, 13, 13, 13, 13, 13, 13, 14, 14, 14, 14, 14, 14, 14, 14, 14, 14, 14, 14, 14, 14, 14, 14, 14, 14, 14, 14, 14, 14, 14, 14, 14, 14, 14, 14, 14, 14, 15, 15, 15, 15, 15, 15, 15, 15, 15, 15, 15, 15, 15, 15, 15, 15, 15, 15, 15, 15, 15, 15, 15, 15, 15, 15, 15, 15, 15, 15, 15, 15, 15, 15, 15, 16, 16, 16, 16, 16, 16, 16, 16, 16, 16, 16, 16, 16, 16, 16, 16, 16, 16, 16, 16, 16, 16, 16, 16, 16, 16, 16, 16, 16, 16, 16, 16, 17, 17, 17, 17, 17, 17, 17, 17, 17, 17, 17, 17, 17, 17, 17, 17, 17, 17, 17, 17, 17, 17, 17, 17, 17, 17, 17, 17, 18, 18, 18, 18, 18, 18, 18, 18, 18, 18, 18, 18, 18, 18, 18, 18, 18, 18, 18, 18, 19, 19, 19, 19, 19, 19, 19, 19, 19, 19, 19, 19, 19, 19, 19, 19, 19, 19, 19, 19, 20, 20, 20, 20, 20, 20, 20, 20, 20, 20, 20, 20, 20, 20, 20, 20, 20, 20, 20, 20, 20, 20, 20, 21, 21, 21, 21, 21, 21, 21, 21, 21, 21, 21, 21, 22, 22, 22, 22, 22, 22, 22, 22, 22, 22, 22, 22, 22, 22, 23, 23, 23, 23, 23, 23, 23, 23, 23, 23, 23, 23, 23, 23, 24, 24, 24, 24, 24, 24, 24, 24, 24, 24, 25, 25, 25, 25, 25, 25, 25, 26, 26, 26, 26, 26, 26, 26, 26, 26, 26, 26, 26, 27, 27, 27, 27, 27, 27, 27, 27, 27, 27, 27, 27, 28, 28, 28, 28, 28, 28, 28, 28, 29, 29, 29, 29, 29, 29, 29, 29, 29, 30, 30, 30, 30, 30, 30, 30, 30, 30, 30, 31, 31, 31, 31, 31, 31, 31, 31, 31, 32, 32, 32, 32, 32, 32, 32, 32, 32, 32, 32, 33, 33, 33, 34, 34, 34, 34, 34, 34, 34, 34, 35, 35, 35, 35, 35, 35, 35, 35, 35, 35, 35, 36, 36, 36, 37, 37, 37, 37, 37, 37, 37, 38, 38, 38, 38, 38, 39, 39, 39, 39, 40, 40, 40, 41, 41, 41, 42, 42, 42, 42, 42, 42, 42, 43, 43, 43, 44, 44, 44, 44, 45, 45, 45, 45, 45, 45, 45, 46, 47, 48, 49, 49, 50, 50, 50, 50, 50, 51, 51, 51, 51, 51, 52, 52, 52, 52, 53, 53, 54, 54, 55, 55, 55, 56, 57, 58, 58, 59, 59, 59, 60, 60, 62, 62, 63, 63, 64, 64, 64, 64, 65, 66, 67, 67, 67, 68, 70, 70, 71, 71, 71, 72, 72, 73, 73, 73, 74, 74, 76, 77, 77, 78, 79, 80, 80, 80, 80, 81, 85, 86, 86, 86, 89, 90, 91, 96, 98, 100, 105, 107, 108, 110, 114, 117, 119, 120, 126, 126, 127, 129, 130, 131, 136, 138, 138, 142, 144, 146, 149, 150, 151, 156, 156, 156, 159, 165, 166, 167, 173, 175, 176, 177, 178, 178, 178, 184, 193, 195, 202, 214, 227, 235, 243, 245, 247, 259, 276, 285, 288, 291, 295, 297, 301, 325, 331, 336, 371, 381, 390, 417, 474, 515, 540, 548, 554, 564, 587, 603, 609, 623, 626, 700, 972, 1349, 1373, 1402, 1593, 1641, 1890, 2118, 2170, 2292, 3178, 3551]\n"
     ]
    }
   ],
   "source": [
    "# IDENTIFICAR STOPWORDS EN EL TEXTO:\n",
    "\n",
    "corpus=[]\n",
    "new = data['sentences'].str.split()\n",
    "new = new.values.tolist()\n",
    "corpus=[word for i in new for word in i]\n",
    "\n",
    "dic=defaultdict(int)\n",
    "for word in corpus:\n",
    "    dic[''.join(noPuntuacion(word))]+=1\n",
    "\n",
    "print(dic)\n",
    "\n",
    "mean_frequency = sum(dic.values()) / len(dic)\n",
    "print(mean_frequency)\n",
    "\n",
    "values = sorted(dic.values())\n",
    "n = len(values)\n",
    "if n % 2 == 0:\n",
    "    median_frequency = (values[n//2 - 1] + values[n//2]) / 2.0\n",
    "else:\n",
    "    median_frequency = values[n//2]\n",
    "\n",
    "print(median_frequency)\n",
    "print(sorted(dic.values()))"
   ]
  },
  {
   "attachments": {},
   "cell_type": "markdown",
   "metadata": {},
   "source": [
    "## Normalización"
   ]
  },
  {
   "cell_type": "markdown",
   "metadata": {},
   "source": [
    "Función para quitar los signos de puntación y poner todo en minúsculas, además de poner el texto en una lista."
   ]
  },
  {
   "cell_type": "code",
   "execution_count": 75,
   "metadata": {},
   "outputs": [],
   "source": [
    "def noPuntuacion(text): return re.findall(r'[a-zA-ZñÑáéíóúÁÉÍÓÚüÜ]+', text.lower())"
   ]
  },
  {
   "cell_type": "markdown",
   "metadata": {},
   "source": [
    "Separaremos cada entrada del presidente en oraciones y creamos una lista de lista con cada oracion tokenizada."
   ]
  },
  {
   "cell_type": "code",
   "execution_count": null,
   "metadata": {},
   "outputs": [],
   "source": [
    "texto = []\n",
    "sentence = str()\n",
    "\n",
    "with open(\"train.txt\", \"r\", encoding='utf-8') as f:\n",
    "\n",
    "    for i,line in enumerate(f) :\n",
    "\n",
    "        for word in line :\n",
    "\n",
    "            if word == '.' :\n",
    "\n",
    "                texto.append(noPuntuacion(sentence))\n",
    "                sentence = str()\n",
    "\n",
    "            else :\n",
    "\n",
    "                sentence += word"
   ]
  },
  {
   "cell_type": "markdown",
   "metadata": {},
   "source": [
    "# Libreta 3"
   ]
  },
  {
   "cell_type": "markdown",
   "metadata": {},
   "source": [
    "## Entrenamiento del modelo"
   ]
  },
  {
   "cell_type": "code",
   "execution_count": null,
   "metadata": {},
   "outputs": [],
   "source": [
    "textoPruebas = [[\"Ya\", \"nada\", \"más\", \"es\", \"como\", \"lo\", \"de\", \"Oaxaca\"],\n",
    "                [\"como\", \"lo\", \"de\", \"los\", \"caminos\", \"de\", \"Oaxaca\"], \n",
    "                [\"vamos\", \"a\", \"buscar\", \"el\", \"mecanismo\", \"entregarle\", \"los\", \"fondos\"],\n",
    "                [\"y\", \"que\", \"decidan\", \"democráticamente\", \"qué\", \"caminos\", \"construir\"]]"
   ]
  },
  {
   "cell_type": "markdown",
   "metadata": {},
   "source": [
    "Ya que tenemos una lista de listas con todas las palabras tokenizadas, debemos de crear un n-grama de entrenamiento y el vocabulario.\n",
    "\n",
    "- Creamos el n-grama de entranamiento\n",
    "\n",
    "    - Primero acolchonamos las oraciones. Esto es poner uno o mas simbolos como inicio (\\<s>) y otro como fin (<\\s>) de oracion. Este acolchonamiento en la paqueteria de nltk es simetrico, esto es pone el mismo numero de simbolos al inicio como al final. La salida sera una lista de listas pero acolchonada\n",
    "    - Segundo convertir a un n-grama. Con la salida del paso anterior crearemos nuestro unigrama, bigrama, trigrama, etc. Para hacer el modelo mas robusto se pueden hacer n,(n-1),..,.1-gramas, esto es, si tenemos que el n-grama maximo que queremos es un trigrama, tambien podemos hacer bigramas y unigramas. La salida sera una lista de lista con el/los n-grama(s).\n",
    "\n",
    "- Creamos el vocabulario\n",
    "\n",
    "    - A la lista de listas acolchonada que hicimos en la creacion del n-grama simplemente la aplanamos, esto es, pasamos de una lista de listas a solo una lista donde tendremos todas las palabras de nuestro texto tokenizadas. La salida sera una lista acolchonada con las palabras tokenizadas.\n",
    "\n",
    "Para suerte de nosotros la paqueteria nltk ya tiene una funcion para realizar todo esto : \n",
    "\n",
    "**padded_everygram_pipeline(order, text)**\n",
    "\n",
    "Esta funcion recibe dos parametros, *order* y *text*. \n",
    "- Text es la lista de listas tokenizadas.\n",
    "- Order es el order del n-grama maximo, ya que esta funcion nos devuelve n,(n-1),..,.1-gramas. Ademas es el numero de acolchonamiento que tendran los n-gramas.\n"
   ]
  },
  {
   "cell_type": "markdown",
   "metadata": {},
   "source": [
    "### Modelo 1 : Unigramas"
   ]
  },
  {
   "cell_type": "markdown",
   "metadata": {},
   "source": [
    "Dicho lo anterior entonces para un Unigrama *order = 1*"
   ]
  },
  {
   "cell_type": "code",
   "execution_count": null,
   "metadata": {},
   "outputs": [],
   "source": [
    "nModel1 = 1\n",
    "trainDataModel1, paddedVocabModel1 = padded_everygram_pipeline(nModel1, textoPruebas)"
   ]
  },
  {
   "cell_type": "markdown",
   "metadata": {},
   "source": [
    "Para entrenar el modelo usaremos el estimador maximo de posibilidad, MLE por sus siglas en ingles (Maximum Likelihood Estimator)."
   ]
  },
  {
   "cell_type": "code",
   "execution_count": null,
   "metadata": {},
   "outputs": [],
   "source": [
    "model1 = MLE(nModel1) # Donde 1 dice el n-grama maximo "
   ]
  },
  {
   "cell_type": "markdown",
   "metadata": {},
   "source": [
    "Esto crea un vocabulario vacio."
   ]
  },
  {
   "cell_type": "code",
   "execution_count": null,
   "metadata": {},
   "outputs": [
    {
     "data": {
      "text/plain": [
       "0"
      ]
     },
     "metadata": {},
     "output_type": "display_data"
    }
   ],
   "source": [
    "len(model1.vocab)"
   ]
  },
  {
   "cell_type": "markdown",
   "metadata": {},
   "source": [
    "Ahora llenamos el modelo. La longitud del vocabulario seria la cantidad de palabras sin repetir mas el token \\<UNK>, el cual es el token para identificar las palabras desconocidas."
   ]
  },
  {
   "cell_type": "code",
   "execution_count": null,
   "metadata": {},
   "outputs": [
    {
     "name": "stdout",
     "output_type": "stream",
     "text": [
      "<Vocabulary with cutoff=1 unk_label='<UNK>' and 24 items>\n",
      "24\n"
     ]
    }
   ],
   "source": [
    "model1.fit(trainDataModel1, paddedVocabModel1)\n",
    "print(model1.vocab)\n",
    "print(len(model1.vocab))"
   ]
  },
  {
   "cell_type": "markdown",
   "metadata": {},
   "source": [
    "Ya con nuestro modelo entranado podremos ver cuales palabras de un texto estan en nuestro vocabulario."
   ]
  },
  {
   "cell_type": "code",
   "execution_count": null,
   "metadata": {},
   "outputs": [
    {
     "name": "stdout",
     "output_type": "stream",
     "text": [
      "('Ya', 'nada', 'más', 'es', 'como', 'lo', 'de', 'Oaxaca')\n",
      "('<UNK>', '<UNK>', '<UNK>', 'fondos')\n"
     ]
    }
   ],
   "source": [
    "print(model1.vocab.lookup(textoPruebas[0]))\n",
    "\n",
    "print(model1.vocab.lookup([\"serendipia\", \"snickers\", \"Universo\", \"fondos\"]))"
   ]
  },
  {
   "cell_type": "markdown",
   "metadata": {},
   "source": [
    "Los modelos de n-gramas al final se reduce a contar los n-gramas del corpus de entranamiento. Para saber que tan probable son las palabras en un contexto particular."
   ]
  },
  {
   "cell_type": "code",
   "execution_count": null,
   "metadata": {},
   "outputs": [
    {
     "name": "stdout",
     "output_type": "stream",
     "text": [
      "Numero de veces que aparece el unigrama 'los' en el texto : 2\n",
      "Numero de veces que aparece el unigrama 'Oaxaca' en el texto : 2\n"
     ]
    }
   ],
   "source": [
    "print(\"Numero de veces que aparece el unigrama 'los' en el texto : \" + str(model1.counts['los']))\n",
    "print(\"Numero de veces que aparece el unigrama 'Oaxaca' en el texto : \" + str(model1.counts['Oaxaca']))"
   ]
  },
  {
   "cell_type": "markdown",
   "metadata": {},
   "source": [
    "Ademas de contar el numero de veces que aparece el unigrama podemos obtener la frecuencia relativa y el logaritmo de la frecuencia relativa, esta ultima es importante cuando tenemos un corpus muy grande ya que la frecuencia se vuelve demasiado pequenia y podemos caer en underflow."
   ]
  },
  {
   "cell_type": "code",
   "execution_count": null,
   "metadata": {},
   "outputs": [
    {
     "name": "stdout",
     "output_type": "stream",
     "text": [
      "Frecuencia relativa de la palabra 'el' :0.03333333333333333\n",
      "Logaritmo de la frecuencia relativa de la palabra 'el' :-4.906890595608519\n",
      "Frecuencia relativa de una palabra fuera de vocabulario :0.0\n",
      "Logaritmo de la frecuencia relativa de una palabra fuera de vocabulario :-inf\n"
     ]
    }
   ],
   "source": [
    "print(\"Frecuencia relativa de la palabra 'el' :\" + str(model1.score('el')))\n",
    "print(\"Logaritmo de la frecuencia relativa de la palabra 'el' :\" + str(model1.logscore('el')))\n",
    "print(\"Frecuencia relativa de una palabra fuera de vocabulario :\" + str(model1.score('rl')))\n",
    "print(\"Logaritmo de la frecuencia relativa de una palabra fuera de vocabulario :\" + str(model1.logscore('rl')))"
   ]
  },
  {
   "cell_type": "markdown",
   "metadata": {},
   "source": [
    "Como es un unigrama no podemos calcular la posibilidad de que una palabra prosiga a otra, como se ve en el siguiente ejemplo."
   ]
  },
  {
   "cell_type": "code",
   "execution_count": null,
   "metadata": {},
   "outputs": [
    {
     "name": "stdout",
     "output_type": "stream",
     "text": [
      "0\n"
     ]
    }
   ],
   "source": [
    "print(model1.score(\"los\", [\"fondos\"]))"
   ]
  },
  {
   "cell_type": "markdown",
   "metadata": {},
   "source": [
    "### Modelo 2 : Bigramas"
   ]
  },
  {
   "cell_type": "markdown",
   "metadata": {},
   "source": [
    "Para este modelo hacemos practicamente lo mismo que el modelo1, ahora el n-grama maximo sera 2."
   ]
  },
  {
   "cell_type": "code",
   "execution_count": null,
   "metadata": {},
   "outputs": [
    {
     "name": "stdout",
     "output_type": "stream",
     "text": [
      "<Vocabulary with cutoff=1 unk_label='<UNK>' and 26 items>\n",
      "26\n"
     ]
    }
   ],
   "source": [
    "nModel2 = 2\n",
    "trainDataModel2, paddedVocabModel2 = padded_everygram_pipeline(nModel2, textoPruebas)\n",
    "model2 = MLE(nModel2)\n",
    "model2.fit(trainDataModel2, paddedVocabModel2)\n",
    "print(model2.vocab)\n",
    "print(len(model2.vocab))"
   ]
  },
  {
   "cell_type": "markdown",
   "metadata": {},
   "source": [
    "Ahora podremos buscar tanto unigramas como bigramas."
   ]
  },
  {
   "cell_type": "code",
   "execution_count": null,
   "metadata": {},
   "outputs": [
    {
     "name": "stdout",
     "output_type": "stream",
     "text": [
      "Numero de veces que aparece el unigrama 'los' en el texto : 2\n",
      "Numero de veces que aparece el unigrama 'Oaxaca' en el texto : 2\n",
      "Numero de veces que aparece el bigrama 'los fondos' en el texto : 1\n",
      "Numero de veces que aparece el bigrama 'de Oaxaca' en el texto : 2\n"
     ]
    }
   ],
   "source": [
    "print(\"Numero de veces que aparece el unigrama 'los' en el texto : \" + str(model2.counts['los']))\n",
    "print(\"Numero de veces que aparece el unigrama 'Oaxaca' en el texto : \" + str(model2.counts['Oaxaca']))\n",
    "print(\"Numero de veces que aparece el bigrama 'los fondos' en el texto : \" + str(model2.counts[['los']]['fondos']))\n",
    "print(\"Numero de veces que aparece el bigrama 'de Oaxaca' en el texto : \" + str(model2.counts[['de']]['Oaxaca']))"
   ]
  },
  {
   "cell_type": "markdown",
   "metadata": {},
   "source": [
    "Con bigramos ya podemos calcular la posibilidad de una palabra sea precedida de otra."
   ]
  },
  {
   "cell_type": "code",
   "execution_count": null,
   "metadata": {},
   "outputs": [
    {
     "name": "stdout",
     "output_type": "stream",
     "text": [
      "Posibilidad de 'los' de preceder de 'fondos' : 0.5\n",
      "Posibilidad de 'fondos' de preceder de 'los' : 0.0\n",
      "Logaritmo de la posibilidad de 'los' de preceder de 'fondos' : -1.0\n",
      "Logaritmo de la posibilidad de 'fondos' de preceder de 'los' : -inf\n"
     ]
    }
   ],
   "source": [
    "print(\"Posibilidad de 'los' de preceder de 'fondos' : \" + str(model2.score(\"fondos\", [\"los\"])))\n",
    "print(\"Posibilidad de 'fondos' de preceder de 'los' : \" + str(model2.score(\"los\", [\"fondos\"])))\n",
    "print(\"Logaritmo de la posibilidad de 'los' de preceder de 'fondos' : \" + str(model2.logscore(\"fondos\", [\"los\"])))\n",
    "print(\"Logaritmo de la posibilidad de 'fondos' de preceder de 'los' : \" + str(model2.logscore(\"los\", [\"fondos\"])))"
   ]
  },
  {
   "cell_type": "markdown",
   "metadata": {},
   "source": [
    "Ya que tenemos nuestro modelo entrenado con un corpus especifico que pasara al enfrentarlo con situaciones reales?. Nuestro corpus no tiene todas las palabras y suponiendo que si las tiene, el lenguaje evoluciona creando nuevas palabras, entonces cuando nuestro modelo de lenguaje se encuentre con estas nuevas palabras al estimar su posibilidad de preceder o de seguir en una oracion obtendremos cero, lo cual es muy problematico ya que la posibilidad de una oracion se calcula como el producto de las posibilidades de cada palabras en ella.\n",
    "\n",
    "En el modelo 1 y 2 usamos el estimador de maxima posibilidad, que esta dado por la siguiente ecuacion :\n",
    "\n",
    "$\n",
    "P(w_n | w_{n-N+1}^{n-1}) = \\frac{C(w_{n-N+1}^{n-1}W_n)}{C(w_{n-N+1}^{n-1})} \n",
    "$\n",
    "\n",
    "Donde N es el tipo de N-grama; $N=2$ es un bigrama, $w_1^n$ es la secuencia de palabras; $w_1^n = w_1w_2 \\cdots w_n$, C(s) es la frecuencia que aparece la oracion s en el corpus de entrenamiento. \n",
    "\n",
    "Entonces para evitar obtener $P(w|s) = 0$ cuando $w$ es una palabra nueva usamos una tecnica de suavizado. Existe varias de estas tecnicas, por ejemplo :\n",
    "\n",
    "1. Suavizado de Laplace\n",
    "2. suavizado de Good-Turing\n",
    "3. Interpolacion simple de Jelinek-Mercer \n",
    "4. Discontinuidad absoluta\n",
    "5. Suavizado de Kneser-Ney\n",
    "6. Suavizado de Katz\n"
   ]
  },
  {
   "cell_type": "markdown",
   "metadata": {},
   "source": [
    "### Modelo 3 : Suavizado de Laplace"
   ]
  },
  {
   "cell_type": "markdown",
   "metadata": {},
   "source": [
    "El suavizado de Laplace basicamente solo aniade un 1 a todas frecuencias de aparicion de una oracion para eliminar los 0's. Cambiando el calculo de la posibilidad a la siguiente ecuacion :\n",
    "\n",
    "$\n",
    "P(w_n | w_{n-N+1}^{n-1}) = \\frac{C(w_{n-N+1}^{n-1}W_n) + 1}{C(w_{n-N+1}^{n-1}) + V} \n",
    "$\n",
    "\n",
    "Donde V es el tamanio del vocabulario."
   ]
  },
  {
   "cell_type": "markdown",
   "metadata": {},
   "source": [
    "Para comparar con el modelo MLE usaremos el mismo tratamiento para obtener los datos de entrenamiento y vocabulario."
   ]
  },
  {
   "cell_type": "code",
   "execution_count": null,
   "metadata": {},
   "outputs": [
    {
     "name": "stdout",
     "output_type": "stream",
     "text": [
      "<Vocabulary with cutoff=1 unk_label='<UNK>' and 26 items>\n",
      "26\n"
     ]
    }
   ],
   "source": [
    "nModel3 = 2\n",
    "trainDataModel3, paddedVocabModel3 = padded_everygram_pipeline(nModel3, textoPruebas)\n",
    "model3 = Laplace(nModel3)\n",
    "model3.fit(trainDataModel3, paddedVocabModel3)\n",
    "print(model3.vocab)\n",
    "print(len(model3.vocab))"
   ]
  },
  {
   "cell_type": "code",
   "execution_count": null,
   "metadata": {},
   "outputs": [
    {
     "name": "stdout",
     "output_type": "stream",
     "text": [
      "P(los fondos) usando MLE : 0.5\n",
      "P(los fondos) usando Laplace : 0.07142857142857142\n",
      "P(fondos los) usando MLE : 0.0\n",
      "P(fondos los) usando Laplace : 0.037037037037037035\n"
     ]
    }
   ],
   "source": [
    "print(\"P(los fondos) usando MLE : \" + str(model2.score(\"fondos\", [\"los\"])))\n",
    "print(\"P(los fondos) usando Laplace : \" + str(model3.score(\"fondos\", [\"los\"])))\n",
    "print(\"P(fondos los) usando MLE : \" + str(model2.score(\"los\", [\"fondos\"])))\n",
    "print(\"P(fondos los) usando Laplace : \" + str(model3.score(\"los\", [\"fondos\"])))"
   ]
  },
  {
   "cell_type": "markdown",
   "metadata": {},
   "source": [
    "Donde vemos como la posibilidad se hace diferente de cero con el suavizado de Laplace."
   ]
  },
  {
   "cell_type": "markdown",
   "metadata": {},
   "source": [
    "### Modelo 4 : Escoger un suavizado de la libreria"
   ]
  },
  {
   "cell_type": "markdown",
   "metadata": {},
   "source": [
    "Escogeremos el suavizado de Kneser-Ney. De igual manera el vocabulario y datos de entrenamiento se obtendran como en los modelos anteriores para poderlos comparar.\n",
    "\n",
    "Esta suavizado esta dado por la siguiente ecuacion :\n",
    "\n",
    "\n",
    "$P(w_i | w_{i-1}) = \n",
    "    \\left\\lbrace\\begin{array}{c} \n",
    "        \\frac{max \\{C(w_{i-1}w_i) - D,0\\}}{C(w_{i-1})} \\hspace{0.5cm} \\text{si} \\hspace{0.5cm} C(w_{i-1}w_i) > 0  \\\\\n",
    "        \\alpha(w_{i-1})P(w_i) \\hspace{0.5cm} \\text{si} \\hspace{0.5cm} \\text{de otra manera}\n",
    "    \\end{array}\\right.\n",
    "$\n",
    "\n",
    "Con\n",
    "\n",
    "$\n",
    "P(w_i) = \\frac{C(\\bullet w_i)}{\\sum_{ w_i}C(\\bullet w_i)}\n",
    "$\n",
    "\n",
    "Y $C(\\bullet w_i)$ es el numero de palabras unicas que preceden $w_i$. Por otro lado $\\alpha(w_{i-1})$ es elegido para hacer la suma de la distribucion igual a 1 :\n",
    "\n",
    "$\n",
    "\\alpha(w_{i-1}) = \\frac{1 - \\sum_{w_i:C(w_{i_1}w_i)>0}\\frac{max\\{C(w_{i-1}w_i) - D,0\\}}{C(w_{i-1})}}{1 - \\sum_{w_i:C(w_{i_1}w_i)>0}P(w_i)}\n",
    "$\n",
    "\n",
    "En la ecuacion del suavizado tenemos $D$ que es un parametro que le da a la funcion, este se llama descuento y toma valores en el intervalo $[0,1]$.\n"
   ]
  },
  {
   "cell_type": "code",
   "execution_count": null,
   "metadata": {},
   "outputs": [
    {
     "name": "stdout",
     "output_type": "stream",
     "text": [
      "<Vocabulary with cutoff=1 unk_label='<UNK>' and 26 items>\n",
      "26\n"
     ]
    }
   ],
   "source": [
    "nModel4 = 2\n",
    "D = 0.0\n",
    "trainDataModel4, paddedVocabModel4 = padded_everygram_pipeline(nModel4, textoPruebas)\n",
    "model4 = KneserNeyInterpolated(nModel4, D)\n",
    "model4.fit(trainDataModel4, paddedVocabModel4)\n",
    "print(model4.vocab)\n",
    "print(len(model4.vocab))"
   ]
  },
  {
   "cell_type": "code",
   "execution_count": null,
   "metadata": {},
   "outputs": [
    {
     "name": "stdout",
     "output_type": "stream",
     "text": [
      "P(los fondos) usando MLE : 0.5\n",
      "P(los fondos) usando Laplace : 0.07142857142857142\n",
      "P(los fondos) usando Kneser-Ney : 0.5\n",
      "P(fondos los) usando MLE : 0.0\n",
      "P(fondos los) usando Laplace : 0.037037037037037035\n",
      "P(fondos los) usando Kneser-Ney : 0.0\n"
     ]
    }
   ],
   "source": [
    "print(\"P(los fondos) usando MLE : \" + str(model2.score(\"fondos\", [\"los\"])))\n",
    "print(\"P(los fondos) usando Laplace : \" + str(model3.score(\"fondos\", [\"los\"])))\n",
    "print(\"P(los fondos) usando Kneser-Ney : \" + str(model4.score(\"fondos\", [\"los\"])))\n",
    "print(\"P(fondos los) usando MLE : \" + str(model2.score(\"los\", [\"fondos\"])))\n",
    "print(\"P(fondos los) usando Laplace : \" + str(model3.score(\"los\", [\"fondos\"])))\n",
    "print(\"P(fondos los) usando Kneser-Ney : \" + str(model4.score(\"los\", [\"fondos\"])))"
   ]
  },
  {
   "cell_type": "markdown",
   "metadata": {},
   "source": [
    "De igual manera que con el suavizado de Laplace, eliminamos la posibilidad cero. Pero jugando con el valor de $D$ descubrimos que si $D=0$ nos vuelven los mismos resultados que con el modelo MLE. Ademas entre mas disminuya $D$ la posibilidad de una oracion que si estaba en el corpus de entrenamiento aumenta."
   ]
  },
  {
   "cell_type": "markdown",
   "metadata": {},
   "source": [
    "## Evaluacion intrinseca de modelos"
   ]
  },
  {
   "cell_type": "code",
   "execution_count": null,
   "metadata": {},
   "outputs": [],
   "source": []
  },
  {
   "cell_type": "markdown",
   "metadata": {},
   "source": [
    "## Generacion de texto"
   ]
  },
  {
   "cell_type": "markdown",
   "metadata": {},
   "source": [
    "## Conclusiones"
   ]
  }
 ],
 "metadata": {
  "kernelspec": {
   "display_name": "Python 3",
   "language": "python",
   "name": "python3"
  },
  "language_info": {
   "codemirror_mode": {
    "name": "ipython",
    "version": 3
   },
   "file_extension": ".py",
   "mimetype": "text/x-python",
   "name": "python",
   "nbconvert_exporter": "python",
   "pygments_lexer": "ipython3",
   "version": "3.9.7"
  },
  "vscode": {
   "interpreter": {
    "hash": "ca4ae65869d2cb0a1ce9a252154e55d284ddfed7dca74e9ec9cf70dfaaed74d1"
   }
  }
 },
 "nbformat": 4,
 "nbformat_minor": 2
}
