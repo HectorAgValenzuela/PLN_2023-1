{
 "cells": [
  {
   "attachments": {},
   "cell_type": "markdown",
   "metadata": {},
   "source": [
    "# Importaciones"
   ]
  },
  {
   "attachments": {},
   "cell_type": "markdown",
   "metadata": {},
   "source": [
    "* Importamos la librería pandas para manipular facilmente los archivos .cvs\n",
    "* Importamos la librería glob para leer los archivos .cvs facilmente"
   ]
  },
  {
   "cell_type": "code",
   "execution_count": 12,
   "metadata": {},
   "outputs": [],
   "source": [
    "import pandas as pd\n",
    "\n",
    "import glob"
   ]
  },
  {
   "attachments": {},
   "cell_type": "markdown",
   "metadata": {},
   "source": [
    "# Limpieza de los datos"
   ]
  },
  {
   "attachments": {},
   "cell_type": "markdown",
   "metadata": {},
   "source": [
    "\n",
    "En la siguiente linea de código se usa la función <code>glob</code> para generalizar las carpetas de el dataset para extraer todos los <code>.cvs</code> de el mes de enero"
   ]
  },
  {
   "cell_type": "code",
   "execution_count": 13,
   "metadata": {},
   "outputs": [],
   "source": [
    "csv_files = glob.glob('2022/1-2022/enero *, 2022/mananera_*_01_2022.csv')"
   ]
  },
  {
   "attachments": {},
   "cell_type": "markdown",
   "metadata": {},
   "source": [
    "Ahora que tenemos las rutas, iteramos sobre llas y guardamos todos los datos en una lista llamada <code>filelist</code>"
   ]
  },
  {
   "cell_type": "code",
   "execution_count": 14,
   "metadata": {},
   "outputs": [],
   "source": [
    "filelist = []\n",
    "for file in csv_files:\n",
    "    df = pd.read_csv(file)\n",
    "    filelist.append(df)"
   ]
  },
  {
   "cell_type": "code",
   "execution_count": 34,
   "metadata": {},
   "outputs": [
    {
     "data": {
      "text/plain": [
       "17"
      ]
     },
     "execution_count": 34,
     "metadata": {},
     "output_type": "execute_result"
    }
   ],
   "source": [
    "# TODO: Por alguna razón sólo toma 17 días del mes, habrá que revisar eso\n",
    "len(filelist)"
   ]
  },
  {
   "cell_type": "code",
   "execution_count": 53,
   "metadata": {},
   "outputs": [
    {
     "data": {
      "text/html": [
       "<div>\n",
       "<style scoped>\n",
       "    .dataframe tbody tr th:only-of-type {\n",
       "        vertical-align: middle;\n",
       "    }\n",
       "\n",
       "    .dataframe tbody tr th {\n",
       "        vertical-align: top;\n",
       "    }\n",
       "\n",
       "    .dataframe thead th {\n",
       "        text-align: right;\n",
       "    }\n",
       "</style>\n",
       "<table border=\"1\" class=\"dataframe\">\n",
       "  <thead>\n",
       "    <tr style=\"text-align: right;\">\n",
       "      <th></th>\n",
       "      <th>Participante</th>\n",
       "      <th>Texto</th>\n",
       "      <th>Sentimiento</th>\n",
       "      <th>Palabras</th>\n",
       "      <th>Dia</th>\n",
       "      <th>Mes</th>\n",
       "      <th>Anio</th>\n",
       "    </tr>\n",
       "  </thead>\n",
       "  <tbody>\n",
       "    <tr>\n",
       "      <th>0</th>\n",
       "      <td>PRESIDENTE ANDRES MANUEL LOPEZ OBRADOR</td>\n",
       "      <td>Muy buenos días. Bueno, pues como todos los l...</td>\n",
       "      <td>0.0</td>\n",
       "      <td>12</td>\n",
       "      <td>17</td>\n",
       "      <td>1</td>\n",
       "      <td>2022</td>\n",
       "    </tr>\n",
       "    <tr>\n",
       "      <th>1</th>\n",
       "      <td>PRESIDENTE ANDRES MANUEL LOPEZ OBRADOR</td>\n",
       "      <td>Ya salimos del contagio. Nos fue bien. Es demo...</td>\n",
       "      <td>0.0</td>\n",
       "      <td>87</td>\n",
       "      <td>17</td>\n",
       "      <td>1</td>\n",
       "      <td>2022</td>\n",
       "    </tr>\n",
       "    <tr>\n",
       "      <th>2</th>\n",
       "      <td>PRESIDENTE ANDRES MANUEL LOPEZ OBRADOR</td>\n",
       "      <td>Lo que ayuda mucho también es la vacuna, el va...</td>\n",
       "      <td>0.0</td>\n",
       "      <td>40</td>\n",
       "      <td>17</td>\n",
       "      <td>1</td>\n",
       "      <td>2022</td>\n",
       "    </tr>\n",
       "    <tr>\n",
       "      <th>3</th>\n",
       "      <td>PRESIDENTE ANDRES MANUEL LOPEZ OBRADOR</td>\n",
       "      <td>Le agradezco a toda la gente que estuvo pendie...</td>\n",
       "      <td>0.0</td>\n",
       "      <td>47</td>\n",
       "      <td>17</td>\n",
       "      <td>1</td>\n",
       "      <td>2022</td>\n",
       "    </tr>\n",
       "    <tr>\n",
       "      <th>4</th>\n",
       "      <td>PRESIDENTE ANDRES MANUEL LOPEZ OBRADOR</td>\n",
       "      <td>Agradecerles a todos por sus muestras de afect...</td>\n",
       "      <td>0.0</td>\n",
       "      <td>26</td>\n",
       "      <td>17</td>\n",
       "      <td>1</td>\n",
       "      <td>2022</td>\n",
       "    </tr>\n",
       "    <tr>\n",
       "      <th>...</th>\n",
       "      <td>...</td>\n",
       "      <td>...</td>\n",
       "      <td>...</td>\n",
       "      <td>...</td>\n",
       "      <td>...</td>\n",
       "      <td>...</td>\n",
       "      <td>...</td>\n",
       "    </tr>\n",
       "    <tr>\n",
       "      <th>314</th>\n",
       "      <td>PRESIDENTE ANDRES MANUEL LOPEZ OBRADOR</td>\n",
       "      <td>Yo creo que si hay medicamento suficiente no h...</td>\n",
       "      <td>0.0</td>\n",
       "      <td>16</td>\n",
       "      <td>17</td>\n",
       "      <td>1</td>\n",
       "      <td>2022</td>\n",
       "    </tr>\n",
       "    <tr>\n",
       "      <th>315</th>\n",
       "      <td>PRESIDENTE ANDRES MANUEL LOPEZ OBRADOR</td>\n",
       "      <td>Hemos logrado vacunar a todos, todos, todos, t...</td>\n",
       "      <td>0.0</td>\n",
       "      <td>22</td>\n",
       "      <td>17</td>\n",
       "      <td>1</td>\n",
       "      <td>2022</td>\n",
       "    </tr>\n",
       "    <tr>\n",
       "      <th>316</th>\n",
       "      <td>PRESIDENTE ANDRES MANUEL LOPEZ OBRADOR</td>\n",
       "      <td>Para eso la gente paga sus impuestos, para que...</td>\n",
       "      <td>0.0</td>\n",
       "      <td>69</td>\n",
       "      <td>17</td>\n",
       "      <td>1</td>\n",
       "      <td>2022</td>\n",
       "    </tr>\n",
       "    <tr>\n",
       "      <th>317</th>\n",
       "      <td>PRESIDENTE ANDRES MANUEL LOPEZ OBRADOR</td>\n",
       "      <td>Quedan pendientes las dos para mañana, sí, van...</td>\n",
       "      <td>0.0</td>\n",
       "      <td>11</td>\n",
       "      <td>17</td>\n",
       "      <td>1</td>\n",
       "      <td>2022</td>\n",
       "    </tr>\n",
       "    <tr>\n",
       "      <th>318</th>\n",
       "      <td>PRESIDENTE ANDRES MANUEL LOPEZ OBRADOR</td>\n",
       "      <td>Bueno, nos estamos viendo.</td>\n",
       "      <td>0.0</td>\n",
       "      <td>4</td>\n",
       "      <td>17</td>\n",
       "      <td>1</td>\n",
       "      <td>2022</td>\n",
       "    </tr>\n",
       "  </tbody>\n",
       "</table>\n",
       "<p>319 rows × 7 columns</p>\n",
       "</div>"
      ],
      "text/plain": [
       "                               Participante  \\\n",
       "0    PRESIDENTE ANDRES MANUEL LOPEZ OBRADOR   \n",
       "1    PRESIDENTE ANDRES MANUEL LOPEZ OBRADOR   \n",
       "2    PRESIDENTE ANDRES MANUEL LOPEZ OBRADOR   \n",
       "3    PRESIDENTE ANDRES MANUEL LOPEZ OBRADOR   \n",
       "4    PRESIDENTE ANDRES MANUEL LOPEZ OBRADOR   \n",
       "..                                      ...   \n",
       "314  PRESIDENTE ANDRES MANUEL LOPEZ OBRADOR   \n",
       "315  PRESIDENTE ANDRES MANUEL LOPEZ OBRADOR   \n",
       "316  PRESIDENTE ANDRES MANUEL LOPEZ OBRADOR   \n",
       "317  PRESIDENTE ANDRES MANUEL LOPEZ OBRADOR   \n",
       "318  PRESIDENTE ANDRES MANUEL LOPEZ OBRADOR   \n",
       "\n",
       "                                                 Texto  Sentimiento  Palabras  \\\n",
       "0     Muy buenos días. Bueno, pues como todos los l...          0.0        12   \n",
       "1    Ya salimos del contagio. Nos fue bien. Es demo...          0.0        87   \n",
       "2    Lo que ayuda mucho también es la vacuna, el va...          0.0        40   \n",
       "3    Le agradezco a toda la gente que estuvo pendie...          0.0        47   \n",
       "4    Agradecerles a todos por sus muestras de afect...          0.0        26   \n",
       "..                                                 ...          ...       ...   \n",
       "314  Yo creo que si hay medicamento suficiente no h...          0.0        16   \n",
       "315  Hemos logrado vacunar a todos, todos, todos, t...          0.0        22   \n",
       "316  Para eso la gente paga sus impuestos, para que...          0.0        69   \n",
       "317  Quedan pendientes las dos para mañana, sí, van...          0.0        11   \n",
       "318                         Bueno, nos estamos viendo.          0.0         4   \n",
       "\n",
       "     Dia  Mes  Anio  \n",
       "0     17    1  2022  \n",
       "1     17    1  2022  \n",
       "2     17    1  2022  \n",
       "3     17    1  2022  \n",
       "4     17    1  2022  \n",
       "..   ...  ...   ...  \n",
       "314   17    1  2022  \n",
       "315   17    1  2022  \n",
       "316   17    1  2022  \n",
       "317   17    1  2022  \n",
       "318   17    1  2022  \n",
       "\n",
       "[319 rows x 7 columns]"
      ]
     },
     "execution_count": 53,
     "metadata": {},
     "output_type": "execute_result"
    }
   ],
   "source": [
    "# Observamos uno de los dataframes de la lista\n",
    "filelist[1]"
   ]
  },
  {
   "attachments": {},
   "cell_type": "markdown",
   "metadata": {},
   "source": [
    "Ahora limpiamos columas que no nos sirven mediante ala función <code>drop()</code> de pandas"
   ]
  },
  {
   "cell_type": "code",
   "execution_count": 56,
   "metadata": {},
   "outputs": [],
   "source": [
    "filteredDf = []\n",
    "\n",
    "for i, df in enumerate(filelist):\n",
    "    filteredDf.append(df.drop(['Sentimiento', 'Palabras', 'Dia', 'Mes', 'Anio'], axis=1))"
   ]
  },
  {
   "attachments": {},
   "cell_type": "markdown",
   "metadata": {},
   "source": [
    "Observamos una de los dataframes para confirmar que las columnas se eliminaron"
   ]
  },
  {
   "cell_type": "code",
   "execution_count": 57,
   "metadata": {},
   "outputs": [
    {
     "data": {
      "text/html": [
       "<div>\n",
       "<style scoped>\n",
       "    .dataframe tbody tr th:only-of-type {\n",
       "        vertical-align: middle;\n",
       "    }\n",
       "\n",
       "    .dataframe tbody tr th {\n",
       "        vertical-align: top;\n",
       "    }\n",
       "\n",
       "    .dataframe thead th {\n",
       "        text-align: right;\n",
       "    }\n",
       "</style>\n",
       "<table border=\"1\" class=\"dataframe\">\n",
       "  <thead>\n",
       "    <tr style=\"text-align: right;\">\n",
       "      <th></th>\n",
       "      <th>Participante</th>\n",
       "      <th>Texto</th>\n",
       "    </tr>\n",
       "  </thead>\n",
       "  <tbody>\n",
       "    <tr>\n",
       "      <th>0</th>\n",
       "      <td>PRESIDENTE ANDRES MANUEL LOPEZ OBRADOR</td>\n",
       "      <td>Buenos días.</td>\n",
       "    </tr>\n",
       "    <tr>\n",
       "      <th>1</th>\n",
       "      <td>PRESIDENTE ANDRES MANUEL LOPEZ OBRADOR</td>\n",
       "      <td>Bueno, es viernes, estamos concluyendo la sema...</td>\n",
       "    </tr>\n",
       "    <tr>\n",
       "      <th>2</th>\n",
       "      <td>PRESIDENTE ANDRES MANUEL LOPEZ OBRADOR</td>\n",
       "      <td>¿Sí quedaron?</td>\n",
       "    </tr>\n",
       "    <tr>\n",
       "      <th>3</th>\n",
       "      <td>JESUS RAMIREZ CUEVAS</td>\n",
       "      <td>Ramón Flores.</td>\n",
       "    </tr>\n",
       "    <tr>\n",
       "      <th>4</th>\n",
       "      <td>PRESIDENTE ANDRES MANUEL LOPEZ OBRADOR</td>\n",
       "      <td>Ramón Flores.</td>\n",
       "    </tr>\n",
       "    <tr>\n",
       "      <th>...</th>\n",
       "      <td>...</td>\n",
       "      <td>...</td>\n",
       "    </tr>\n",
       "    <tr>\n",
       "      <th>283</th>\n",
       "      <td>PRESIDENTE ANDRES MANUEL LOPEZ OBRADOR</td>\n",
       "      <td>Entonces, cuando se declara la huelga de los t...</td>\n",
       "    </tr>\n",
       "    <tr>\n",
       "      <th>284</th>\n",
       "      <td>PRESIDENTE ANDRES MANUEL LOPEZ OBRADOR</td>\n",
       "      <td>Y los líderes que fueron aprehendidos, que muc...</td>\n",
       "    </tr>\n",
       "    <tr>\n",
       "      <th>285</th>\n",
       "      <td>PRESIDENTE ANDRES MANUEL LOPEZ OBRADOR</td>\n",
       "      <td>Entonces, los líderes del movimiento de Río Bl...</td>\n",
       "    </tr>\n",
       "    <tr>\n",
       "      <th>286</th>\n",
       "      <td>PRESIDENTE ANDRES MANUEL LOPEZ OBRADOR</td>\n",
       "      <td>Y, fíjense, Quintana Roo, que era una cárcel y...</td>\n",
       "    </tr>\n",
       "    <tr>\n",
       "      <th>287</th>\n",
       "      <td>PRESIDENTE ANDRES MANUEL LOPEZ OBRADOR</td>\n",
       "      <td>Pero bueno. Nos vemos entonces. Que la pasen m...</td>\n",
       "    </tr>\n",
       "  </tbody>\n",
       "</table>\n",
       "<p>288 rows × 2 columns</p>\n",
       "</div>"
      ],
      "text/plain": [
       "                               Participante  \\\n",
       "0    PRESIDENTE ANDRES MANUEL LOPEZ OBRADOR   \n",
       "1    PRESIDENTE ANDRES MANUEL LOPEZ OBRADOR   \n",
       "2    PRESIDENTE ANDRES MANUEL LOPEZ OBRADOR   \n",
       "3                      JESUS RAMIREZ CUEVAS   \n",
       "4    PRESIDENTE ANDRES MANUEL LOPEZ OBRADOR   \n",
       "..                                      ...   \n",
       "283  PRESIDENTE ANDRES MANUEL LOPEZ OBRADOR   \n",
       "284  PRESIDENTE ANDRES MANUEL LOPEZ OBRADOR   \n",
       "285  PRESIDENTE ANDRES MANUEL LOPEZ OBRADOR   \n",
       "286  PRESIDENTE ANDRES MANUEL LOPEZ OBRADOR   \n",
       "287  PRESIDENTE ANDRES MANUEL LOPEZ OBRADOR   \n",
       "\n",
       "                                                 Texto  \n",
       "0                                         Buenos días.  \n",
       "1    Bueno, es viernes, estamos concluyendo la sema...  \n",
       "2                                        ¿Sí quedaron?  \n",
       "3                                        Ramón Flores.  \n",
       "4                                        Ramón Flores.  \n",
       "..                                                 ...  \n",
       "283  Entonces, cuando se declara la huelga de los t...  \n",
       "284  Y los líderes que fueron aprehendidos, que muc...  \n",
       "285  Entonces, los líderes del movimiento de Río Bl...  \n",
       "286  Y, fíjense, Quintana Roo, que era una cárcel y...  \n",
       "287  Pero bueno. Nos vemos entonces. Que la pasen m...  \n",
       "\n",
       "[288 rows x 2 columns]"
      ]
     },
     "execution_count": 57,
     "metadata": {},
     "output_type": "execute_result"
    }
   ],
   "source": [
    "filteredDf[16]"
   ]
  }
 ],
 "metadata": {
  "kernelspec": {
   "display_name": "Python 3",
   "language": "python",
   "name": "python3"
  },
  "language_info": {
   "codemirror_mode": {
    "name": "ipython",
    "version": 3
   },
   "file_extension": ".py",
   "mimetype": "text/x-python",
   "name": "python",
   "nbconvert_exporter": "python",
   "pygments_lexer": "ipython3",
   "version": "3.11.2"
  },
  "orig_nbformat": 4,
  "vscode": {
   "interpreter": {
    "hash": "42fe2521991ce668210cff6e1c62959905284a5dc1077ee025bbb92f9d2c0e2e"
   }
  }
 },
 "nbformat": 4,
 "nbformat_minor": 2
}
