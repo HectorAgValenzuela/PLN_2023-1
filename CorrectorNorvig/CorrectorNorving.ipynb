{
 "cells": [
  {
   "attachments": {},
   "cell_type": "markdown",
   "metadata": {},
   "source": [
    "# Instrucciones"
   ]
  },
  {
   "attachments": {},
   "cell_type": "markdown",
   "metadata": {},
   "source": [
    "Considera el artículo de Peter Norvig https://norvig.com/spell-correct.html.  En una libreta de Jupyter, replica el artículo considerando lo siguiente:\n",
    "Adapta la función edits1, edits2 para sin considerar la opción de \"transpose\"\n",
    "Programa una tercera función edits3\n",
    "Justifica porqué las funciones edits1, edits2 nos regresan efectivamente las palabras a \"distancia\" 1 y 2 respectivamente de una palabra dada \n",
    "* Adapta todas las funciones edits para el caso del alfabeto en español\n",
    "* Prueba tu corrector con tu propio big.txt (no olvides poner la referencia)\n",
    "* Describe con tus palabras el significado de P(w|c) y P(c|w) ¿porqué es razonable considerar a P(w|c) como el error del modelo\n",
    "* A qué se refiere Norvig en el punto 4 por \"data on spelling errors\" ¿qué tiene qué ver eso con el error del modelo?\n",
    "* Explica el procedimiento de Norvig para evaluar el modelo\n",
    "* Escribe cuidadosamente tus conclusiones\n",
    "Al igual que antes, el líder del equipo tiene que entregar la libreta corrida y la exportación a html.  "
   ]
  },
  {
   "attachments": {},
   "cell_type": "markdown",
   "metadata": {},
   "source": [
    "# Código de Norvig\n",
    "Este código define un algoritmo de corrección de ortografía que utiliza la información estadística almacenada en el archivo \"big.txt\" para corregir palabras. Se basa en la idea de que las palabras que se usan con más frecuencia son más probablemente la ortografía correcta de una palabra."
   ]
  },
  {
   "attachments": {},
   "cell_type": "markdown",
   "metadata": {},
   "source": [
    "### Importaciones\n",
    "El código contiene dos importaciones:\n",
    "\n",
    "    \"re\" (de la librería \"regex\" o \"regular expressions\"): esta librería proporciona funciones para trabajar con expresiones regulares en Python. En este código se utiliza la función \"re.findall\" para buscar todas las palabras en un texto.\n",
    "\n",
    "    \"Counter\" de la librería \"collections\": esta librería proporciona una variedad de clases de contenedores para Python, incluido \"Counter\", que es una clase que se utiliza para contar objetos. En este código, se utiliza \"Counter\" para crear una lista de todas las palabras en un archivo de texto y contar la cantidad de veces que cada palabra aparece. La lista de palabras y sus conteos se guardan en la variable \"WORDS\"."
   ]
  },
  {
   "cell_type": "code",
   "execution_count": null,
   "metadata": {},
   "outputs": [],
   "source": [
    "import re\n",
    "from collections import Counter"
   ]
  },
  {
   "attachments": {},
   "cell_type": "markdown",
   "metadata": {},
   "source": [
    "### def words(text)\n",
    "La función \"words\" se utiliza para dividir un texto en una lista de palabras individuales. La función toma una cadena de texto como entrada y utiliza una expresión regular para buscar todas las palabras en el texto.\n",
    "\n",
    "La función \"re.findall\" se utiliza para buscar todas las ocurrencias de una expresión regular (patrón que se buscará) en una cadena de texto y devolverá una lista de ellas. Cada elemento de la lista es una cadena de texto que coincide con el patrón de la expresión regular. La función toma dos argumentos: la expresión regular y la cadena de texto donde se buscarán las ocurrencias. La expresión regular utilizada es r'\\w+'(abreviatura para \"[a-zA-Z0-9_]\"), se utiliza para buscar secuencias de uno o más caracteres alfanuméricos (letras y/o números).\n",
    "\n",
    "Una vez que se han encontrado todas las palabras en el texto, la función convierte todas las letras a minúsculas con el método \"lower()\" y devuelve una lista de las palabras encontradas. Esta lista de palabras es lo que se utiliza en el resto del programa para generar correcciones de ortografía y determinar la probabilidad de una palabra en particular.\n",
    "\n",
    "\n"
   ]
  },
  {
   "cell_type": "code",
   "execution_count": null,
   "metadata": {},
   "outputs": [],
   "source": [
    "def words(text): return re.findall(r'\\w+', text.lower())"
   ]
  },
  {
   "attachments": {},
   "cell_type": "markdown",
   "metadata": {},
   "source": [
    "### WORDS (contador)\n",
    "\"WORDS\" es un objeto de contador que almacena la frecuencia de cada palabra en el archivo big.txt.\n",
    "\n",
    "El contador \"WORDS\" es un objeto de la clase \"Counter\" de la biblioteca \"collections\" de Python. Es una estructura de datos que permite contar la frecuencia de elementos en una lista. En este caso, se utiliza para contar la frecuencia de palabras en el archivo \"big.txt\".\n",
    "\n",
    "Para construir el objeto \"WORDS\", se llama a la función \"words\" para obtener una lista de todas las palabras en el archivo \"big.txt\". Luego, se pasa esta lista a la función \"Counter\" para construir el objeto \"WORDS\". Después de esto, el objeto \"WORDS\" contiene un registro de la frecuencia de cada palabra en el archivo \"big.txt\".\n",
    "\n",
    "El objeto \"WORDS\" se utiliza en la función \"P\" para calcular la probabilidad de una palabra dada. Además, \"WORDS\" se utiliza en la función \"known\" para verificar si una palabra dada se encuentra en el diccionario de palabras almacenado en \"WORDS\"."
   ]
  },
  {
   "cell_type": "code",
   "execution_count": null,
   "metadata": {},
   "outputs": [],
   "source": [
    "WORDS = Counter(words(open('big.txt').read()))"
   ]
  },
  {
   "attachments": {},
   "cell_type": "markdown",
   "metadata": {},
   "source": [
    "### P (probabilidad)\n",
    "La función \"P\" calcula la probabilidad de una palabra dada. Utiliza la frecuencia de la palabra en el archivo big.txt, normalizada por el número total de palabras en el archivo.\n",
    "\n",
    "La función \"P\" se utiliza para calcular la probabilidad de una palabra dada en el archivo \"big.txt\". La probabilidad se calcula como la frecuencia de la palabra en el archivo \"big.txt\" dividida por el número total de palabras en el archivo.\n",
    "\n",
    "La función \"P\" tiene un parámetro obligatorio \"word\" que es la palabra para la cual se quiere calcular la probabilidad. También tiene un parámetro opcional \"N\" que representa el número total de palabras en el archivo \"big.txt\". Si no se proporciona un valor para \"N\", se utiliza el valor predeterminado que es la suma de las frecuencias de todas las palabras en el archivo \"big.txt\".\n",
    "\n",
    "La probabilidad se devuelve como un flotante, que representa la frecuencia de la palabra en el archivo \"big.txt\" en términos de una fracción. Por ejemplo, si la palabra \"hola\" aparece 1000 veces en un archivo de 10,000 palabras, la probabilidad de \"hola\" sería de 0.1 o 10%."
   ]
  },
  {
   "cell_type": "code",
   "execution_count": null,
   "metadata": {},
   "outputs": [],
   "source": [
    "def P(word, N=sum(WORDS.values())): \n",
    "    \"Probability of `word`.\"\n",
    "    return WORDS[word] / N"
   ]
  },
  {
   "attachments": {},
   "cell_type": "markdown",
   "metadata": {},
   "source": [
    "### Correction\n",
    "Devuelve la corrección más probable para una palabra dada. Lo hace generando un conjunto de palabras candidatas utilizando la función \"candidates\" y seleccionando la de mayor probabilidad, calculada por \"P\".\n",
    "\n",
    "La función \"correction\" es una función que se utiliza para corregir la ortografía de una palabra. La función toma una palabra como entrada y devuelve la corrección más probable de la ortografía de la palabra.\n",
    "\n",
    "La función \"correction\" hace uso de otras funciones definidas en el código para realizar su tarea. En primer lugar, llama a la función \"candidates\" para generar una lista de posibles correcciones de la ortografía de la palabra. La lista incluye la palabra original y cualquier otra palabra que pueda ser una corrección posible.\n",
    "\n",
    "Luego, la función \"correction\" utiliza la función \"P\" para calcular la probabilidad de cada palabra en la lista de candidatos. Finalmente, la función \"correction\" devuelve la palabra con la probabilidad más alta utilizando la función \"max\" y la función \"P\" como la clave para comparar las palabras.\n",
    "\n",
    "En resumen, la función \"correction\" es una función que utiliza un modelo de lenguaje basado en la frecuencia de palabras para corregir la ortografía de una palabra dada."
   ]
  },
  {
   "cell_type": "code",
   "execution_count": null,
   "metadata": {},
   "outputs": [],
   "source": [
    "def correction(word): \n",
    "    \"Most probable spelling correction for word.\"\n",
    "    return max(candidates(word), key=P)"
   ]
  },
  {
   "attachments": {},
   "cell_type": "markdown",
   "metadata": {},
   "source": [
    "### Candidates\n",
    "Genera un conjunto de palabras candidatas para una palabra dada llamando a \"known\", \"edits1\" y \"edits2\". \n",
    "\n",
    "La función \"candidates\" es una función que se utiliza para generar una lista de posibles correcciones de la ortografía de una palabra dada. La función toma una palabra como entrada y devuelve una lista de palabras que pueden ser posibles correcciones de la ortografía.\n",
    "\n",
    "La función \"candidates\" hace uso de otras funciones definidas en el código para generar la lista de candidatos. En primer lugar, la función llama a la función \"known\" con la palabra original como entrada. La función \"known\" verifica si la palabra original se encuentra en el diccionario de palabras y, si es así, la agrega a la lista de candidatos.\n",
    "\n",
    "Si la palabra original no se encuentra en el diccionario, la función \"candidates\" llama a la función \"edits1\" con la palabra original como entrada. La función \"edits1\" genera una lista de todas las ediciones que están a una edición de distancia de la palabra original. Luego, la función \"known\" se llama con esta lista de ediciones y agrega todas las palabras que se encuentran en el diccionario a la lista de candidatos.\n",
    "\n",
    "Si aún no se han encontrado palabras en el diccionario después de las ediciones de una distancia, la función \"candidates\" llama a la función \"edits2\" con la palabra original como entrada. La función \"edits2\" genera una lista de todas las ediciones que están a dos ediciones de distancia de la palabra original. Luego, la función \"known\" se llama con esta lista de ediciones y agrega todas las palabras que se encuentran en el diccionario a la lista de candidatos.\n",
    "\n",
    "Si después de todas estas ediciones aún no se han encontrado palabras en el diccionario, la función \"candidates\" devuelve la palabra original como única entrada en la lista de candidatos.\n",
    "\n",
    "En resumen, la función \"candidates\" es una función que utiliza un modelo de lenguaje basado en la frecuencia de palabras para generar una lista de posibles correcciones de la ortografía de una palabra dada."
   ]
  },
  {
   "cell_type": "code",
   "execution_count": null,
   "metadata": {},
   "outputs": [],
   "source": [
    "def candidates(word): \n",
    "    \"Generate possible spelling corrections for word.\"\n",
    "    return (known([word]) or known(edits1(word)) or known(edits2(word)) or [word])"
   ]
  },
  {
   "attachments": {},
   "cell_type": "markdown",
   "metadata": {},
   "source": [
    "### Known\n",
    "\"Known\" devuelve el subconjunto de palabras de una lista dada que aparecen en el diccionario de palabras almacenado en \"WORDS\". \n",
    "\n",
    "La función \"known\" se utiliza para buscar palabras conocidas en el diccionario de WORDS. Esta función toma una lista de palabras como argumento y devuelve un conjunto con aquellas palabras que aparecen en el diccionario de WORDS. La búsqueda se realiza usando una comprensión de listas, que es una forma concisa y eficiente de generar una nueva lista a partir de una secuencia existente.\n",
    "\n",
    "En la comprensión de listas, se itera sobre la secuencia y se seleccionan aquellos elementos que cumplen una determinada condición. En este caso, se itera sobre la lista de palabras y se seleccionan aquellas que están presentes en el diccionario de WORDS. Finalmente, se convierte el resultado en un conjunto para eliminar duplicados y se devuelve el resultado."
   ]
  },
  {
   "cell_type": "code",
   "execution_count": null,
   "metadata": {},
   "outputs": [],
   "source": [
    "def known(words): \n",
    "    \"The subset of `words` that appear in the dictionary of WORDS.\"\n",
    "    return set(w for w in words if w in WORDS)"
   ]
  },
  {
   "attachments": {},
   "cell_type": "markdown",
   "metadata": {},
   "source": [
    "### edits1\n",
    "\"Edits1\" genera un conjunto de palabras que están a una edición de distancia de la palabra original.\n",
    "\n",
    "La función \"edits1\" se utiliza para generar todas las correcciones posibles para una palabra que se encuentra a una distancia de edición de una sola operación. Esta función toma una palabra como argumento y devuelve un conjunto con todas las posibles correcciones.\n",
    "\n",
    "La función primero genera todas las divisiones posibles de la palabra en dos partes, la izquierda (L) y la derecha (R), utilizando una comprensión de listas. Luego, se realizan cuatro operaciones diferentes para generar las correcciones:\n",
    "\n",
    "    Borrado: Se crean nuevas palabras eliminando la primera letra de R.\n",
    "    Transposición: Se crean nuevas palabras intercambiando las posiciones de las dos primeras letras de R.\n",
    "    Reemplazo: Se crean nuevas palabras reemplazando cada letra de R con una letra diferente del alfabeto.\n",
    "    Inserción: Se crean nuevas palabras insertando una letra diferente del alfabeto en cada posición de R.\n",
    "\n",
    "Todas las correcciones generadas se agrupan en un conjunto para eliminar duplicados y se devuelve el resultado.\n",
    "\n"
   ]
  },
  {
   "cell_type": "code",
   "execution_count": 1,
   "metadata": {},
   "outputs": [],
   "source": [
    "def edits1(word):\n",
    "    \"All edits that are one edit away from `word`.\"\n",
    "    letters    = 'abcdefghijklmnopqrstuvwxyz'\n",
    "    splits     = [(word[:i], word[i:])    for i in range(len(word) + 1)]\n",
    "    deletes    = [L + R[1:]               for L, R in splits if R]\n",
    "    transposes = [L + R[1] + R[0] + R[2:] for L, R in splits if len(R)>1]\n",
    "    replaces   = [L + c + R[1:]           for L, R in splits if R for c in letters]\n",
    "    inserts    = [L + c + R               for L, R in splits for c in letters]\n",
    "    return set(deletes + transposes + replaces + inserts)"
   ]
  },
  {
   "attachments": {},
   "cell_type": "markdown",
   "metadata": {},
   "source": [
    "### edits 2\n",
    "\"edits2\" genera un conjunto de palabras que están a dos ediciones de distancia. Las ediciones incluyen la eliminación, la transposición, la sustitución y la inserción de caracteres.\n",
    "\n",
    "La función \"edits2\" se utiliza para generar todas las correcciones posibles para una palabra que se encuentran a una distancia de edición de dos operaciones. Esta función utiliza la función \"edits1\" para generar las correcciones a una distancia de edición de una sola operación, y luego aplica la función \"edits1\" a cada una de estas correcciones.\n",
    "\n",
    "En otras palabras, la función \"edits2\" toma cada palabra que se encuentra a una distancia de edición de una sola operación y genera todas las correcciones posibles a una distancia de edición de dos operaciones a partir de esa palabra. Finalmente, se agrupan todas las correcciones en una lista y se devuelve el resultado."
   ]
  },
  {
   "cell_type": "code",
   "execution_count": null,
   "metadata": {},
   "outputs": [],
   "source": [
    "def edits2(word): \n",
    "    \"All edits that are two edits away from `word`.\"\n",
    "    return (e2 for e1 in edits1(word) for e2 in edits1(e1))"
   ]
  }
 ],
 "metadata": {
  "kernelspec": {
   "display_name": "Python 3",
   "language": "python",
   "name": "python3"
  },
  "language_info": {
   "codemirror_mode": {
    "name": "ipython",
    "version": 3
   },
   "file_extension": ".py",
   "mimetype": "text/x-python",
   "name": "python",
   "nbconvert_exporter": "python",
   "pygments_lexer": "ipython3",
   "version": "3.11.2"
  },
  "orig_nbformat": 4,
  "vscode": {
   "interpreter": {
    "hash": "42fe2521991ce668210cff6e1c62959905284a5dc1077ee025bbb92f9d2c0e2e"
   }
  }
 },
 "nbformat": 4,
 "nbformat_minor": 2
}
