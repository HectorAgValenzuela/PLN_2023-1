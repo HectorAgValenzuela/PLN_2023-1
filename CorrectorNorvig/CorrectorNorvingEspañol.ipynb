{
 "cells": [
  {
   "cell_type": "code",
   "execution_count": null,
   "metadata": {},
   "outputs": [],
   "source": []
  }
 ],
 "metadata": {
  "kernelspec": {
   "display_name": "Python 3",
   "language": "python",
   "name": "python3"
  },
  "language_info": {
   "name": "python",
   "version": "3.11.2"
  },
  "orig_nbformat": 4,
  "vscode": {
   "interpreter": {
    "hash": "42fe2521991ce668210cff6e1c62959905284a5dc1077ee025bbb92f9d2c0e2e"
   }
  }
 },
 "nbformat": 4,
 "nbformat_minor": 2
}
