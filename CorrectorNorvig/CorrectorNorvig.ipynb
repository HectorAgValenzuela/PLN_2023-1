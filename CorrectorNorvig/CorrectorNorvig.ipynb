{
 "cells": [
  {
   "attachments": {},
   "cell_type": "markdown",
   "metadata": {},
   "source": [
    "# Instrucciones"
   ]
  },
  {
   "attachments": {},
   "cell_type": "markdown",
   "metadata": {},
   "source": [
    "Considera el artículo de Peter Norvig https://norvig.com/spell-correct.html.  En una libreta de Jupyter, replica el artículo considerando lo siguiente:\n",
    "Adapta la función edits1, edits2 para sin considerar la opción de \"transpose\"\n",
    "Programa una tercera función edits3\n",
    "Justifica porqué las funciones edits1, edits2 nos regresan efectivamente las palabras a \"distancia\" 1 y 2 respectivamente de una palabra dada \n",
    "* Adapta todas las funciones edits para el caso del alfabeto en español\n",
    "* Prueba tu corrector con tu propio big.txt (no olvides poner la referencia)\n",
    "* Describe con tus palabras el significado de P(w|c) y P(c|w) ¿porqué es razonable considerar a P(w|c) como el error del modelo\n",
    "* A qué se refiere Norvig en el punto 4 por \"data on spelling errors\" ¿qué tiene qué ver eso con el error del modelo?\n",
    "* Explica el procedimiento de Norvig para evaluar el modelo\n",
    "* Escribe cuidadosamente tus conclusiones\n",
    "Al igual que antes, el líder del equipo tiene que entregar la libreta corrida y la exportación a html.  "
   ]
  },
  {
   "attachments": {},
   "cell_type": "markdown",
   "metadata": {},
   "source": [
    "# Importaciones"
   ]
  },
  {
   "cell_type": "code",
   "execution_count": null,
   "metadata": {},
   "outputs": [],
   "source": [
    "import re\n",
    "from collections import Counter"
   ]
  },
  {
   "attachments": {},
   "cell_type": "markdown",
   "metadata": {},
   "source": [
    "# edits1"
   ]
  },
  {
   "cell_type": "code",
   "execution_count": 1,
   "metadata": {},
   "outputs": [],
   "source": [
    "def edits1(word):\n",
    "    \"All edits that are one edit away from `word`.\"\n",
    "    letters    = 'abcdefghijklmnopqrstuvwxyz'\n",
    "    splits     = [(word[:i], word[i:])    for i in range(len(word) + 1)]\n",
    "    deletes    = [L + R[1:]               for L, R in splits if R]\n",
    "    transposes = [L + R[1] + R[0] + R[2:] for L, R in splits if len(R)>1]\n",
    "    replaces   = [L + c + R[1:]           for L, R in splits if R for c in letters]\n",
    "    inserts    = [L + c + R               for L, R in splits for c in letters]\n",
    "    return set(deletes + transposes + replaces + inserts)"
   ]
  }
 ],
 "metadata": {
  "kernelspec": {
   "display_name": "Python 3",
   "language": "python",
   "name": "python3"
  },
  "language_info": {
   "codemirror_mode": {
    "name": "ipython",
    "version": 3
   },
   "file_extension": ".py",
   "mimetype": "text/x-python",
   "name": "python",
   "nbconvert_exporter": "python",
   "pygments_lexer": "ipython3",
   "version": "3.11.2"
  },
  "orig_nbformat": 4,
  "vscode": {
   "interpreter": {
    "hash": "42fe2521991ce668210cff6e1c62959905284a5dc1077ee025bbb92f9d2c0e2e"
   }
  }
 },
 "nbformat": 4,
 "nbformat_minor": 2
}
